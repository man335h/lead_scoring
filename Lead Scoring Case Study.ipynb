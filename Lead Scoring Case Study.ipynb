{
 "cells": [
  {
   "cell_type": "markdown",
   "id": "77ad26c4",
   "metadata": {},
   "source": [
    "# <span style=\"color:red\">Lead Scoring Case Study - Problem Statement</span>\n",
    "\n",
    "An education company named X Education sells online courses to industry professionals. Although the company generates a large number of leads, its lead conversion rate is very poor, with only around 30% of leads getting converted to paying customers. The company wishes to increase its lead conversion rate by identifying the most potential leads, also known as 'Hot Leads'. X Education has appointed a data science team to help them select the most promising leads by building a model that assigns a lead score between 0 and 100 to each of the leads. The goal is to develop a logistic regression model that can predict the likelihood of a lead converting into a paying customer, with the aim of achieving a target lead conversion rate of around 80%. The dataset provided contains various attributes of past leads, including categorical and continuous variables, as well as the target variable 'Converted', which indicates whether a lead was converted or not. The team is expected to handle categorical variables with 'Select' levels, which are as good as null values, and to address any future problems that may arise by adjusting the logistic regression model accordingly. The final output of the project will be a set of recommendations for X Education based on the developed logistic regression model."
   ]
  },
  {
   "cell_type": "markdown",
   "id": "bc6a5f2f",
   "metadata": {},
   "source": [
    "### <span style=\"color:blue\">Step 1: Understanding and loading data</span>"
   ]
  },
  {
   "cell_type": "code",
   "execution_count": 1,
   "id": "130d7b61",
   "metadata": {},
   "outputs": [],
   "source": [
    "import numpy as np\n",
    "import pandas as pd\n",
    "import matplotlib.pyplot as plt\n",
    "import seaborn as sns\n",
    "import sklearn\n",
    "\n",
    "import warnings\n",
    "warnings.filterwarnings('ignore')\n",
    "\n",
    "from sklearn.model_selection import train_test_split\n",
    "from sklearn.preprocessing import StandardScaler\n",
    "from sklearn.feature_selection import RFE\n",
    "from sklearn.linear_model import LogisticRegression\n",
    "from sklearn import metrics\n",
    "from sklearn.metrics import confusion_matrix\n",
    "from sklearn.metrics import precision_score, recall_score\n",
    "from sklearn.metrics import precision_recall_curve\n",
    "\n",
    "import statsmodels.api as sm\n",
    "from statsmodels.stats.outliers_influence import variance_inflation_factor"
   ]
  },
  {
   "cell_type": "code",
   "execution_count": 2,
   "id": "39d201c3",
   "metadata": {},
   "outputs": [
    {
     "data": {
      "text/html": [
       "<div>\n",
       "<style scoped>\n",
       "    .dataframe tbody tr th:only-of-type {\n",
       "        vertical-align: middle;\n",
       "    }\n",
       "\n",
       "    .dataframe tbody tr th {\n",
       "        vertical-align: top;\n",
       "    }\n",
       "\n",
       "    .dataframe thead th {\n",
       "        text-align: right;\n",
       "    }\n",
       "</style>\n",
       "<table border=\"1\" class=\"dataframe\">\n",
       "  <thead>\n",
       "    <tr style=\"text-align: right;\">\n",
       "      <th></th>\n",
       "      <th>Prospect ID</th>\n",
       "      <th>Lead Number</th>\n",
       "      <th>Lead Origin</th>\n",
       "      <th>Lead Source</th>\n",
       "      <th>Do Not Email</th>\n",
       "      <th>Do Not Call</th>\n",
       "      <th>Converted</th>\n",
       "      <th>TotalVisits</th>\n",
       "      <th>Total Time Spent on Website</th>\n",
       "      <th>Page Views Per Visit</th>\n",
       "      <th>Last Activity</th>\n",
       "      <th>Country</th>\n",
       "      <th>Specialization</th>\n",
       "      <th>How did you hear about X Education</th>\n",
       "      <th>What is your current occupation</th>\n",
       "      <th>What matters most to you in choosing a course</th>\n",
       "      <th>Search</th>\n",
       "      <th>Magazine</th>\n",
       "      <th>Newspaper Article</th>\n",
       "      <th>X Education Forums</th>\n",
       "      <th>Newspaper</th>\n",
       "      <th>Digital Advertisement</th>\n",
       "      <th>Through Recommendations</th>\n",
       "      <th>Receive More Updates About Our Courses</th>\n",
       "      <th>Tags</th>\n",
       "      <th>Lead Quality</th>\n",
       "      <th>Update me on Supply Chain Content</th>\n",
       "      <th>Get updates on DM Content</th>\n",
       "      <th>Lead Profile</th>\n",
       "      <th>City</th>\n",
       "      <th>Asymmetrique Activity Index</th>\n",
       "      <th>Asymmetrique Profile Index</th>\n",
       "      <th>Asymmetrique Activity Score</th>\n",
       "      <th>Asymmetrique Profile Score</th>\n",
       "      <th>I agree to pay the amount through cheque</th>\n",
       "      <th>A free copy of Mastering The Interview</th>\n",
       "      <th>Last Notable Activity</th>\n",
       "    </tr>\n",
       "  </thead>\n",
       "  <tbody>\n",
       "    <tr>\n",
       "      <th>0</th>\n",
       "      <td>7927b2df-8bba-4d29-b9a2-b6e0beafe620</td>\n",
       "      <td>660737</td>\n",
       "      <td>API</td>\n",
       "      <td>Olark Chat</td>\n",
       "      <td>No</td>\n",
       "      <td>No</td>\n",
       "      <td>0</td>\n",
       "      <td>0.0</td>\n",
       "      <td>0</td>\n",
       "      <td>0.0</td>\n",
       "      <td>Page Visited on Website</td>\n",
       "      <td>NaN</td>\n",
       "      <td>Select</td>\n",
       "      <td>Select</td>\n",
       "      <td>Unemployed</td>\n",
       "      <td>Better Career Prospects</td>\n",
       "      <td>No</td>\n",
       "      <td>No</td>\n",
       "      <td>No</td>\n",
       "      <td>No</td>\n",
       "      <td>No</td>\n",
       "      <td>No</td>\n",
       "      <td>No</td>\n",
       "      <td>No</td>\n",
       "      <td>Interested in other courses</td>\n",
       "      <td>Low in Relevance</td>\n",
       "      <td>No</td>\n",
       "      <td>No</td>\n",
       "      <td>Select</td>\n",
       "      <td>Select</td>\n",
       "      <td>02.Medium</td>\n",
       "      <td>02.Medium</td>\n",
       "      <td>15.0</td>\n",
       "      <td>15.0</td>\n",
       "      <td>No</td>\n",
       "      <td>No</td>\n",
       "      <td>Modified</td>\n",
       "    </tr>\n",
       "    <tr>\n",
       "      <th>1</th>\n",
       "      <td>2a272436-5132-4136-86fa-dcc88c88f482</td>\n",
       "      <td>660728</td>\n",
       "      <td>API</td>\n",
       "      <td>Organic Search</td>\n",
       "      <td>No</td>\n",
       "      <td>No</td>\n",
       "      <td>0</td>\n",
       "      <td>5.0</td>\n",
       "      <td>674</td>\n",
       "      <td>2.5</td>\n",
       "      <td>Email Opened</td>\n",
       "      <td>India</td>\n",
       "      <td>Select</td>\n",
       "      <td>Select</td>\n",
       "      <td>Unemployed</td>\n",
       "      <td>Better Career Prospects</td>\n",
       "      <td>No</td>\n",
       "      <td>No</td>\n",
       "      <td>No</td>\n",
       "      <td>No</td>\n",
       "      <td>No</td>\n",
       "      <td>No</td>\n",
       "      <td>No</td>\n",
       "      <td>No</td>\n",
       "      <td>Ringing</td>\n",
       "      <td>NaN</td>\n",
       "      <td>No</td>\n",
       "      <td>No</td>\n",
       "      <td>Select</td>\n",
       "      <td>Select</td>\n",
       "      <td>02.Medium</td>\n",
       "      <td>02.Medium</td>\n",
       "      <td>15.0</td>\n",
       "      <td>15.0</td>\n",
       "      <td>No</td>\n",
       "      <td>No</td>\n",
       "      <td>Email Opened</td>\n",
       "    </tr>\n",
       "    <tr>\n",
       "      <th>2</th>\n",
       "      <td>8cc8c611-a219-4f35-ad23-fdfd2656bd8a</td>\n",
       "      <td>660727</td>\n",
       "      <td>Landing Page Submission</td>\n",
       "      <td>Direct Traffic</td>\n",
       "      <td>No</td>\n",
       "      <td>No</td>\n",
       "      <td>1</td>\n",
       "      <td>2.0</td>\n",
       "      <td>1532</td>\n",
       "      <td>2.0</td>\n",
       "      <td>Email Opened</td>\n",
       "      <td>India</td>\n",
       "      <td>Business Administration</td>\n",
       "      <td>Select</td>\n",
       "      <td>Student</td>\n",
       "      <td>Better Career Prospects</td>\n",
       "      <td>No</td>\n",
       "      <td>No</td>\n",
       "      <td>No</td>\n",
       "      <td>No</td>\n",
       "      <td>No</td>\n",
       "      <td>No</td>\n",
       "      <td>No</td>\n",
       "      <td>No</td>\n",
       "      <td>Will revert after reading the email</td>\n",
       "      <td>Might be</td>\n",
       "      <td>No</td>\n",
       "      <td>No</td>\n",
       "      <td>Potential Lead</td>\n",
       "      <td>Mumbai</td>\n",
       "      <td>02.Medium</td>\n",
       "      <td>01.High</td>\n",
       "      <td>14.0</td>\n",
       "      <td>20.0</td>\n",
       "      <td>No</td>\n",
       "      <td>Yes</td>\n",
       "      <td>Email Opened</td>\n",
       "    </tr>\n",
       "    <tr>\n",
       "      <th>3</th>\n",
       "      <td>0cc2df48-7cf4-4e39-9de9-19797f9b38cc</td>\n",
       "      <td>660719</td>\n",
       "      <td>Landing Page Submission</td>\n",
       "      <td>Direct Traffic</td>\n",
       "      <td>No</td>\n",
       "      <td>No</td>\n",
       "      <td>0</td>\n",
       "      <td>1.0</td>\n",
       "      <td>305</td>\n",
       "      <td>1.0</td>\n",
       "      <td>Unreachable</td>\n",
       "      <td>India</td>\n",
       "      <td>Media and Advertising</td>\n",
       "      <td>Word Of Mouth</td>\n",
       "      <td>Unemployed</td>\n",
       "      <td>Better Career Prospects</td>\n",
       "      <td>No</td>\n",
       "      <td>No</td>\n",
       "      <td>No</td>\n",
       "      <td>No</td>\n",
       "      <td>No</td>\n",
       "      <td>No</td>\n",
       "      <td>No</td>\n",
       "      <td>No</td>\n",
       "      <td>Ringing</td>\n",
       "      <td>Not Sure</td>\n",
       "      <td>No</td>\n",
       "      <td>No</td>\n",
       "      <td>Select</td>\n",
       "      <td>Mumbai</td>\n",
       "      <td>02.Medium</td>\n",
       "      <td>01.High</td>\n",
       "      <td>13.0</td>\n",
       "      <td>17.0</td>\n",
       "      <td>No</td>\n",
       "      <td>No</td>\n",
       "      <td>Modified</td>\n",
       "    </tr>\n",
       "    <tr>\n",
       "      <th>4</th>\n",
       "      <td>3256f628-e534-4826-9d63-4a8b88782852</td>\n",
       "      <td>660681</td>\n",
       "      <td>Landing Page Submission</td>\n",
       "      <td>Google</td>\n",
       "      <td>No</td>\n",
       "      <td>No</td>\n",
       "      <td>1</td>\n",
       "      <td>2.0</td>\n",
       "      <td>1428</td>\n",
       "      <td>1.0</td>\n",
       "      <td>Converted to Lead</td>\n",
       "      <td>India</td>\n",
       "      <td>Select</td>\n",
       "      <td>Other</td>\n",
       "      <td>Unemployed</td>\n",
       "      <td>Better Career Prospects</td>\n",
       "      <td>No</td>\n",
       "      <td>No</td>\n",
       "      <td>No</td>\n",
       "      <td>No</td>\n",
       "      <td>No</td>\n",
       "      <td>No</td>\n",
       "      <td>No</td>\n",
       "      <td>No</td>\n",
       "      <td>Will revert after reading the email</td>\n",
       "      <td>Might be</td>\n",
       "      <td>No</td>\n",
       "      <td>No</td>\n",
       "      <td>Select</td>\n",
       "      <td>Mumbai</td>\n",
       "      <td>02.Medium</td>\n",
       "      <td>01.High</td>\n",
       "      <td>15.0</td>\n",
       "      <td>18.0</td>\n",
       "      <td>No</td>\n",
       "      <td>No</td>\n",
       "      <td>Modified</td>\n",
       "    </tr>\n",
       "  </tbody>\n",
       "</table>\n",
       "</div>"
      ],
      "text/plain": [
       "                            Prospect ID  Lead Number              Lead Origin  \\\n",
       "0  7927b2df-8bba-4d29-b9a2-b6e0beafe620       660737                      API   \n",
       "1  2a272436-5132-4136-86fa-dcc88c88f482       660728                      API   \n",
       "2  8cc8c611-a219-4f35-ad23-fdfd2656bd8a       660727  Landing Page Submission   \n",
       "3  0cc2df48-7cf4-4e39-9de9-19797f9b38cc       660719  Landing Page Submission   \n",
       "4  3256f628-e534-4826-9d63-4a8b88782852       660681  Landing Page Submission   \n",
       "\n",
       "      Lead Source Do Not Email Do Not Call  Converted  TotalVisits  \\\n",
       "0      Olark Chat           No          No          0          0.0   \n",
       "1  Organic Search           No          No          0          5.0   \n",
       "2  Direct Traffic           No          No          1          2.0   \n",
       "3  Direct Traffic           No          No          0          1.0   \n",
       "4          Google           No          No          1          2.0   \n",
       "\n",
       "   Total Time Spent on Website  Page Views Per Visit            Last Activity  \\\n",
       "0                            0                   0.0  Page Visited on Website   \n",
       "1                          674                   2.5             Email Opened   \n",
       "2                         1532                   2.0             Email Opened   \n",
       "3                          305                   1.0              Unreachable   \n",
       "4                         1428                   1.0        Converted to Lead   \n",
       "\n",
       "  Country           Specialization How did you hear about X Education  \\\n",
       "0     NaN                   Select                             Select   \n",
       "1   India                   Select                             Select   \n",
       "2   India  Business Administration                             Select   \n",
       "3   India    Media and Advertising                      Word Of Mouth   \n",
       "4   India                   Select                              Other   \n",
       "\n",
       "  What is your current occupation  \\\n",
       "0                      Unemployed   \n",
       "1                      Unemployed   \n",
       "2                         Student   \n",
       "3                      Unemployed   \n",
       "4                      Unemployed   \n",
       "\n",
       "  What matters most to you in choosing a course Search Magazine  \\\n",
       "0                       Better Career Prospects     No       No   \n",
       "1                       Better Career Prospects     No       No   \n",
       "2                       Better Career Prospects     No       No   \n",
       "3                       Better Career Prospects     No       No   \n",
       "4                       Better Career Prospects     No       No   \n",
       "\n",
       "  Newspaper Article X Education Forums Newspaper Digital Advertisement  \\\n",
       "0                No                 No        No                    No   \n",
       "1                No                 No        No                    No   \n",
       "2                No                 No        No                    No   \n",
       "3                No                 No        No                    No   \n",
       "4                No                 No        No                    No   \n",
       "\n",
       "  Through Recommendations Receive More Updates About Our Courses  \\\n",
       "0                      No                                     No   \n",
       "1                      No                                     No   \n",
       "2                      No                                     No   \n",
       "3                      No                                     No   \n",
       "4                      No                                     No   \n",
       "\n",
       "                                  Tags      Lead Quality  \\\n",
       "0          Interested in other courses  Low in Relevance   \n",
       "1                              Ringing               NaN   \n",
       "2  Will revert after reading the email          Might be   \n",
       "3                              Ringing          Not Sure   \n",
       "4  Will revert after reading the email          Might be   \n",
       "\n",
       "  Update me on Supply Chain Content Get updates on DM Content    Lead Profile  \\\n",
       "0                                No                        No          Select   \n",
       "1                                No                        No          Select   \n",
       "2                                No                        No  Potential Lead   \n",
       "3                                No                        No          Select   \n",
       "4                                No                        No          Select   \n",
       "\n",
       "     City Asymmetrique Activity Index Asymmetrique Profile Index  \\\n",
       "0  Select                   02.Medium                  02.Medium   \n",
       "1  Select                   02.Medium                  02.Medium   \n",
       "2  Mumbai                   02.Medium                    01.High   \n",
       "3  Mumbai                   02.Medium                    01.High   \n",
       "4  Mumbai                   02.Medium                    01.High   \n",
       "\n",
       "   Asymmetrique Activity Score  Asymmetrique Profile Score  \\\n",
       "0                         15.0                        15.0   \n",
       "1                         15.0                        15.0   \n",
       "2                         14.0                        20.0   \n",
       "3                         13.0                        17.0   \n",
       "4                         15.0                        18.0   \n",
       "\n",
       "  I agree to pay the amount through cheque  \\\n",
       "0                                       No   \n",
       "1                                       No   \n",
       "2                                       No   \n",
       "3                                       No   \n",
       "4                                       No   \n",
       "\n",
       "  A free copy of Mastering The Interview Last Notable Activity  \n",
       "0                                     No              Modified  \n",
       "1                                     No          Email Opened  \n",
       "2                                    Yes          Email Opened  \n",
       "3                                     No              Modified  \n",
       "4                                     No              Modified  "
      ]
     },
     "execution_count": 2,
     "metadata": {},
     "output_type": "execute_result"
    }
   ],
   "source": [
    "# Read the given CSV file, and view some sample records\n",
    "pd.set_option('display.max_columns', 50)\n",
    "lead_scoring = pd.read_csv('Leads.csv')\n",
    "lead_scoring.head()"
   ]
  },
  {
   "cell_type": "code",
   "execution_count": 3,
   "id": "2b7a2df8",
   "metadata": {},
   "outputs": [
    {
     "data": {
      "text/plain": [
       "(9240, 37)"
      ]
     },
     "execution_count": 3,
     "metadata": {},
     "output_type": "execute_result"
    }
   ],
   "source": [
    "#Check the shape of the dataframe\n",
    "lead_scoring.shape"
   ]
  },
  {
   "cell_type": "code",
   "execution_count": 4,
   "id": "2cf4e089",
   "metadata": {},
   "outputs": [
    {
     "name": "stdout",
     "output_type": "stream",
     "text": [
      "<class 'pandas.core.frame.DataFrame'>\n",
      "RangeIndex: 9240 entries, 0 to 9239\n",
      "Data columns (total 37 columns):\n",
      " #   Column                                         Non-Null Count  Dtype  \n",
      "---  ------                                         --------------  -----  \n",
      " 0   Prospect ID                                    9240 non-null   object \n",
      " 1   Lead Number                                    9240 non-null   int64  \n",
      " 2   Lead Origin                                    9240 non-null   object \n",
      " 3   Lead Source                                    9204 non-null   object \n",
      " 4   Do Not Email                                   9240 non-null   object \n",
      " 5   Do Not Call                                    9240 non-null   object \n",
      " 6   Converted                                      9240 non-null   int64  \n",
      " 7   TotalVisits                                    9103 non-null   float64\n",
      " 8   Total Time Spent on Website                    9240 non-null   int64  \n",
      " 9   Page Views Per Visit                           9103 non-null   float64\n",
      " 10  Last Activity                                  9137 non-null   object \n",
      " 11  Country                                        6779 non-null   object \n",
      " 12  Specialization                                 7802 non-null   object \n",
      " 13  How did you hear about X Education             7033 non-null   object \n",
      " 14  What is your current occupation                6550 non-null   object \n",
      " 15  What matters most to you in choosing a course  6531 non-null   object \n",
      " 16  Search                                         9240 non-null   object \n",
      " 17  Magazine                                       9240 non-null   object \n",
      " 18  Newspaper Article                              9240 non-null   object \n",
      " 19  X Education Forums                             9240 non-null   object \n",
      " 20  Newspaper                                      9240 non-null   object \n",
      " 21  Digital Advertisement                          9240 non-null   object \n",
      " 22  Through Recommendations                        9240 non-null   object \n",
      " 23  Receive More Updates About Our Courses         9240 non-null   object \n",
      " 24  Tags                                           5887 non-null   object \n",
      " 25  Lead Quality                                   4473 non-null   object \n",
      " 26  Update me on Supply Chain Content              9240 non-null   object \n",
      " 27  Get updates on DM Content                      9240 non-null   object \n",
      " 28  Lead Profile                                   6531 non-null   object \n",
      " 29  City                                           7820 non-null   object \n",
      " 30  Asymmetrique Activity Index                    5022 non-null   object \n",
      " 31  Asymmetrique Profile Index                     5022 non-null   object \n",
      " 32  Asymmetrique Activity Score                    5022 non-null   float64\n",
      " 33  Asymmetrique Profile Score                     5022 non-null   float64\n",
      " 34  I agree to pay the amount through cheque       9240 non-null   object \n",
      " 35  A free copy of Mastering The Interview         9240 non-null   object \n",
      " 36  Last Notable Activity                          9240 non-null   object \n",
      "dtypes: float64(4), int64(3), object(30)\n",
      "memory usage: 2.6+ MB\n"
     ]
    }
   ],
   "source": [
    "#Check the datatypes of all the columns of the dataframe\n",
    "lead_scoring.info()"
   ]
  },
  {
   "cell_type": "markdown",
   "id": "d0cddaf0",
   "metadata": {},
   "source": [
    "### <span style=\"color:blue\">Step 2: Check for missing data</span>"
   ]
  },
  {
   "cell_type": "code",
   "execution_count": 5,
   "id": "7665aa33",
   "metadata": {},
   "outputs": [
    {
     "data": {
      "text/plain": [
       "Prospect ID                                         0\n",
       "Lead Number                                         0\n",
       "Lead Origin                                         0\n",
       "Lead Source                                        36\n",
       "Do Not Email                                        0\n",
       "Do Not Call                                         0\n",
       "Converted                                           0\n",
       "TotalVisits                                       137\n",
       "Total Time Spent on Website                         0\n",
       "Page Views Per Visit                              137\n",
       "Last Activity                                     103\n",
       "Country                                          2461\n",
       "Specialization                                   1438\n",
       "How did you hear about X Education               2207\n",
       "What is your current occupation                  2690\n",
       "What matters most to you in choosing a course    2709\n",
       "Search                                              0\n",
       "Magazine                                            0\n",
       "Newspaper Article                                   0\n",
       "X Education Forums                                  0\n",
       "Newspaper                                           0\n",
       "Digital Advertisement                               0\n",
       "Through Recommendations                             0\n",
       "Receive More Updates About Our Courses              0\n",
       "Tags                                             3353\n",
       "Lead Quality                                     4767\n",
       "Update me on Supply Chain Content                   0\n",
       "Get updates on DM Content                           0\n",
       "Lead Profile                                     2709\n",
       "City                                             1420\n",
       "Asymmetrique Activity Index                      4218\n",
       "Asymmetrique Profile Index                       4218\n",
       "Asymmetrique Activity Score                      4218\n",
       "Asymmetrique Profile Score                       4218\n",
       "I agree to pay the amount through cheque            0\n",
       "A free copy of Mastering The Interview              0\n",
       "Last Notable Activity                               0\n",
       "dtype: int64"
      ]
     },
     "execution_count": 5,
     "metadata": {},
     "output_type": "execute_result"
    }
   ],
   "source": [
    "#Check the number of null values in the columns\n",
    "lead_scoring.isnull().sum()"
   ]
  },
  {
   "cell_type": "code",
   "execution_count": 6,
   "id": "2b96a892",
   "metadata": {},
   "outputs": [
    {
     "data": {
      "text/plain": [
       "Prospect ID                                       0.00\n",
       "Lead Number                                       0.00\n",
       "Lead Origin                                       0.00\n",
       "Lead Source                                       0.39\n",
       "Do Not Email                                      0.00\n",
       "Do Not Call                                       0.00\n",
       "Converted                                         0.00\n",
       "TotalVisits                                       1.48\n",
       "Total Time Spent on Website                       0.00\n",
       "Page Views Per Visit                              1.48\n",
       "Last Activity                                     1.11\n",
       "Country                                          26.63\n",
       "Specialization                                   15.56\n",
       "How did you hear about X Education               23.89\n",
       "What is your current occupation                  29.11\n",
       "What matters most to you in choosing a course    29.32\n",
       "Search                                            0.00\n",
       "Magazine                                          0.00\n",
       "Newspaper Article                                 0.00\n",
       "X Education Forums                                0.00\n",
       "Newspaper                                         0.00\n",
       "Digital Advertisement                             0.00\n",
       "Through Recommendations                           0.00\n",
       "Receive More Updates About Our Courses            0.00\n",
       "Tags                                             36.29\n",
       "Lead Quality                                     51.59\n",
       "Update me on Supply Chain Content                 0.00\n",
       "Get updates on DM Content                         0.00\n",
       "Lead Profile                                     29.32\n",
       "City                                             15.37\n",
       "Asymmetrique Activity Index                      45.65\n",
       "Asymmetrique Profile Index                       45.65\n",
       "Asymmetrique Activity Score                      45.65\n",
       "Asymmetrique Profile Score                       45.65\n",
       "I agree to pay the amount through cheque          0.00\n",
       "A free copy of Mastering The Interview            0.00\n",
       "Last Notable Activity                             0.00\n",
       "dtype: float64"
      ]
     },
     "execution_count": 6,
     "metadata": {},
     "output_type": "execute_result"
    }
   ],
   "source": [
    "# Percentage of null values\n",
    "round(100*(lead_scoring.isnull().sum())/len(lead_scoring.index),2)"
   ]
  },
  {
   "cell_type": "code",
   "execution_count": 7,
   "id": "952d120f",
   "metadata": {},
   "outputs": [
    {
     "data": {
      "text/plain": [
       "Prospect ID                                       0.00\n",
       "Lead Number                                       0.00\n",
       "Lead Origin                                       0.00\n",
       "Lead Source                                       0.39\n",
       "Do Not Email                                      0.00\n",
       "Do Not Call                                       0.00\n",
       "Converted                                         0.00\n",
       "TotalVisits                                       1.48\n",
       "Total Time Spent on Website                       0.00\n",
       "Page Views Per Visit                              1.48\n",
       "Last Activity                                     1.11\n",
       "Country                                          26.63\n",
       "Specialization                                   15.56\n",
       "How did you hear about X Education               23.89\n",
       "What is your current occupation                  29.11\n",
       "What matters most to you in choosing a course    29.32\n",
       "Search                                            0.00\n",
       "Magazine                                          0.00\n",
       "Newspaper Article                                 0.00\n",
       "X Education Forums                                0.00\n",
       "Newspaper                                         0.00\n",
       "Digital Advertisement                             0.00\n",
       "Through Recommendations                           0.00\n",
       "Receive More Updates About Our Courses            0.00\n",
       "Tags                                             36.29\n",
       "Update me on Supply Chain Content                 0.00\n",
       "Get updates on DM Content                         0.00\n",
       "Lead Profile                                     29.32\n",
       "City                                             15.37\n",
       "I agree to pay the amount through cheque          0.00\n",
       "A free copy of Mastering The Interview            0.00\n",
       "Last Notable Activity                             0.00\n",
       "dtype: float64"
      ]
     },
     "execution_count": 7,
     "metadata": {},
     "output_type": "execute_result"
    }
   ],
   "source": [
    "# calculate the threshold for dropping columns\n",
    "threshold = 0.45 * len(lead_scoring)\n",
    "\n",
    "# drop columns with more than 45% missing values\n",
    "lead_scoring = lead_scoring.dropna(thresh=len(lead_scoring)-threshold, axis=1)\n",
    "\n",
    "round(100*(lead_scoring.isnull().sum())/len(lead_scoring.index),2)"
   ]
  },
  {
   "cell_type": "code",
   "execution_count": 8,
   "id": "e9c0c349",
   "metadata": {},
   "outputs": [
    {
     "name": "stdout",
     "output_type": "stream",
     "text": [
      "0\n"
     ]
    }
   ],
   "source": [
    "# Look for any rows that are exact duplicates of each other, and delete them if necessary\n",
    "print(lead_scoring.duplicated().sum())"
   ]
  },
  {
   "cell_type": "markdown",
   "id": "6433d021",
   "metadata": {},
   "source": [
    "### <span style=\"color:blue\">Step 3: Remove unnecessary columns</span>"
   ]
  },
  {
   "cell_type": "code",
   "execution_count": 9,
   "id": "b28f456d",
   "metadata": {},
   "outputs": [
    {
     "data": {
      "text/html": [
       "<div>\n",
       "<style scoped>\n",
       "    .dataframe tbody tr th:only-of-type {\n",
       "        vertical-align: middle;\n",
       "    }\n",
       "\n",
       "    .dataframe tbody tr th {\n",
       "        vertical-align: top;\n",
       "    }\n",
       "\n",
       "    .dataframe thead th {\n",
       "        text-align: right;\n",
       "    }\n",
       "</style>\n",
       "<table border=\"1\" class=\"dataframe\">\n",
       "  <thead>\n",
       "    <tr style=\"text-align: right;\">\n",
       "      <th></th>\n",
       "      <th>Lead Origin</th>\n",
       "      <th>Lead Source</th>\n",
       "      <th>Do Not Email</th>\n",
       "      <th>Do Not Call</th>\n",
       "      <th>Converted</th>\n",
       "      <th>TotalVisits</th>\n",
       "      <th>Total Time Spent on Website</th>\n",
       "      <th>Page Views Per Visit</th>\n",
       "      <th>Last Activity</th>\n",
       "      <th>Country</th>\n",
       "      <th>Specialization</th>\n",
       "      <th>How did you hear about X Education</th>\n",
       "      <th>What is your current occupation</th>\n",
       "      <th>What matters most to you in choosing a course</th>\n",
       "      <th>Search</th>\n",
       "      <th>Magazine</th>\n",
       "      <th>Newspaper Article</th>\n",
       "      <th>X Education Forums</th>\n",
       "      <th>Newspaper</th>\n",
       "      <th>Digital Advertisement</th>\n",
       "      <th>Through Recommendations</th>\n",
       "      <th>Receive More Updates About Our Courses</th>\n",
       "      <th>Tags</th>\n",
       "      <th>Update me on Supply Chain Content</th>\n",
       "      <th>Get updates on DM Content</th>\n",
       "      <th>Lead Profile</th>\n",
       "      <th>City</th>\n",
       "      <th>I agree to pay the amount through cheque</th>\n",
       "      <th>A free copy of Mastering The Interview</th>\n",
       "      <th>Last Notable Activity</th>\n",
       "    </tr>\n",
       "  </thead>\n",
       "  <tbody>\n",
       "    <tr>\n",
       "      <th>0</th>\n",
       "      <td>API</td>\n",
       "      <td>Olark Chat</td>\n",
       "      <td>No</td>\n",
       "      <td>No</td>\n",
       "      <td>0</td>\n",
       "      <td>0.0</td>\n",
       "      <td>0</td>\n",
       "      <td>0.0</td>\n",
       "      <td>Page Visited on Website</td>\n",
       "      <td>NaN</td>\n",
       "      <td>Select</td>\n",
       "      <td>Select</td>\n",
       "      <td>Unemployed</td>\n",
       "      <td>Better Career Prospects</td>\n",
       "      <td>No</td>\n",
       "      <td>No</td>\n",
       "      <td>No</td>\n",
       "      <td>No</td>\n",
       "      <td>No</td>\n",
       "      <td>No</td>\n",
       "      <td>No</td>\n",
       "      <td>No</td>\n",
       "      <td>Interested in other courses</td>\n",
       "      <td>No</td>\n",
       "      <td>No</td>\n",
       "      <td>Select</td>\n",
       "      <td>Select</td>\n",
       "      <td>No</td>\n",
       "      <td>No</td>\n",
       "      <td>Modified</td>\n",
       "    </tr>\n",
       "    <tr>\n",
       "      <th>1</th>\n",
       "      <td>API</td>\n",
       "      <td>Organic Search</td>\n",
       "      <td>No</td>\n",
       "      <td>No</td>\n",
       "      <td>0</td>\n",
       "      <td>5.0</td>\n",
       "      <td>674</td>\n",
       "      <td>2.5</td>\n",
       "      <td>Email Opened</td>\n",
       "      <td>India</td>\n",
       "      <td>Select</td>\n",
       "      <td>Select</td>\n",
       "      <td>Unemployed</td>\n",
       "      <td>Better Career Prospects</td>\n",
       "      <td>No</td>\n",
       "      <td>No</td>\n",
       "      <td>No</td>\n",
       "      <td>No</td>\n",
       "      <td>No</td>\n",
       "      <td>No</td>\n",
       "      <td>No</td>\n",
       "      <td>No</td>\n",
       "      <td>Ringing</td>\n",
       "      <td>No</td>\n",
       "      <td>No</td>\n",
       "      <td>Select</td>\n",
       "      <td>Select</td>\n",
       "      <td>No</td>\n",
       "      <td>No</td>\n",
       "      <td>Email Opened</td>\n",
       "    </tr>\n",
       "    <tr>\n",
       "      <th>2</th>\n",
       "      <td>Landing Page Submission</td>\n",
       "      <td>Direct Traffic</td>\n",
       "      <td>No</td>\n",
       "      <td>No</td>\n",
       "      <td>1</td>\n",
       "      <td>2.0</td>\n",
       "      <td>1532</td>\n",
       "      <td>2.0</td>\n",
       "      <td>Email Opened</td>\n",
       "      <td>India</td>\n",
       "      <td>Business Administration</td>\n",
       "      <td>Select</td>\n",
       "      <td>Student</td>\n",
       "      <td>Better Career Prospects</td>\n",
       "      <td>No</td>\n",
       "      <td>No</td>\n",
       "      <td>No</td>\n",
       "      <td>No</td>\n",
       "      <td>No</td>\n",
       "      <td>No</td>\n",
       "      <td>No</td>\n",
       "      <td>No</td>\n",
       "      <td>Will revert after reading the email</td>\n",
       "      <td>No</td>\n",
       "      <td>No</td>\n",
       "      <td>Potential Lead</td>\n",
       "      <td>Mumbai</td>\n",
       "      <td>No</td>\n",
       "      <td>Yes</td>\n",
       "      <td>Email Opened</td>\n",
       "    </tr>\n",
       "    <tr>\n",
       "      <th>3</th>\n",
       "      <td>Landing Page Submission</td>\n",
       "      <td>Direct Traffic</td>\n",
       "      <td>No</td>\n",
       "      <td>No</td>\n",
       "      <td>0</td>\n",
       "      <td>1.0</td>\n",
       "      <td>305</td>\n",
       "      <td>1.0</td>\n",
       "      <td>Unreachable</td>\n",
       "      <td>India</td>\n",
       "      <td>Media and Advertising</td>\n",
       "      <td>Word Of Mouth</td>\n",
       "      <td>Unemployed</td>\n",
       "      <td>Better Career Prospects</td>\n",
       "      <td>No</td>\n",
       "      <td>No</td>\n",
       "      <td>No</td>\n",
       "      <td>No</td>\n",
       "      <td>No</td>\n",
       "      <td>No</td>\n",
       "      <td>No</td>\n",
       "      <td>No</td>\n",
       "      <td>Ringing</td>\n",
       "      <td>No</td>\n",
       "      <td>No</td>\n",
       "      <td>Select</td>\n",
       "      <td>Mumbai</td>\n",
       "      <td>No</td>\n",
       "      <td>No</td>\n",
       "      <td>Modified</td>\n",
       "    </tr>\n",
       "    <tr>\n",
       "      <th>4</th>\n",
       "      <td>Landing Page Submission</td>\n",
       "      <td>Google</td>\n",
       "      <td>No</td>\n",
       "      <td>No</td>\n",
       "      <td>1</td>\n",
       "      <td>2.0</td>\n",
       "      <td>1428</td>\n",
       "      <td>1.0</td>\n",
       "      <td>Converted to Lead</td>\n",
       "      <td>India</td>\n",
       "      <td>Select</td>\n",
       "      <td>Other</td>\n",
       "      <td>Unemployed</td>\n",
       "      <td>Better Career Prospects</td>\n",
       "      <td>No</td>\n",
       "      <td>No</td>\n",
       "      <td>No</td>\n",
       "      <td>No</td>\n",
       "      <td>No</td>\n",
       "      <td>No</td>\n",
       "      <td>No</td>\n",
       "      <td>No</td>\n",
       "      <td>Will revert after reading the email</td>\n",
       "      <td>No</td>\n",
       "      <td>No</td>\n",
       "      <td>Select</td>\n",
       "      <td>Mumbai</td>\n",
       "      <td>No</td>\n",
       "      <td>No</td>\n",
       "      <td>Modified</td>\n",
       "    </tr>\n",
       "  </tbody>\n",
       "</table>\n",
       "</div>"
      ],
      "text/plain": [
       "               Lead Origin     Lead Source Do Not Email Do Not Call  \\\n",
       "0                      API      Olark Chat           No          No   \n",
       "1                      API  Organic Search           No          No   \n",
       "2  Landing Page Submission  Direct Traffic           No          No   \n",
       "3  Landing Page Submission  Direct Traffic           No          No   \n",
       "4  Landing Page Submission          Google           No          No   \n",
       "\n",
       "   Converted  TotalVisits  Total Time Spent on Website  Page Views Per Visit  \\\n",
       "0          0          0.0                            0                   0.0   \n",
       "1          0          5.0                          674                   2.5   \n",
       "2          1          2.0                         1532                   2.0   \n",
       "3          0          1.0                          305                   1.0   \n",
       "4          1          2.0                         1428                   1.0   \n",
       "\n",
       "             Last Activity Country           Specialization  \\\n",
       "0  Page Visited on Website     NaN                   Select   \n",
       "1             Email Opened   India                   Select   \n",
       "2             Email Opened   India  Business Administration   \n",
       "3              Unreachable   India    Media and Advertising   \n",
       "4        Converted to Lead   India                   Select   \n",
       "\n",
       "  How did you hear about X Education What is your current occupation  \\\n",
       "0                             Select                      Unemployed   \n",
       "1                             Select                      Unemployed   \n",
       "2                             Select                         Student   \n",
       "3                      Word Of Mouth                      Unemployed   \n",
       "4                              Other                      Unemployed   \n",
       "\n",
       "  What matters most to you in choosing a course Search Magazine  \\\n",
       "0                       Better Career Prospects     No       No   \n",
       "1                       Better Career Prospects     No       No   \n",
       "2                       Better Career Prospects     No       No   \n",
       "3                       Better Career Prospects     No       No   \n",
       "4                       Better Career Prospects     No       No   \n",
       "\n",
       "  Newspaper Article X Education Forums Newspaper Digital Advertisement  \\\n",
       "0                No                 No        No                    No   \n",
       "1                No                 No        No                    No   \n",
       "2                No                 No        No                    No   \n",
       "3                No                 No        No                    No   \n",
       "4                No                 No        No                    No   \n",
       "\n",
       "  Through Recommendations Receive More Updates About Our Courses  \\\n",
       "0                      No                                     No   \n",
       "1                      No                                     No   \n",
       "2                      No                                     No   \n",
       "3                      No                                     No   \n",
       "4                      No                                     No   \n",
       "\n",
       "                                  Tags Update me on Supply Chain Content  \\\n",
       "0          Interested in other courses                                No   \n",
       "1                              Ringing                                No   \n",
       "2  Will revert after reading the email                                No   \n",
       "3                              Ringing                                No   \n",
       "4  Will revert after reading the email                                No   \n",
       "\n",
       "  Get updates on DM Content    Lead Profile    City  \\\n",
       "0                        No          Select  Select   \n",
       "1                        No          Select  Select   \n",
       "2                        No  Potential Lead  Mumbai   \n",
       "3                        No          Select  Mumbai   \n",
       "4                        No          Select  Mumbai   \n",
       "\n",
       "  I agree to pay the amount through cheque  \\\n",
       "0                                       No   \n",
       "1                                       No   \n",
       "2                                       No   \n",
       "3                                       No   \n",
       "4                                       No   \n",
       "\n",
       "  A free copy of Mastering The Interview Last Notable Activity  \n",
       "0                                     No              Modified  \n",
       "1                                     No          Email Opened  \n",
       "2                                    Yes          Email Opened  \n",
       "3                                     No              Modified  \n",
       "4                                     No              Modified  "
      ]
     },
     "execution_count": 9,
     "metadata": {},
     "output_type": "execute_result"
    }
   ],
   "source": [
    "# Columns Prospect ID and Lead Number seem to be references and nothing more so they can be dropped\n",
    "lead_scoring.drop(['Prospect ID', 'Lead Number'], axis=1, inplace=True)\n",
    "lead_scoring.head()"
   ]
  },
  {
   "cell_type": "code",
   "execution_count": 10,
   "id": "f8f68281",
   "metadata": {},
   "outputs": [
    {
     "data": {
      "text/plain": [
       "Lead Origin                                         5\n",
       "Lead Source                                        21\n",
       "Do Not Email                                        2\n",
       "Do Not Call                                         2\n",
       "Converted                                           2\n",
       "TotalVisits                                        41\n",
       "Total Time Spent on Website                      1731\n",
       "Page Views Per Visit                              114\n",
       "Last Activity                                      17\n",
       "Country                                            38\n",
       "Specialization                                     19\n",
       "How did you hear about X Education                 10\n",
       "What is your current occupation                     6\n",
       "What matters most to you in choosing a course       3\n",
       "Search                                              2\n",
       "Magazine                                            1\n",
       "Newspaper Article                                   2\n",
       "X Education Forums                                  2\n",
       "Newspaper                                           2\n",
       "Digital Advertisement                               2\n",
       "Through Recommendations                             2\n",
       "Receive More Updates About Our Courses              1\n",
       "Tags                                               26\n",
       "Update me on Supply Chain Content                   1\n",
       "Get updates on DM Content                           1\n",
       "Lead Profile                                        6\n",
       "City                                                7\n",
       "I agree to pay the amount through cheque            1\n",
       "A free copy of Mastering The Interview              2\n",
       "Last Notable Activity                              16\n",
       "dtype: int64"
      ]
     },
     "execution_count": 10,
     "metadata": {},
     "output_type": "execute_result"
    }
   ],
   "source": [
    "# Checking the uniqueness of the data\n",
    "lead_scoring.nunique()"
   ]
  },
  {
   "cell_type": "code",
   "execution_count": 11,
   "id": "5c32d921",
   "metadata": {},
   "outputs": [
    {
     "data": {
      "text/plain": [
       "Lead Origin                                         5\n",
       "Lead Source                                        21\n",
       "Do Not Email                                        2\n",
       "Do Not Call                                         2\n",
       "Converted                                           2\n",
       "TotalVisits                                        41\n",
       "Total Time Spent on Website                      1731\n",
       "Page Views Per Visit                              114\n",
       "Last Activity                                      17\n",
       "Country                                            38\n",
       "Specialization                                     19\n",
       "How did you hear about X Education                 10\n",
       "What is your current occupation                     6\n",
       "What matters most to you in choosing a course       3\n",
       "Search                                              2\n",
       "Newspaper Article                                   2\n",
       "X Education Forums                                  2\n",
       "Newspaper                                           2\n",
       "Digital Advertisement                               2\n",
       "Through Recommendations                             2\n",
       "Tags                                               26\n",
       "Lead Profile                                        6\n",
       "City                                                7\n",
       "A free copy of Mastering The Interview              2\n",
       "Last Notable Activity                              16\n",
       "dtype: int64"
      ]
     },
     "execution_count": 11,
     "metadata": {},
     "output_type": "execute_result"
    }
   ],
   "source": [
    "# Dropping columns where there is a single value as that won't help in the analysis\n",
    "lead_scoring = lead_scoring.loc[:, lead_scoring.nunique() != 1]\n",
    "lead_scoring.nunique()"
   ]
  },
  {
   "cell_type": "code",
   "execution_count": 12,
   "id": "f7624701",
   "metadata": {},
   "outputs": [
    {
     "data": {
      "text/plain": [
       "Tags                                             36.29\n",
       "Lead Profile                                     29.32\n",
       "What matters most to you in choosing a course    29.32\n",
       "What is your current occupation                  29.11\n",
       "Country                                          26.63\n",
       "How did you hear about X Education               23.89\n",
       "Specialization                                   15.56\n",
       "City                                             15.37\n",
       "TotalVisits                                       1.48\n",
       "Page Views Per Visit                              1.48\n",
       "Last Activity                                     1.11\n",
       "Lead Source                                       0.39\n",
       "Newspaper                                         0.00\n",
       "A free copy of Mastering The Interview            0.00\n",
       "Through Recommendations                           0.00\n",
       "Digital Advertisement                             0.00\n",
       "Lead Origin                                       0.00\n",
       "X Education Forums                                0.00\n",
       "Newspaper Article                                 0.00\n",
       "Search                                            0.00\n",
       "Total Time Spent on Website                       0.00\n",
       "Converted                                         0.00\n",
       "Do Not Call                                       0.00\n",
       "Do Not Email                                      0.00\n",
       "Last Notable Activity                             0.00\n",
       "dtype: float64"
      ]
     },
     "execution_count": 12,
     "metadata": {},
     "output_type": "execute_result"
    }
   ],
   "source": [
    "round(100*(lead_scoring.isnull().sum())/len(lead_scoring.index),2).sort_values(ascending=False)"
   ]
  },
  {
   "cell_type": "markdown",
   "id": "d2e8266d",
   "metadata": {},
   "source": [
    "#### Tags, Lead Profile, What matters most to you in choosing a course, What is your current occupation, Country, How did you hear about X Education: Since these columns have a high percentage of null values (ranging from 23.89% to 36.29%), dropping them may result in a significant loss of data. The approach we could take is to fill these null values with a value such as \"Not provided\" or \"Unknown\"."
   ]
  },
  {
   "cell_type": "code",
   "execution_count": 13,
   "id": "44673973",
   "metadata": {},
   "outputs": [],
   "source": [
    "lead_scoring['Tags'] = lead_scoring['Tags'].fillna('Not provided')\n",
    "lead_scoring['Lead Profile'] = lead_scoring['Lead Profile'].fillna('Not provided')\n",
    "lead_scoring['What matters most to you in choosing a course'] = lead_scoring['What matters most to you in choosing a course'].fillna('Not provided')\n",
    "lead_scoring['What is your current occupation'] = lead_scoring['What is your current occupation'].fillna('Not provided')\n",
    "lead_scoring['Country'] = lead_scoring['Country'].fillna('Unknown')\n",
    "lead_scoring['How did you hear about X Education'] = lead_scoring['How did you hear about X Education'].fillna('Not provided')"
   ]
  },
  {
   "cell_type": "markdown",
   "id": "d7f75d24",
   "metadata": {},
   "source": [
    "#### Specialization, City: Since these columns have a moderate percentage of null values (ranging from 15.37% to 15.56%), filling the null values with the mode or median could be a good approach."
   ]
  },
  {
   "cell_type": "code",
   "execution_count": 14,
   "id": "2cfb720c",
   "metadata": {},
   "outputs": [],
   "source": [
    "lead_scoring['Specialization'].fillna(lead_scoring['Specialization'].mode()[0], inplace=True)\n",
    "lead_scoring['City'].fillna(lead_scoring['City'].mode()[0], inplace=True)\n",
    "lead_scoring['TotalVisits'].fillna(lead_scoring['TotalVisits'].median(), inplace=True)\n",
    "lead_scoring['Page Views Per Visit'].fillna(lead_scoring['Page Views Per Visit'].median(), inplace=True)"
   ]
  },
  {
   "cell_type": "markdown",
   "id": "c6169888",
   "metadata": {},
   "source": [
    "#### TotalVisits, Page Views Per Visit, Last Activity: Since these columns have a low percentage of null values (ranging from 1.11% to 1.48%), we can safely drop the rows containing missing values."
   ]
  },
  {
   "cell_type": "code",
   "execution_count": 15,
   "id": "ec897d0f",
   "metadata": {},
   "outputs": [],
   "source": [
    "lead_scoring.dropna(subset=['TotalVisits', 'Page Views Per Visit', 'Last Activity', 'Lead Source'], inplace=True)"
   ]
  },
  {
   "cell_type": "code",
   "execution_count": 16,
   "id": "c39e4e89",
   "metadata": {},
   "outputs": [
    {
     "data": {
      "text/plain": [
       "Lead Origin                                      0.0\n",
       "What matters most to you in choosing a course    0.0\n",
       "A free copy of Mastering The Interview           0.0\n",
       "City                                             0.0\n",
       "Lead Profile                                     0.0\n",
       "Tags                                             0.0\n",
       "Through Recommendations                          0.0\n",
       "Digital Advertisement                            0.0\n",
       "Newspaper                                        0.0\n",
       "X Education Forums                               0.0\n",
       "Newspaper Article                                0.0\n",
       "Search                                           0.0\n",
       "What is your current occupation                  0.0\n",
       "Lead Source                                      0.0\n",
       "How did you hear about X Education               0.0\n",
       "Specialization                                   0.0\n",
       "Country                                          0.0\n",
       "Last Activity                                    0.0\n",
       "Page Views Per Visit                             0.0\n",
       "Total Time Spent on Website                      0.0\n",
       "TotalVisits                                      0.0\n",
       "Converted                                        0.0\n",
       "Do Not Call                                      0.0\n",
       "Do Not Email                                     0.0\n",
       "Last Notable Activity                            0.0\n",
       "dtype: float64"
      ]
     },
     "execution_count": 16,
     "metadata": {},
     "output_type": "execute_result"
    }
   ],
   "source": [
    "round(100*(lead_scoring.isnull().sum())/len(lead_scoring.index),2).sort_values(ascending=False)"
   ]
  },
  {
   "cell_type": "markdown",
   "id": "f43b5e5e",
   "metadata": {},
   "source": [
    "### <span style=\"color:blue\">Step 4: Exploring the data</span>"
   ]
  },
  {
   "cell_type": "code",
   "execution_count": 17,
   "id": "79ecfce8",
   "metadata": {},
   "outputs": [
    {
     "data": {
      "text/plain": [
       "Google               2868\n",
       "Direct Traffic       2543\n",
       "Olark Chat           1755\n",
       "Organic Search       1154\n",
       "Reference             462\n",
       "Welingak Website      129\n",
       "Referral Sites        125\n",
       "Facebook               39\n",
       "bing                    6\n",
       "google                  5\n",
       "Click2call              4\n",
       "Press_Release           2\n",
       "Social Media            2\n",
       "Live Chat               2\n",
       "youtubechannel          1\n",
       "testone                 1\n",
       "Pay per Click Ads       1\n",
       "welearnblog_Home        1\n",
       "WeLearn                 1\n",
       "blog                    1\n",
       "NC_EDM                  1\n",
       "Name: Lead Source, dtype: int64"
      ]
     },
     "execution_count": 17,
     "metadata": {},
     "output_type": "execute_result"
    }
   ],
   "source": [
    "lead_scoring['Lead Source'].value_counts()"
   ]
  },
  {
   "cell_type": "code",
   "execution_count": 18,
   "id": "18bb2672",
   "metadata": {},
   "outputs": [
    {
     "data": {
      "text/plain": [
       "Google               2873\n",
       "Direct Traffic       2543\n",
       "Olark Chat           1755\n",
       "Organic Search       1154\n",
       "Reference             462\n",
       "Welingak Website      129\n",
       "Referral Sites        125\n",
       "Facebook               39\n",
       "bing                    6\n",
       "Click2call              4\n",
       "Social Media            2\n",
       "Live Chat               2\n",
       "Press_Release           2\n",
       "Pay per Click Ads       1\n",
       "blog                    1\n",
       "WeLearn                 1\n",
       "welearnblog_Home        1\n",
       "youtubechannel          1\n",
       "testone                 1\n",
       "NC_EDM                  1\n",
       "Name: Lead Source, dtype: int64"
      ]
     },
     "execution_count": 18,
     "metadata": {},
     "output_type": "execute_result"
    }
   ],
   "source": [
    "# Here, we need to fist combine together the different spelling formats\n",
    "lead_scoring['Lead Source'] = lead_scoring['Lead Source'].replace('google', 'Google')\n",
    "lead_scoring['Lead Source'].value_counts()"
   ]
  },
  {
   "cell_type": "code",
   "execution_count": 19,
   "id": "4be2aca6",
   "metadata": {},
   "outputs": [
    {
     "data": {
      "text/plain": [
       "Google              2873\n",
       "Direct Traffic      2543\n",
       "Olark Chat          1755\n",
       "Organic Search      1154\n",
       "Reference            462\n",
       "Other                187\n",
       "Welingak Website     129\n",
       "Name: Lead Source, dtype: int64"
      ]
     },
     "execution_count": 19,
     "metadata": {},
     "output_type": "execute_result"
    }
   ],
   "source": [
    "# Define a list of less frequent values\n",
    "less_frequent = ['Referral Sites', 'Facebook', 'bing', 'Click2call', 'Press_Release', 'Social Media', 'Live Chat', 'youtubechannel', 'testone', 'Pay per Click Ads', 'welearnblog_Home', 'WeLearn', 'blog', 'NC_EDM']\n",
    "\n",
    "# Replace these less frequent values with 'Other'\n",
    "lead_scoring['Lead Source'] = lead_scoring['Lead Source'].replace(less_frequent, 'Other')\n",
    "lead_scoring['Lead Source'].value_counts()"
   ]
  },
  {
   "cell_type": "code",
   "execution_count": 20,
   "id": "99c9bc11",
   "metadata": {},
   "outputs": [
    {
     "data": {
      "image/png": "[encoded data removed]",
      "text/plain": [
       "<Figure size 864x432 with 1 Axes>"
      ]
     },
     "metadata": {
      "needs_background": "light"
     },
     "output_type": "display_data"
    }
   ],
   "source": [
    "plt.figure(figsize=(12,6))\n",
    "sns.set(style=\"whitegrid\")\n",
    "\n",
    "sns.countplot(x='Lead Source', hue='Converted', data=lead_scoring, order=lead_scoring['Lead Source'].value_counts().index.sort_values(ascending=True))\n",
    "\n",
    "plt.title(\"Distribution of Lead Sources by Conversion Status\")\n",
    "plt.xlabel(\"Lead Source\")\n",
    "plt.ylabel(\"Count\")\n",
    "plt.show()"
   ]
  },
  {
   "cell_type": "markdown",
   "id": "9b8e4ce4",
   "metadata": {},
   "source": [
    "#### <span style=\"color:green\">Finding:</span>\n",
    "- References and Welingak Website have the highest conversion\n",
    "- Olark Chat and Direct Traffic have a high number of leads but poor conversion\n",
    "- Focus should be on increasing the conversion on the aforementioned websites\n",
    "- Also, leads to Welingak Website should be increased\n",
    "- References can be made more lucrative"
   ]
  },
  {
   "cell_type": "code",
   "execution_count": 21,
   "id": "be441631",
   "metadata": {},
   "outputs": [
    {
     "data": {
      "text/plain": [
       "count    9103.000000\n",
       "mean      483.773921\n",
       "std       545.519186\n",
       "min         0.000000\n",
       "25%        12.000000\n",
       "50%       247.000000\n",
       "75%       924.000000\n",
       "max      2272.000000\n",
       "Name: Total Time Spent on Website, dtype: float64"
      ]
     },
     "execution_count": 21,
     "metadata": {},
     "output_type": "execute_result"
    }
   ],
   "source": [
    "lead_scoring['Total Time Spent on Website'].describe()"
   ]
  },
  {
   "cell_type": "code",
   "execution_count": 22,
   "id": "95613641",
   "metadata": {},
   "outputs": [
    {
     "data": {
      "image/png": "[encoded data removed]",
      "text/plain": [
       "<Figure size 432x288 with 1 Axes>"
      ]
     },
     "metadata": {},
     "output_type": "display_data"
    }
   ],
   "source": [
    "non_zero_total_time = lead_scoring[lead_scoring['Total Time Spent on Website'] > 0]['Total Time Spent on Website']\n",
    "\n",
    "plt.hist(non_zero_total_time, bins=30)\n",
    "plt.xlabel('Total Time Spent on Website')\n",
    "plt.ylabel('Frequency')\n",
    "plt.title('Distribution of Total Time Spent on Website')\n",
    "plt.show()"
   ]
  },
  {
   "cell_type": "code",
   "execution_count": 23,
   "id": "aac1b1dd",
   "metadata": {},
   "outputs": [
    {
     "data": {
      "image/png": "[encoded data removed]",
      "text/plain": [
       "<Figure size 432x288 with 1 Axes>"
      ]
     },
     "metadata": {},
     "output_type": "display_data"
    }
   ],
   "source": [
    "sns.boxplot(x=lead_scoring['Total Time Spent on Website'])\n",
    "plt.show()"
   ]
  },
  {
   "cell_type": "code",
   "execution_count": 24,
   "id": "049f9fd9",
   "metadata": {},
   "outputs": [
    {
     "data": {
      "image/png": "[encoded data removed]",
      "text/plain": [
       "<Figure size 720x360 with 1 Axes>"
      ]
     },
     "metadata": {},
     "output_type": "display_data"
    }
   ],
   "source": [
    "# create bins for the Total Time Spent on Website column\n",
    "lead_scoring_copy = lead_scoring.copy()\n",
    "bins = [0, 300, 600, 900, 1200, 1500, float('inf')]\n",
    "labels = ['0-300', '301-600', '601-900', '901-1200', '1201-1500', '1501+']\n",
    "lead_scoring_copy['Time Spent (seconds)'] = pd.cut(lead_scoring_copy['Total Time Spent on Website'], bins=bins, labels=labels)\n",
    "\n",
    "# create a countplot with the new column\n",
    "plt.figure(figsize=(10,5))\n",
    "sns.countplot(x='Time Spent (seconds)', data=lead_scoring_copy, hue='Converted')\n",
    "plt.title('Total Time Spent on Website vs Conversion')\n",
    "plt.xlabel('Time Spent (seconds)')\n",
    "plt.ylabel('Number of Leads')\n",
    "plt.show()\n"
   ]
  },
  {
   "cell_type": "markdown",
   "id": "09f80af6",
   "metadata": {},
   "source": [
    "#### <span style=\"color:green\">Finding:</span>\n",
    "- A large chunk of values lie beyond the 3rd quartile\n",
    "- The average time spent on the website is ~8 minutes\n",
    "- It is not surprising that higher the time spent, better is the conversion. If an individual spends over 10 minutes, he is more that 50% likely to join"
   ]
  },
  {
   "cell_type": "code",
   "execution_count": 25,
   "id": "637ade02",
   "metadata": {},
   "outputs": [
    {
     "data": {
      "text/plain": [
       "Email Opened                    3432\n",
       "SMS Sent                        2723\n",
       "Olark Chat Conversation          973\n",
       "Page Visited on Website          640\n",
       "Converted to Lead                428\n",
       "Email Bounced                    321\n",
       "Email Link Clicked               267\n",
       "Form Submitted on Website        116\n",
       "Unreachable                       93\n",
       "Unsubscribed                      59\n",
       "Had a Phone Conversation          30\n",
       "Approached upfront                 9\n",
       "View in browser link Clicked       6\n",
       "Email Received                     2\n",
       "Email Marked Spam                  2\n",
       "Visited Booth in Tradeshow         1\n",
       "Resubscribed to emails             1\n",
       "Name: Last Activity, dtype: int64"
      ]
     },
     "execution_count": 25,
     "metadata": {},
     "output_type": "execute_result"
    }
   ],
   "source": [
    "lead_scoring['Last Activity'].value_counts()"
   ]
  },
  {
   "cell_type": "code",
   "execution_count": 26,
   "id": "858a2303",
   "metadata": {},
   "outputs": [
    {
     "data": {
      "image/png": "[encoded data removed]",
      "text/plain": [
       "<Figure size 864x432 with 1 Axes>"
      ]
     },
     "metadata": {},
     "output_type": "display_data"
    }
   ],
   "source": [
    "# create a copy of the dataframe to avoid modifying the original dataframe\n",
    "lead_scoring_copy = lead_scoring.copy()\n",
    "\n",
    "# group together the values with low counts into a new category \"Other\"\n",
    "lead_scoring_copy.loc[~lead_scoring_copy['Last Activity'].isin(['Email Opened', 'SMS Sent', 'Olark Chat Conversation', 'Page Visited on Website', 'Converted to Lead', 'Email Bounced', 'Email Link Clicked', 'Form Submitted on Website']), 'Last Activity'] = 'Other'\n",
    "\n",
    "# sort the dataframe by the counts of each category\n",
    "sorted_df = lead_scoring_copy.groupby('Last Activity').size().reset_index(name='counts').sort_values(by='counts', ascending=False)\n",
    "\n",
    "# plot the countplot with the new column\n",
    "plt.figure(figsize=(12,6))\n",
    "sns.set(style=\"whitegrid\")\n",
    "\n",
    "ax = sns.countplot(x='Last Activity', hue='Converted', data=lead_scoring_copy, order=sorted_df['Last Activity'])\n",
    "ax\n",
    "\n",
    "plt.title(\"Distribution of Last Activity by Conversion Status\")\n",
    "plt.xlabel(\"Last Activity\")\n",
    "plt.ylabel(\"Count\")\n",
    "\n",
    "# rotate the x-axis labels by 45 degrees\n",
    "ax.tick_params(axis=\"x\", labelrotation=45)\n",
    "\n",
    "# rename the legend labels\n",
    "leg_labels = ['No', 'Yes']\n",
    "for t, l in zip(ax.legend_.texts, leg_labels): t.set_text(l)\n",
    "\n",
    "plt.show()"
   ]
  },
  {
   "cell_type": "markdown",
   "id": "632ce58b",
   "metadata": {},
   "source": [
    "#### <span style=\"color:green\">Finding:</span>\n",
    "- SMS' work better than other forms of communication / involvement - should look to target customers using this means"
   ]
  },
  {
   "cell_type": "code",
   "execution_count": 27,
   "id": "4acb6c96",
   "metadata": {},
   "outputs": [
    {
     "data": {
      "text/plain": [
       "Select                               3300\n",
       "Finance Management                    963\n",
       "Human Resource Management             838\n",
       "Marketing Management                  824\n",
       "Operations Management                 499\n",
       "Business Administration               402\n",
       "IT Projects Management                366\n",
       "Supply Chain Management               346\n",
       "Banking, Investment And Insurance     335\n",
       "Travel and Tourism                    202\n",
       "Media and Advertising                 202\n",
       "International Business                178\n",
       "Healthcare Management                 156\n",
       "E-COMMERCE                            111\n",
       "Hospitality Management                111\n",
       "Retail Management                     100\n",
       "Rural and Agribusiness                 73\n",
       "E-Business                             57\n",
       "Services Excellence                    40\n",
       "Name: Specialization, dtype: int64"
      ]
     },
     "execution_count": 27,
     "metadata": {},
     "output_type": "execute_result"
    }
   ],
   "source": [
    "lead_scoring.Specialization.value_counts()"
   ]
  },
  {
   "cell_type": "code",
   "execution_count": 28,
   "id": "66e25553",
   "metadata": {},
   "outputs": [],
   "source": [
    "# No specialization for 3300; renaming it to 'Not Provided' instead\n",
    "lead_scoring.Specialization = lead_scoring.Specialization.replace('Select', 'Not Provided')"
   ]
  },
  {
   "cell_type": "code",
   "execution_count": 29,
   "id": "eb5c08ac",
   "metadata": {},
   "outputs": [
    {
     "data": {
      "image/png": "[encoded data removed]",
      "text/plain": [
       "<Figure size 1080x288 with 5 Axes>"
      ]
     },
     "metadata": {},
     "output_type": "display_data"
    }
   ],
   "source": [
    "# create a list of the columns to plot\n",
    "columns_to_plot = ['Search', 'Newspaper Article', 'X Education Forums', 'Newspaper', 'Digital Advertisement']\n",
    "\n",
    "# create subplots using catplot\n",
    "fig, axes = plt.subplots(nrows=1, ncols=len(columns_to_plot), figsize=(15, 4), sharey=True)\n",
    "\n",
    "# plot each column separately\n",
    "for i, column in enumerate(columns_to_plot):\n",
    "    sns.countplot(x=column, hue='Converted', data=lead_scoring, ax=axes[i], hue_order=[0,1])\n",
    "    axes[i].set_title(column)\n",
    "\n",
    "# set the labels for the x and y axes\n",
    "fig.text(0.5, -0.1, 'Ad seen in', ha='center', fontsize=14)\n",
    "fig.text(0, 0.5, 'Count', va='center', rotation='vertical', fontsize=14)\n",
    "\n",
    "plt.show()"
   ]
  },
  {
   "cell_type": "code",
   "execution_count": 30,
   "id": "1fea6bcf",
   "metadata": {},
   "outputs": [
    {
     "data": {
      "text/html": [
       "<div>\n",
       "<style scoped>\n",
       "    .dataframe tbody tr th:only-of-type {\n",
       "        vertical-align: middle;\n",
       "    }\n",
       "\n",
       "    .dataframe tbody tr th {\n",
       "        vertical-align: top;\n",
       "    }\n",
       "\n",
       "    .dataframe thead th {\n",
       "        text-align: right;\n",
       "    }\n",
       "</style>\n",
       "<table border=\"1\" class=\"dataframe\">\n",
       "  <thead>\n",
       "    <tr style=\"text-align: right;\">\n",
       "      <th></th>\n",
       "      <th>Search</th>\n",
       "      <th>Newspaper Article</th>\n",
       "      <th>X Education Forums</th>\n",
       "      <th>Newspaper</th>\n",
       "      <th>Digital Advertisement</th>\n",
       "    </tr>\n",
       "  </thead>\n",
       "  <tbody>\n",
       "    <tr>\n",
       "      <th>No</th>\n",
       "      <td>9089</td>\n",
       "      <td>9101</td>\n",
       "      <td>9102</td>\n",
       "      <td>9102</td>\n",
       "      <td>9099</td>\n",
       "    </tr>\n",
       "    <tr>\n",
       "      <th>Yes</th>\n",
       "      <td>14</td>\n",
       "      <td>2</td>\n",
       "      <td>1</td>\n",
       "      <td>1</td>\n",
       "      <td>4</td>\n",
       "    </tr>\n",
       "  </tbody>\n",
       "</table>\n",
       "</div>"
      ],
      "text/plain": [
       "     Search  Newspaper Article  X Education Forums  Newspaper  \\\n",
       "No     9089               9101                9102       9102   \n",
       "Yes      14                  2                   1          1   \n",
       "\n",
       "     Digital Advertisement  \n",
       "No                    9099  \n",
       "Yes                      4  "
      ]
     },
     "execution_count": 30,
     "metadata": {},
     "output_type": "execute_result"
    }
   ],
   "source": [
    "ad_counts = pd.concat([\n",
    "    lead_scoring.Search.value_counts().rename('Search'),\n",
    "    lead_scoring['Newspaper Article'].value_counts().rename('Newspaper Article'),\n",
    "    lead_scoring['X Education Forums'].value_counts().rename('X Education Forums'),\n",
    "    lead_scoring.Newspaper.value_counts().rename('Newspaper'),\n",
    "    lead_scoring['Digital Advertisement'].value_counts().rename('Digital Advertisement')\n",
    "], axis=1)\n",
    "ad_counts"
   ]
  },
  {
   "cell_type": "markdown",
   "id": "eaa88a5b",
   "metadata": {},
   "source": [
    "#### <span style=\"color:green\">Finding:</span>\n",
    "- As the number of Yes' is as good as zero in all of these, the columns should be dropped\n",
    "- These columns do not add much value"
   ]
  },
  {
   "cell_type": "code",
   "execution_count": 31,
   "id": "da20d748",
   "metadata": {},
   "outputs": [
    {
     "data": {
      "text/html": [
       "<div>\n",
       "<style scoped>\n",
       "    .dataframe tbody tr th:only-of-type {\n",
       "        vertical-align: middle;\n",
       "    }\n",
       "\n",
       "    .dataframe tbody tr th {\n",
       "        vertical-align: top;\n",
       "    }\n",
       "\n",
       "    .dataframe thead th {\n",
       "        text-align: right;\n",
       "    }\n",
       "</style>\n",
       "<table border=\"1\" class=\"dataframe\">\n",
       "  <thead>\n",
       "    <tr style=\"text-align: right;\">\n",
       "      <th></th>\n",
       "      <th>Lead Origin</th>\n",
       "      <th>Lead Source</th>\n",
       "      <th>Do Not Email</th>\n",
       "      <th>Do Not Call</th>\n",
       "      <th>Converted</th>\n",
       "      <th>TotalVisits</th>\n",
       "      <th>Total Time Spent on Website</th>\n",
       "      <th>Page Views Per Visit</th>\n",
       "      <th>Last Activity</th>\n",
       "      <th>Country</th>\n",
       "      <th>Specialization</th>\n",
       "      <th>How did you hear about X Education</th>\n",
       "      <th>What is your current occupation</th>\n",
       "      <th>What matters most to you in choosing a course</th>\n",
       "      <th>Through Recommendations</th>\n",
       "      <th>Tags</th>\n",
       "      <th>Lead Profile</th>\n",
       "      <th>City</th>\n",
       "      <th>A free copy of Mastering The Interview</th>\n",
       "      <th>Last Notable Activity</th>\n",
       "    </tr>\n",
       "  </thead>\n",
       "  <tbody>\n",
       "    <tr>\n",
       "      <th>0</th>\n",
       "      <td>API</td>\n",
       "      <td>Olark Chat</td>\n",
       "      <td>No</td>\n",
       "      <td>No</td>\n",
       "      <td>0</td>\n",
       "      <td>0.0</td>\n",
       "      <td>0</td>\n",
       "      <td>0.0</td>\n",
       "      <td>Page Visited on Website</td>\n",
       "      <td>Unknown</td>\n",
       "      <td>Not Provided</td>\n",
       "      <td>Select</td>\n",
       "      <td>Unemployed</td>\n",
       "      <td>Better Career Prospects</td>\n",
       "      <td>No</td>\n",
       "      <td>Interested in other courses</td>\n",
       "      <td>Select</td>\n",
       "      <td>Select</td>\n",
       "      <td>No</td>\n",
       "      <td>Modified</td>\n",
       "    </tr>\n",
       "    <tr>\n",
       "      <th>1</th>\n",
       "      <td>API</td>\n",
       "      <td>Organic Search</td>\n",
       "      <td>No</td>\n",
       "      <td>No</td>\n",
       "      <td>0</td>\n",
       "      <td>5.0</td>\n",
       "      <td>674</td>\n",
       "      <td>2.5</td>\n",
       "      <td>Email Opened</td>\n",
       "      <td>India</td>\n",
       "      <td>Not Provided</td>\n",
       "      <td>Select</td>\n",
       "      <td>Unemployed</td>\n",
       "      <td>Better Career Prospects</td>\n",
       "      <td>No</td>\n",
       "      <td>Ringing</td>\n",
       "      <td>Select</td>\n",
       "      <td>Select</td>\n",
       "      <td>No</td>\n",
       "      <td>Email Opened</td>\n",
       "    </tr>\n",
       "    <tr>\n",
       "      <th>2</th>\n",
       "      <td>Landing Page Submission</td>\n",
       "      <td>Direct Traffic</td>\n",
       "      <td>No</td>\n",
       "      <td>No</td>\n",
       "      <td>1</td>\n",
       "      <td>2.0</td>\n",
       "      <td>1532</td>\n",
       "      <td>2.0</td>\n",
       "      <td>Email Opened</td>\n",
       "      <td>India</td>\n",
       "      <td>Business Administration</td>\n",
       "      <td>Select</td>\n",
       "      <td>Student</td>\n",
       "      <td>Better Career Prospects</td>\n",
       "      <td>No</td>\n",
       "      <td>Will revert after reading the email</td>\n",
       "      <td>Potential Lead</td>\n",
       "      <td>Mumbai</td>\n",
       "      <td>Yes</td>\n",
       "      <td>Email Opened</td>\n",
       "    </tr>\n",
       "    <tr>\n",
       "      <th>3</th>\n",
       "      <td>Landing Page Submission</td>\n",
       "      <td>Direct Traffic</td>\n",
       "      <td>No</td>\n",
       "      <td>No</td>\n",
       "      <td>0</td>\n",
       "      <td>1.0</td>\n",
       "      <td>305</td>\n",
       "      <td>1.0</td>\n",
       "      <td>Unreachable</td>\n",
       "      <td>India</td>\n",
       "      <td>Media and Advertising</td>\n",
       "      <td>Word Of Mouth</td>\n",
       "      <td>Unemployed</td>\n",
       "      <td>Better Career Prospects</td>\n",
       "      <td>No</td>\n",
       "      <td>Ringing</td>\n",
       "      <td>Select</td>\n",
       "      <td>Mumbai</td>\n",
       "      <td>No</td>\n",
       "      <td>Modified</td>\n",
       "    </tr>\n",
       "    <tr>\n",
       "      <th>4</th>\n",
       "      <td>Landing Page Submission</td>\n",
       "      <td>Google</td>\n",
       "      <td>No</td>\n",
       "      <td>No</td>\n",
       "      <td>1</td>\n",
       "      <td>2.0</td>\n",
       "      <td>1428</td>\n",
       "      <td>1.0</td>\n",
       "      <td>Converted to Lead</td>\n",
       "      <td>India</td>\n",
       "      <td>Not Provided</td>\n",
       "      <td>Other</td>\n",
       "      <td>Unemployed</td>\n",
       "      <td>Better Career Prospects</td>\n",
       "      <td>No</td>\n",
       "      <td>Will revert after reading the email</td>\n",
       "      <td>Select</td>\n",
       "      <td>Mumbai</td>\n",
       "      <td>No</td>\n",
       "      <td>Modified</td>\n",
       "    </tr>\n",
       "  </tbody>\n",
       "</table>\n",
       "</div>"
      ],
      "text/plain": [
       "               Lead Origin     Lead Source Do Not Email Do Not Call  \\\n",
       "0                      API      Olark Chat           No          No   \n",
       "1                      API  Organic Search           No          No   \n",
       "2  Landing Page Submission  Direct Traffic           No          No   \n",
       "3  Landing Page Submission  Direct Traffic           No          No   \n",
       "4  Landing Page Submission          Google           No          No   \n",
       "\n",
       "   Converted  TotalVisits  Total Time Spent on Website  Page Views Per Visit  \\\n",
       "0          0          0.0                            0                   0.0   \n",
       "1          0          5.0                          674                   2.5   \n",
       "2          1          2.0                         1532                   2.0   \n",
       "3          0          1.0                          305                   1.0   \n",
       "4          1          2.0                         1428                   1.0   \n",
       "\n",
       "             Last Activity  Country           Specialization  \\\n",
       "0  Page Visited on Website  Unknown             Not Provided   \n",
       "1             Email Opened    India             Not Provided   \n",
       "2             Email Opened    India  Business Administration   \n",
       "3              Unreachable    India    Media and Advertising   \n",
       "4        Converted to Lead    India             Not Provided   \n",
       "\n",
       "  How did you hear about X Education What is your current occupation  \\\n",
       "0                             Select                      Unemployed   \n",
       "1                             Select                      Unemployed   \n",
       "2                             Select                         Student   \n",
       "3                      Word Of Mouth                      Unemployed   \n",
       "4                              Other                      Unemployed   \n",
       "\n",
       "  What matters most to you in choosing a course Through Recommendations  \\\n",
       "0                       Better Career Prospects                      No   \n",
       "1                       Better Career Prospects                      No   \n",
       "2                       Better Career Prospects                      No   \n",
       "3                       Better Career Prospects                      No   \n",
       "4                       Better Career Prospects                      No   \n",
       "\n",
       "                                  Tags    Lead Profile    City  \\\n",
       "0          Interested in other courses          Select  Select   \n",
       "1                              Ringing          Select  Select   \n",
       "2  Will revert after reading the email  Potential Lead  Mumbai   \n",
       "3                              Ringing          Select  Mumbai   \n",
       "4  Will revert after reading the email          Select  Mumbai   \n",
       "\n",
       "  A free copy of Mastering The Interview Last Notable Activity  \n",
       "0                                     No              Modified  \n",
       "1                                     No          Email Opened  \n",
       "2                                    Yes          Email Opened  \n",
       "3                                     No              Modified  \n",
       "4                                     No              Modified  "
      ]
     },
     "execution_count": 31,
     "metadata": {},
     "output_type": "execute_result"
    }
   ],
   "source": [
    "lead_scoring = lead_scoring.drop(columns=['Search', 'Newspaper Article', 'X Education Forums', 'Newspaper', 'Digital Advertisement'])\n",
    "lead_scoring.head()"
   ]
  },
  {
   "cell_type": "code",
   "execution_count": 32,
   "id": "5fe1c613",
   "metadata": {},
   "outputs": [
    {
     "data": {
      "text/plain": [
       "Unemployed              5492\n",
       "Not provided            2690\n",
       "Working Professional     683\n",
       "Student                  206\n",
       "Other                     15\n",
       "Housewife                  9\n",
       "Businessman                8\n",
       "Name: What is your current occupation, dtype: int64"
      ]
     },
     "execution_count": 32,
     "metadata": {},
     "output_type": "execute_result"
    }
   ],
   "source": [
    "lead_scoring['What is your current occupation'].value_counts()"
   ]
  },
  {
   "cell_type": "code",
   "execution_count": 33,
   "id": "a360359c",
   "metadata": {},
   "outputs": [
    {
     "data": {
      "image/png": "[encoded data removed]",
      "text/plain": [
       "<Figure size 432x288 with 1 Axes>"
      ]
     },
     "metadata": {},
     "output_type": "display_data"
    }
   ],
   "source": [
    "# get value counts and sort in descending order\n",
    "occupation_counts = lead_scoring['What is your current occupation'].value_counts().sort_values(ascending=False)\n",
    "\n",
    "# create bar chart with hue\n",
    "sns.countplot(x='What is your current occupation', data=lead_scoring, hue='Converted', order=occupation_counts.index)\n",
    "\n",
    "# set the x-label rotation to 45 degrees\n",
    "plt.xticks(rotation=45)\n",
    "\n",
    "# display the plot\n",
    "plt.show()"
   ]
  },
  {
   "cell_type": "markdown",
   "id": "84ab3f94",
   "metadata": {},
   "source": [
    "#### <span style=\"color:green\">Finding:</span>\n",
    "- Working professionals are most likely to go for a course\n",
    "- Therefore, it would be prudent to target working professionals"
   ]
  },
  {
   "cell_type": "code",
   "execution_count": 34,
   "id": "7124fa48",
   "metadata": {},
   "outputs": [
    {
     "data": {
      "text/plain": [
       "No     9096\n",
       "Yes       7\n",
       "Name: Through Recommendations, dtype: int64"
      ]
     },
     "execution_count": 34,
     "metadata": {},
     "output_type": "execute_result"
    }
   ],
   "source": [
    "lead_scoring['Through Recommendations'].value_counts()"
   ]
  },
  {
   "cell_type": "markdown",
   "id": "d70e030f",
   "metadata": {},
   "source": [
    "#### <span style=\"color:green\">Finding:</span>\n",
    "- As the number of Yes' is as good as zero, the column should be dropped\n",
    "- The column does not add much value"
   ]
  },
  {
   "cell_type": "code",
   "execution_count": 35,
   "id": "129be83b",
   "metadata": {},
   "outputs": [],
   "source": [
    "lead_scoring.drop('Through Recommendations', axis=1, inplace=True)"
   ]
  },
  {
   "cell_type": "code",
   "execution_count": 36,
   "id": "92d51400",
   "metadata": {},
   "outputs": [
    {
     "data": {
      "text/plain": [
       "Not provided                                         3334\n",
       "Will revert after reading the email                  2026\n",
       "Ringing                                              1189\n",
       "Interested in other courses                           509\n",
       "Already a student                                     465\n",
       "Closed by Horizzon                                    311\n",
       "switched off                                          240\n",
       "Busy                                                  185\n",
       "Lost to EINS                                          172\n",
       "Not doing further education                           145\n",
       "Interested  in full time MBA                          116\n",
       "Graduation in progress                                111\n",
       "invalid number                                         83\n",
       "Diploma holder (Not Eligible)                          63\n",
       "wrong number given                                     47\n",
       "opp hangup                                             33\n",
       "number not provided                                    25\n",
       "in touch with EINS                                     12\n",
       "Lost to Others                                          7\n",
       "Still Thinking                                          6\n",
       "Want to take admission but has financial problems       6\n",
       "In confusion whether part time or DLP                   5\n",
       "Interested in Next batch                                5\n",
       "Lateral student                                         3\n",
       "Shall take in the next coming month                     2\n",
       "University not recognized                               2\n",
       "Recognition issue (DEC approval)                        1\n",
       "Name: Tags, dtype: int64"
      ]
     },
     "execution_count": 36,
     "metadata": {},
     "output_type": "execute_result"
    }
   ],
   "source": [
    "lead_scoring.Tags.value_counts()"
   ]
  },
  {
   "cell_type": "code",
   "execution_count": 37,
   "id": "1887b970",
   "metadata": {},
   "outputs": [
    {
     "name": "stdout",
     "output_type": "stream",
     "text": [
      "Not provided                   3334\n",
      "Will revert later              2032\n",
      "Not Reachable                  1802\n",
      "Not interested / eligible       900\n",
      "Interested in other courses     509\n",
      "Closed by Horizzon              311\n",
      "EINS / Others                   172\n",
      "Others                           43\n",
      "Name: Grouped Tags, dtype: int64\n"
     ]
    }
   ],
   "source": [
    "# There are way too many values that can be clubbed together so creating a new column might help simplify it\n",
    "# create a dictionary with the grouped values as keys and similar values as values\n",
    "grouped_tags = {\n",
    "    'Not provided': 'Not provided',\n",
    "    'Will revert after reading the email': 'Will revert later',\n",
    "    'Ringing': 'Not Reachable',\n",
    "    'Interested in other courses': 'Interested in other courses',\n",
    "    'Already a student': 'Not interested / eligible',\n",
    "    'Closed by Horizzon': 'Closed by Horizzon',\n",
    "    'switched off': 'Not Reachable',\n",
    "    'Busy': 'Not Reachable',\n",
    "    'Lost to EINS': 'EINS / Others',\n",
    "    'Not doing further education': 'Not interested / eligible',\n",
    "    'Interested  in full time MBA': 'Not interested / eligible',\n",
    "    'Graduation in progress': 'Not interested / eligible',\n",
    "    'invalid number': 'Not Reachable',\n",
    "    'Diploma holder (Not Eligible)': 'Not interested / eligible',\n",
    "    'wrong number given': 'Not Reachable',\n",
    "    'opp hangup': 'Not Reachable',\n",
    "    'number not provided': 'Not Reachable',\n",
    "    'in touch with EINS': 'Others',\n",
    "    'Lost to Others': 'Others',\n",
    "    'Still Thinking': 'Will revert later',\n",
    "    'Want to take admission but has financial problems': 'Others',\n",
    "    'In confusion whether part time or DLP': 'Others',\n",
    "    'Interested in Next batch': 'Others',\n",
    "    'Lateral student': 'Others',\n",
    "    'Shall take in the next coming month': 'Others',\n",
    "    'University not recognized': 'Others',\n",
    "    'Recognition issue (DEC approval)': 'Others'\n",
    "}\n",
    "\n",
    "# create a new column \"Grouped Tags\" with the grouped values\n",
    "lead_scoring['Grouped Tags'] = lead_scoring['Tags'].replace(grouped_tags)\n",
    "\n",
    "# print the value counts of the new column\n",
    "print(lead_scoring['Grouped Tags'].value_counts())"
   ]
  },
  {
   "cell_type": "code",
   "execution_count": 38,
   "id": "e7bd9669",
   "metadata": {},
   "outputs": [
    {
     "data": {
      "image/png": "[encoded data removed]",
      "text/plain": [
       "<Figure size 864x432 with 1 Axes>"
      ]
     },
     "metadata": {},
     "output_type": "display_data"
    }
   ],
   "source": [
    "# get the count of each unique tag and sort by count\n",
    "tag_counts = lead_scoring['Grouped Tags'].value_counts().sort_values(ascending=False)\n",
    "\n",
    "# plot a bar chart of the tag counts\n",
    "plt.figure(figsize=(12,6))\n",
    "sns.countplot(x='Grouped Tags', data=lead_scoring, hue='Converted', order=tag_counts.index)\n",
    "plt.xticks(rotation=45)\n",
    "plt.xlabel('Grouped Tags')\n",
    "plt.ylabel('Count')\n",
    "plt.title('Count of Tags for Leads')\n",
    "plt.show()"
   ]
  },
  {
   "cell_type": "markdown",
   "id": "1a52b10c",
   "metadata": {},
   "source": [
    "#### <span style=\"color:green\">Finding:</span>\n",
    "- Not reachable is a large chunk; it might help to obtain alternate contacts from the leads"
   ]
  },
  {
   "cell_type": "code",
   "execution_count": 39,
   "id": "f0918276",
   "metadata": {},
   "outputs": [
    {
     "data": {
      "text/plain": [
       "Select                         4063\n",
       "Not provided                   2709\n",
       "Potential Lead                 1568\n",
       "Other Leads                     482\n",
       "Student of SomeSchool           240\n",
       "Lateral Student                  21\n",
       "Dual Specialization Student      20\n",
       "Name: Lead Profile, dtype: int64"
      ]
     },
     "execution_count": 39,
     "metadata": {},
     "output_type": "execute_result"
    }
   ],
   "source": [
    "lead_scoring['Lead Profile'].value_counts()"
   ]
  },
  {
   "cell_type": "code",
   "execution_count": 40,
   "id": "0be0cf15",
   "metadata": {},
   "outputs": [],
   "source": [
    "lead_scoring.drop('Lead Profile', axis=1, inplace=True)"
   ]
  },
  {
   "cell_type": "markdown",
   "id": "092b73cb",
   "metadata": {},
   "source": [
    "#### <span style=\"color:green\">Finding:</span>\n",
    "- Considering that over 70% of the data in this column is unknown, it would make sense to drop it"
   ]
  },
  {
   "cell_type": "code",
   "execution_count": 41,
   "id": "3e381f2d",
   "metadata": {},
   "outputs": [
    {
     "data": {
      "text/plain": [
       "India                   6491\n",
       "Unknown                 2325\n",
       "United States             69\n",
       "United Arab Emirates      53\n",
       "Singapore                 24\n",
       "Saudi Arabia              21\n",
       "United Kingdom            15\n",
       "Australia                 13\n",
       "Qatar                     10\n",
       "Bahrain                    7\n",
       "Hong Kong                  7\n",
       "Oman                       6\n",
       "France                     6\n",
       "unknown                    5\n",
       "Kuwait                     4\n",
       "South Africa               4\n",
       "Canada                     4\n",
       "Nigeria                    4\n",
       "Germany                    4\n",
       "Sweden                     3\n",
       "Philippines                2\n",
       "Uganda                     2\n",
       "Italy                      2\n",
       "Bangladesh                 2\n",
       "Netherlands                2\n",
       "Asia/Pacific Region        2\n",
       "China                      2\n",
       "Belgium                    2\n",
       "Ghana                      2\n",
       "Kenya                      1\n",
       "Sri Lanka                  1\n",
       "Tanzania                   1\n",
       "Malaysia                   1\n",
       "Liberia                    1\n",
       "Switzerland                1\n",
       "Denmark                    1\n",
       "Russia                     1\n",
       "Vietnam                    1\n",
       "Indonesia                  1\n",
       "Name: Country, dtype: int64"
      ]
     },
     "execution_count": 41,
     "metadata": {},
     "output_type": "execute_result"
    }
   ],
   "source": [
    "lead_scoring.Country.value_counts()"
   ]
  },
  {
   "cell_type": "code",
   "execution_count": 42,
   "id": "547c5659",
   "metadata": {},
   "outputs": [],
   "source": [
    "lead_scoring.drop('Country', axis=1, inplace=True)"
   ]
  },
  {
   "cell_type": "markdown",
   "id": "4045d469",
   "metadata": {},
   "source": [
    "#### <span style=\"color:green\">Finding:</span>\n",
    "- As the primary market is India and very little data is available outside of it, the data is irrelevant"
   ]
  },
  {
   "cell_type": "code",
   "execution_count": 43,
   "id": "3796fae3",
   "metadata": {},
   "outputs": [
    {
     "data": {
      "text/plain": [
       "Mumbai                         4604\n",
       "Select                         2169\n",
       "Thane & Outskirts               748\n",
       "Other Cities                    680\n",
       "Other Cities of Maharashtra     450\n",
       "Other Metro Cities              378\n",
       "Tier II Cities                   74\n",
       "Name: City, dtype: int64"
      ]
     },
     "execution_count": 43,
     "metadata": {},
     "output_type": "execute_result"
    }
   ],
   "source": [
    "lead_scoring.City.value_counts()"
   ]
  },
  {
   "cell_type": "code",
   "execution_count": 44,
   "id": "42a8b361",
   "metadata": {},
   "outputs": [],
   "source": [
    "lead_scoring.City.replace({'Select': 'Not provided'}, inplace=True)"
   ]
  },
  {
   "cell_type": "code",
   "execution_count": 45,
   "id": "cda76bf2",
   "metadata": {},
   "outputs": [
    {
     "data": {
      "image/png": "[encoded data removed]",
      "text/plain": [
       "<Figure size 864x432 with 1 Axes>"
      ]
     },
     "metadata": {},
     "output_type": "display_data"
    }
   ],
   "source": [
    "# get the count of each unique city and sort by count\n",
    "city_counts = lead_scoring['City'].value_counts().sort_values(ascending=False)\n",
    "\n",
    "# plot a bar chart of the city counts with hue\n",
    "plt.figure(figsize=(12,6))\n",
    "sns.countplot(x='City', data=lead_scoring, hue='Converted', order=city_counts.index)\n",
    "plt.xticks(rotation=45)\n",
    "plt.xlabel('City')\n",
    "plt.ylabel('Count')\n",
    "plt.title('Count of Leads by City')\n",
    "plt.show()\n"
   ]
  },
  {
   "cell_type": "markdown",
   "id": "a12c2fac",
   "metadata": {},
   "source": [
    "#### <span style=\"color:green\">Finding:</span>\n",
    "- The conversion in Mumbai is very poor when compared to other cities\n",
    "- Concentration should be spread to other cities as well as they're giving better results than Mumbai where the complete focus currently is"
   ]
  },
  {
   "cell_type": "code",
   "execution_count": 46,
   "id": "05de1933",
   "metadata": {},
   "outputs": [
    {
     "data": {
      "text/plain": [
       "No     6215\n",
       "Yes    2888\n",
       "Name: A free copy of Mastering The Interview, dtype: int64"
      ]
     },
     "execution_count": 46,
     "metadata": {},
     "output_type": "execute_result"
    }
   ],
   "source": [
    "lead_scoring['A free copy of Mastering The Interview'].value_counts()"
   ]
  },
  {
   "cell_type": "code",
   "execution_count": 47,
   "id": "6b985558",
   "metadata": {},
   "outputs": [
    {
     "data": {
      "image/png": "[encoded data removed]",
      "text/plain": [
       "<Figure size 864x432 with 1 Axes>"
      ]
     },
     "metadata": {},
     "output_type": "display_data"
    }
   ],
   "source": [
    "# get the count of those who opted to receive a free copy of the book\n",
    "book_counts = lead_scoring['A free copy of Mastering The Interview'].value_counts().sort_values(ascending=False)\n",
    "\n",
    "# plot a bar chart with hue\n",
    "plt.figure(figsize=(12,6))\n",
    "sns.countplot(x='A free copy of Mastering The Interview', data=lead_scoring, hue='Converted', order=book_counts.index)\n",
    "plt.xticks(rotation=45)\n",
    "plt.xlabel('A free copy of Mastering The Interview')\n",
    "plt.ylabel('Count')\n",
    "plt.title('Count of Leads by those who opted to receive a free copy of the book')\n",
    "plt.show()"
   ]
  },
  {
   "cell_type": "markdown",
   "id": "4544492e",
   "metadata": {},
   "source": [
    "#### <span style=\"color:green\">Finding:</span>\n",
    "- There is not much to choose from here"
   ]
  },
  {
   "cell_type": "code",
   "execution_count": 48,
   "id": "93821b22",
   "metadata": {},
   "outputs": [
    {
     "data": {
      "text/plain": [
       "Modified                        3296\n",
       "Email Opened                    2823\n",
       "SMS Sent                        2152\n",
       "Page Visited on Website          318\n",
       "Olark Chat Conversation          183\n",
       "Email Link Clicked               173\n",
       "Email Bounced                     60\n",
       "Unsubscribed                      45\n",
       "Unreachable                       32\n",
       "Had a Phone Conversation          14\n",
       "Email Marked Spam                  2\n",
       "Approached upfront                 1\n",
       "Resubscribed to emails             1\n",
       "View in browser link Clicked       1\n",
       "Form Submitted on Website          1\n",
       "Email Received                     1\n",
       "Name: Last Notable Activity, dtype: int64"
      ]
     },
     "execution_count": 48,
     "metadata": {},
     "output_type": "execute_result"
    }
   ],
   "source": [
    "lead_scoring['Last Notable Activity'].value_counts()"
   ]
  },
  {
   "cell_type": "code",
   "execution_count": 49,
   "id": "cae2d2a2",
   "metadata": {},
   "outputs": [],
   "source": [
    "# get the count of each unique value in \"Last Notable Activity\"\n",
    "lna_counts = lead_scoring['Last Notable Activity'].value_counts()\n",
    "\n",
    "# get the list of values to replace with \"Other\"\n",
    "values_to_replace = lna_counts[lna_counts < 10].index.tolist()\n",
    "\n",
    "# replace the values with \"Other\"\n",
    "lead_scoring['Last Notable Activity'] = lead_scoring['Last Notable Activity'].replace(values_to_replace, 'Other')\n"
   ]
  },
  {
   "cell_type": "code",
   "execution_count": 50,
   "id": "f4d5445e",
   "metadata": {},
   "outputs": [
    {
     "data": {
      "image/png": "[encoded data removed]",
      "text/plain": [
       "<Figure size 864x432 with 1 Axes>"
      ]
     },
     "metadata": {},
     "output_type": "display_data"
    }
   ],
   "source": [
    "# get the count of Last Notable Activity\n",
    "lna_counts = lead_scoring['Last Notable Activity'].value_counts().sort_values(ascending=False)\n",
    "\n",
    "# plot a bar chart with hue\n",
    "plt.figure(figsize=(12,6))\n",
    "sns.countplot(x='Last Notable Activity', data=lead_scoring, hue='Converted', order=lna_counts.index)\n",
    "plt.xticks(rotation=45)\n",
    "plt.xlabel('Last Notable Activity')\n",
    "plt.ylabel('Count')\n",
    "plt.title('Count of Leads by Last Notable Activity')\n",
    "plt.show()"
   ]
  },
  {
   "cell_type": "markdown",
   "id": "c02c3b1e",
   "metadata": {},
   "source": [
    "#### <span style=\"color:green\">Finding:</span>\n",
    "- Those whose last notable activity was sending an SMS had a higher conversion ratio"
   ]
  },
  {
   "cell_type": "code",
   "execution_count": 51,
   "id": "388421b5",
   "metadata": {},
   "outputs": [
    {
     "data": {
      "text/plain": [
       "Better Career Prospects      6392\n",
       "Not provided                 2709\n",
       "Flexibility & Convenience       1\n",
       "Other                           1\n",
       "Name: What matters most to you in choosing a course, dtype: int64"
      ]
     },
     "execution_count": 51,
     "metadata": {},
     "output_type": "execute_result"
    }
   ],
   "source": [
    "lead_scoring['What matters most to you in choosing a course'].value_counts()"
   ]
  },
  {
   "cell_type": "code",
   "execution_count": 52,
   "id": "2ad7f9bf",
   "metadata": {},
   "outputs": [],
   "source": [
    "# This column does not seem to provide a dimension; dropping it would be better\n",
    "lead_scoring.drop('What matters most to you in choosing a course', axis=1, inplace=True)"
   ]
  },
  {
   "cell_type": "code",
   "execution_count": 53,
   "id": "49fb065b",
   "metadata": {},
   "outputs": [
    {
     "data": {
      "image/png": "[encoded data removed]",
      "text/plain": [
       "<Figure size 432x288 with 1 Axes>"
      ]
     },
     "metadata": {},
     "output_type": "display_data"
    }
   ],
   "source": [
    "ax = sns.countplot(lead_scoring['Converted'])\n",
    "plt.title('Converted leads')\n",
    "\n",
    "# add percentage labels to the bars\n",
    "total = len(lead_scoring['Converted'])\n",
    "for p in ax.patches:\n",
    "    percentage = '{:.1f}%'.format(100 * p.get_height()/total)\n",
    "    x = p.get_x() + p.get_width()/2 - 0.05\n",
    "    y = p.get_y() + p.get_height() + 50\n",
    "    ax.annotate(percentage, (x, y))\n",
    "\n",
    "plt.show()"
   ]
  },
  {
   "cell_type": "markdown",
   "id": "aaa3c218",
   "metadata": {},
   "source": [
    "#### <span style=\"color:green\">Finding:</span>\n",
    "- Almost two-third leads were not converted"
   ]
  },
  {
   "cell_type": "code",
   "execution_count": 54,
   "id": "e5e88094",
   "metadata": {},
   "outputs": [
    {
     "data": {
      "text/html": [
       "<div>\n",
       "<style scoped>\n",
       "    .dataframe tbody tr th:only-of-type {\n",
       "        vertical-align: middle;\n",
       "    }\n",
       "\n",
       "    .dataframe tbody tr th {\n",
       "        vertical-align: top;\n",
       "    }\n",
       "\n",
       "    .dataframe thead th {\n",
       "        text-align: right;\n",
       "    }\n",
       "</style>\n",
       "<table border=\"1\" class=\"dataframe\">\n",
       "  <thead>\n",
       "    <tr style=\"text-align: right;\">\n",
       "      <th></th>\n",
       "      <th>Do Not Call</th>\n",
       "      <th>Do Not Email</th>\n",
       "    </tr>\n",
       "  </thead>\n",
       "  <tbody>\n",
       "    <tr>\n",
       "      <th>No</th>\n",
       "      <td>9101</td>\n",
       "      <td>8382</td>\n",
       "    </tr>\n",
       "    <tr>\n",
       "      <th>Yes</th>\n",
       "      <td>2</td>\n",
       "      <td>721</td>\n",
       "    </tr>\n",
       "  </tbody>\n",
       "</table>\n",
       "</div>"
      ],
      "text/plain": [
       "     Do Not Call  Do Not Email\n",
       "No          9101          8382\n",
       "Yes            2           721"
      ]
     },
     "execution_count": 54,
     "metadata": {},
     "output_type": "execute_result"
    }
   ],
   "source": [
    "contact_counts = pd.concat([\n",
    "    lead_scoring['Do Not Call'].value_counts().rename('Do Not Call'),\n",
    "    lead_scoring['Do Not Email'].value_counts().rename('Do Not Email'),\n",
    "], axis=1)\n",
    "contact_counts"
   ]
  },
  {
   "cell_type": "code",
   "execution_count": 55,
   "id": "70508654",
   "metadata": {},
   "outputs": [],
   "source": [
    "# dropping Do not Call as it is almost a single value throughout\n",
    "lead_scoring.drop('Do Not Call', axis=1, inplace=True)"
   ]
  },
  {
   "cell_type": "code",
   "execution_count": 56,
   "id": "0f592e51",
   "metadata": {},
   "outputs": [
    {
     "data": {
      "image/png": "[encoded data removed]",
      "text/plain": [
       "<Figure size 864x432 with 2 Axes>"
      ]
     },
     "metadata": {},
     "output_type": "display_data"
    }
   ],
   "source": [
    "# check correlation between the variables\n",
    "plt.figure(figsize=(12, 6))\n",
    "sns.heatmap(lead_scoring.corr(), cmap='YlGnBu', annot=True, vmin=0, vmax=1)\n",
    "plt.title('Correlation Matrix', fontsize=14)\n",
    "plt.show()"
   ]
  },
  {
   "cell_type": "markdown",
   "id": "a75862b8",
   "metadata": {},
   "source": [
    "#### <span style=\"color:green\">Finding:</span>\n",
    "- Page views per visit seems to have the least correlation with conversion rate\n",
    "- Total Visits is relatively more correlated"
   ]
  },
  {
   "cell_type": "markdown",
   "id": "be16b23b",
   "metadata": {},
   "source": [
    "### <span style=\"color:blue\">Step 5: Treating outliers in the data</span>"
   ]
  },
  {
   "cell_type": "code",
   "execution_count": 57,
   "id": "95452ec4",
   "metadata": {},
   "outputs": [
    {
     "data": {
      "image/png": "[encoded data removed]",
      "text/plain": [
       "<Figure size 432x360 with 1 Axes>"
      ]
     },
     "metadata": {},
     "output_type": "display_data"
    }
   ],
   "source": [
    "sns.set_style(\"whitegrid\")\n",
    "plt.figure(figsize=(6,5))\n",
    "\n",
    "sns.boxplot(data=lead_scoring[['TotalVisits', 'Page Views Per Visit']], palette=['skyblue', 'pink'])\n",
    "plt.title('Total Visits and Page Views Per Visit')\n",
    "plt.ylabel('Count')\n",
    "plt.show()"
   ]
  },
  {
   "cell_type": "code",
   "execution_count": 60,
   "id": "b0c39094",
   "metadata": {},
   "outputs": [
    {
     "data": {
      "image/png": "[encoded data removed]",
      "text/plain": [
       "<Figure size 720x360 with 2 Axes>"
      ]
     },
     "metadata": {},
     "output_type": "display_data"
    }
   ],
   "source": [
    "sns.set_style(\"whitegrid\")\n",
    "\n",
    "fig, axs = plt.subplots(nrows=1, ncols=2, figsize=(10, 5), sharey=True)\n",
    "fig.subplots_adjust(wspace=0.2)\n",
    "\n",
    "sns.histplot(data=lead_scoring, x='TotalVisits', color='skyblue', ax=axs[0], kde=True)\n",
    "axs[0].set_xlabel('Total Visits')\n",
    "axs[0].set_ylabel('Count')\n",
    "axs[0].set_title('Total Visits')\n",
    "\n",
    "sns.histplot(data=lead_scoring, x='Page Views Per Visit', color='pink', ax=axs[1], kde=True)\n",
    "axs[1].set_xlabel('Page Views Per Visit')\n",
    "axs[1].set_title('Page Views Per Visit')\n",
    "\n",
    "plt.show()"
   ]
  },
  {
   "cell_type": "code",
   "execution_count": 61,
   "id": "4451ddab",
   "metadata": {},
   "outputs": [
    {
     "data": {
      "text/plain": [
       "count    9103.000000\n",
       "mean        3.454575\n",
       "std         4.851123\n",
       "min         0.000000\n",
       "10%         0.000000\n",
       "25%         1.000000\n",
       "50%         3.000000\n",
       "75%         5.000000\n",
       "90%         7.000000\n",
       "99%        17.000000\n",
       "max       251.000000\n",
       "Name: TotalVisits, dtype: float64"
      ]
     },
     "execution_count": 61,
     "metadata": {},
     "output_type": "execute_result"
    }
   ],
   "source": [
    "lead_scoring.TotalVisits.describe(percentiles=[0.1, 0.25, 0.5, 0.75, 0.9, 0.99])"
   ]
  },
  {
   "cell_type": "code",
   "execution_count": 62,
   "id": "3a039d44",
   "metadata": {},
   "outputs": [
    {
     "data": {
      "text/plain": [
       "count    9103.000000\n",
       "mean        2.368972\n",
       "std         2.157526\n",
       "min         0.000000\n",
       "10%         0.000000\n",
       "25%         1.000000\n",
       "50%         2.000000\n",
       "75%         3.000000\n",
       "90%         5.000000\n",
       "99%         9.000000\n",
       "max        55.000000\n",
       "Name: Page Views Per Visit, dtype: float64"
      ]
     },
     "execution_count": 62,
     "metadata": {},
     "output_type": "execute_result"
    }
   ],
   "source": [
    "lead_scoring['Page Views Per Visit'].describe(percentiles=[0.1, 0.25, 0.5, 0.75, 0.9, 0.99])"
   ]
  },
  {
   "cell_type": "code",
   "execution_count": 63,
   "id": "7f8e23ec",
   "metadata": {},
   "outputs": [
    {
     "data": {
      "text/plain": [
       "(9103, 16)"
      ]
     },
     "execution_count": 63,
     "metadata": {},
     "output_type": "execute_result"
    }
   ],
   "source": [
    "lead_scoring.shape"
   ]
  },
  {
   "cell_type": "code",
   "execution_count": 64,
   "id": "882368e0",
   "metadata": {},
   "outputs": [
    {
     "data": {
      "text/plain": [
       "83"
      ]
     },
     "execution_count": 64,
     "metadata": {},
     "output_type": "execute_result"
    }
   ],
   "source": [
    "pct_99 = lead_scoring['TotalVisits'].quantile(0.99)\n",
    "outliers = lead_scoring[lead_scoring['TotalVisits'] > pct_99]\n",
    "len(outliers)"
   ]
  },
  {
   "cell_type": "code",
   "execution_count": 65,
   "id": "d47e0b87",
   "metadata": {},
   "outputs": [
    {
     "data": {
      "text/plain": [
       "75"
      ]
     },
     "execution_count": 65,
     "metadata": {},
     "output_type": "execute_result"
    }
   ],
   "source": [
    "pct_99 = lead_scoring['Page Views Per Visit'].quantile(0.99)\n",
    "outliers = lead_scoring[lead_scoring['Page Views Per Visit'] > pct_99]\n",
    "len(outliers)"
   ]
  },
  {
   "cell_type": "code",
   "execution_count": 66,
   "id": "a22cbce7",
   "metadata": {},
   "outputs": [],
   "source": [
    "q = lead_scoring[['TotalVisits', 'Page Views Per Visit']].quantile(0.99)\n",
    "lead_scoring = lead_scoring[(lead_scoring['TotalVisits'] <= q['TotalVisits']) & (lead_scoring['Page Views Per Visit'] <= q['Page Views Per Visit'])]"
   ]
  },
  {
   "cell_type": "code",
   "execution_count": 67,
   "id": "1c300518",
   "metadata": {},
   "outputs": [
    {
     "data": {
      "text/plain": [
       "(8953, 16)"
      ]
     },
     "execution_count": 67,
     "metadata": {},
     "output_type": "execute_result"
    }
   ],
   "source": [
    "lead_scoring.shape"
   ]
  },
  {
   "cell_type": "code",
   "execution_count": 68,
   "id": "2a21ce5c",
   "metadata": {},
   "outputs": [
    {
     "data": {
      "image/png": "[encoded data removed]",
      "text/plain": [
       "<Figure size 432x360 with 1 Axes>"
      ]
     },
     "metadata": {},
     "output_type": "display_data"
    }
   ],
   "source": [
    "sns.set_style(\"whitegrid\")\n",
    "plt.figure(figsize=(6,5))\n",
    "\n",
    "sns.boxplot(data=lead_scoring[['TotalVisits', 'Page Views Per Visit']], palette=['skyblue', 'pink'])\n",
    "plt.title('Total Visits and Page Views Per Visit')\n",
    "plt.ylabel('Count')\n",
    "plt.show()"
   ]
  },
  {
   "cell_type": "code",
   "execution_count": 69,
   "id": "f918eca5",
   "metadata": {},
   "outputs": [
    {
     "data": {
      "image/png": "[encoded data removed]",
      "text/plain": [
       "<Figure size 720x360 with 2 Axes>"
      ]
     },
     "metadata": {},
     "output_type": "display_data"
    }
   ],
   "source": [
    "sns.set_style(\"whitegrid\")\n",
    "\n",
    "fig, axs = plt.subplots(nrows=1, ncols=2, figsize=(10, 5), sharey=True)\n",
    "fig.subplots_adjust(wspace=0.2)\n",
    "\n",
    "sns.histplot(data=lead_scoring, x='TotalVisits', color='skyblue', ax=axs[0], kde=True)\n",
    "axs[0].set_xlabel('Total Visits')\n",
    "axs[0].set_ylabel('Count')\n",
    "axs[0].set_title('Total Visits Histogram')\n",
    "\n",
    "sns.histplot(data=lead_scoring, x='Page Views Per Visit', color='pink', ax=axs[1], kde=True)\n",
    "axs[1].set_xlabel('Page Views Per Visit')\n",
    "axs[1].set_title('Page Views Per Visit Histogram')\n",
    "\n",
    "plt.show()"
   ]
  },
  {
   "cell_type": "code",
   "execution_count": 70,
   "id": "bf9ab9f7",
   "metadata": {},
   "outputs": [
    {
     "data": {
      "text/plain": [
       "Index(['Lead Origin', 'Lead Source', 'Do Not Email', 'Converted',\n",
       "       'TotalVisits', 'Total Time Spent on Website', 'Page Views Per Visit',\n",
       "       'Last Activity', 'Specialization', 'How did you hear about X Education',\n",
       "       'What is your current occupation', 'Tags', 'City',\n",
       "       'A free copy of Mastering The Interview', 'Last Notable Activity',\n",
       "       'Grouped Tags'],\n",
       "      dtype='object')"
      ]
     },
     "execution_count": 70,
     "metadata": {},
     "output_type": "execute_result"
    }
   ],
   "source": [
    "lead_scoring.columns"
   ]
  },
  {
   "cell_type": "code",
   "execution_count": 71,
   "id": "a1f6e0b8",
   "metadata": {},
   "outputs": [],
   "source": [
    "# drop Tags column as it has been replaced with a column that is a bit more standardized\n",
    "lead_scoring.drop('Tags', axis=1, inplace=True)"
   ]
  },
  {
   "cell_type": "code",
   "execution_count": 72,
   "id": "0c20bb1f",
   "metadata": {},
   "outputs": [
    {
     "data": {
      "text/plain": [
       "Select                   4825\n",
       "Not provided             2171\n",
       "Online Search             792\n",
       "Word Of Mouth             343\n",
       "Student of SomeSchool     308\n",
       "Other                     181\n",
       "Multiple Sources          152\n",
       "Advertisements             67\n",
       "Social Media               65\n",
       "Email                      26\n",
       "SMS                        23\n",
       "Name: How did you hear about X Education, dtype: int64"
      ]
     },
     "execution_count": 72,
     "metadata": {},
     "output_type": "execute_result"
    }
   ],
   "source": [
    "lead_scoring['How did you hear about X Education'].value_counts()"
   ]
  },
  {
   "cell_type": "code",
   "execution_count": 73,
   "id": "f0b4b277",
   "metadata": {},
   "outputs": [],
   "source": [
    "# as over 70% of the data in this column is unknown, dropping the column\n",
    "lead_scoring.drop('How did you hear about X Education', axis=1, inplace=True)"
   ]
  },
  {
   "cell_type": "markdown",
   "id": "de978aea",
   "metadata": {},
   "source": [
    "### <span style=\"color:blue\">Step 6: Data Preprocessing</span>"
   ]
  },
  {
   "cell_type": "code",
   "execution_count": 74,
   "id": "0d03e032",
   "metadata": {},
   "outputs": [
    {
     "data": {
      "text/plain": [
       "['Lead Origin',\n",
       " 'Lead Source',\n",
       " 'Do Not Email',\n",
       " 'Last Activity',\n",
       " 'Specialization',\n",
       " 'What is your current occupation',\n",
       " 'City',\n",
       " 'A free copy of Mastering The Interview',\n",
       " 'Last Notable Activity',\n",
       " 'Grouped Tags']"
      ]
     },
     "execution_count": 74,
     "metadata": {},
     "output_type": "execute_result"
    }
   ],
   "source": [
    "# select categorical columns\n",
    "lead_scoring.select_dtypes(include='object').columns.tolist()"
   ]
  },
  {
   "cell_type": "code",
   "execution_count": 75,
   "id": "3592ce94",
   "metadata": {},
   "outputs": [],
   "source": [
    "# converting binary variables into numerical variables in order to use it in further algorithms\n",
    "lead_scoring['A free copy of Mastering The Interview'] = lead_scoring['A free copy of Mastering The Interview'].replace({'Yes': 1, 'No': 0})\n",
    "lead_scoring['Do Not Email'] = lead_scoring['Do Not Email'].replace({'Yes': 1, 'No': 0})"
   ]
  },
  {
   "cell_type": "code",
   "execution_count": 76,
   "id": "47c84968",
   "metadata": {},
   "outputs": [
    {
     "data": {
      "text/html": [
       "<div>\n",
       "<style scoped>\n",
       "    .dataframe tbody tr th:only-of-type {\n",
       "        vertical-align: middle;\n",
       "    }\n",
       "\n",
       "    .dataframe tbody tr th {\n",
       "        vertical-align: top;\n",
       "    }\n",
       "\n",
       "    .dataframe thead th {\n",
       "        text-align: right;\n",
       "    }\n",
       "</style>\n",
       "<table border=\"1\" class=\"dataframe\">\n",
       "  <thead>\n",
       "    <tr style=\"text-align: right;\">\n",
       "      <th></th>\n",
       "      <th>Do Not Email</th>\n",
       "      <th>Converted</th>\n",
       "      <th>TotalVisits</th>\n",
       "      <th>Total Time Spent on Website</th>\n",
       "      <th>Page Views Per Visit</th>\n",
       "      <th>A free copy of Mastering The Interview</th>\n",
       "      <th>Lead Origin_Landing Page Submission</th>\n",
       "      <th>Lead Origin_Lead Add Form</th>\n",
       "      <th>Lead Origin_Lead Import</th>\n",
       "      <th>Lead Source_Google</th>\n",
       "      <th>Lead Source_Olark Chat</th>\n",
       "      <th>Lead Source_Organic Search</th>\n",
       "      <th>Lead Source_Other</th>\n",
       "      <th>Lead Source_Reference</th>\n",
       "      <th>Lead Source_Welingak Website</th>\n",
       "      <th>Last Activity_Converted to Lead</th>\n",
       "      <th>Last Activity_Email Bounced</th>\n",
       "      <th>Last Activity_Email Link Clicked</th>\n",
       "      <th>Last Activity_Email Marked Spam</th>\n",
       "      <th>Last Activity_Email Opened</th>\n",
       "      <th>Last Activity_Email Received</th>\n",
       "      <th>Last Activity_Form Submitted on Website</th>\n",
       "      <th>Last Activity_Had a Phone Conversation</th>\n",
       "      <th>Last Activity_Olark Chat Conversation</th>\n",
       "      <th>Last Activity_Page Visited on Website</th>\n",
       "      <th>...</th>\n",
       "      <th>What is your current occupation_Unemployed</th>\n",
       "      <th>What is your current occupation_Working Professional</th>\n",
       "      <th>City_Not provided</th>\n",
       "      <th>City_Other Cities</th>\n",
       "      <th>City_Other Cities of Maharashtra</th>\n",
       "      <th>City_Other Metro Cities</th>\n",
       "      <th>City_Thane &amp; Outskirts</th>\n",
       "      <th>City_Tier II Cities</th>\n",
       "      <th>Last Notable Activity_Email Link Clicked</th>\n",
       "      <th>Last Notable Activity_Email Opened</th>\n",
       "      <th>Last Notable Activity_Had a Phone Conversation</th>\n",
       "      <th>Last Notable Activity_Modified</th>\n",
       "      <th>Last Notable Activity_Olark Chat Conversation</th>\n",
       "      <th>Last Notable Activity_Other</th>\n",
       "      <th>Last Notable Activity_Page Visited on Website</th>\n",
       "      <th>Last Notable Activity_SMS Sent</th>\n",
       "      <th>Last Notable Activity_Unreachable</th>\n",
       "      <th>Last Notable Activity_Unsubscribed</th>\n",
       "      <th>Grouped Tags_EINS / Others</th>\n",
       "      <th>Grouped Tags_Interested in other courses</th>\n",
       "      <th>Grouped Tags_Not Reachable</th>\n",
       "      <th>Grouped Tags_Not interested / eligible</th>\n",
       "      <th>Grouped Tags_Not provided</th>\n",
       "      <th>Grouped Tags_Others</th>\n",
       "      <th>Grouped Tags_Will revert later</th>\n",
       "    </tr>\n",
       "  </thead>\n",
       "  <tbody>\n",
       "    <tr>\n",
       "      <th>0</th>\n",
       "      <td>0</td>\n",
       "      <td>0</td>\n",
       "      <td>0.0</td>\n",
       "      <td>0</td>\n",
       "      <td>0.0</td>\n",
       "      <td>0</td>\n",
       "      <td>0</td>\n",
       "      <td>0</td>\n",
       "      <td>0</td>\n",
       "      <td>0</td>\n",
       "      <td>1</td>\n",
       "      <td>0</td>\n",
       "      <td>0</td>\n",
       "      <td>0</td>\n",
       "      <td>0</td>\n",
       "      <td>0</td>\n",
       "      <td>0</td>\n",
       "      <td>0</td>\n",
       "      <td>0</td>\n",
       "      <td>0</td>\n",
       "      <td>0</td>\n",
       "      <td>0</td>\n",
       "      <td>0</td>\n",
       "      <td>0</td>\n",
       "      <td>1</td>\n",
       "      <td>...</td>\n",
       "      <td>1</td>\n",
       "      <td>0</td>\n",
       "      <td>1</td>\n",
       "      <td>0</td>\n",
       "      <td>0</td>\n",
       "      <td>0</td>\n",
       "      <td>0</td>\n",
       "      <td>0</td>\n",
       "      <td>0</td>\n",
       "      <td>0</td>\n",
       "      <td>0</td>\n",
       "      <td>1</td>\n",
       "      <td>0</td>\n",
       "      <td>0</td>\n",
       "      <td>0</td>\n",
       "      <td>0</td>\n",
       "      <td>0</td>\n",
       "      <td>0</td>\n",
       "      <td>0</td>\n",
       "      <td>1</td>\n",
       "      <td>0</td>\n",
       "      <td>0</td>\n",
       "      <td>0</td>\n",
       "      <td>0</td>\n",
       "      <td>0</td>\n",
       "    </tr>\n",
       "    <tr>\n",
       "      <th>1</th>\n",
       "      <td>0</td>\n",
       "      <td>0</td>\n",
       "      <td>5.0</td>\n",
       "      <td>674</td>\n",
       "      <td>2.5</td>\n",
       "      <td>0</td>\n",
       "      <td>0</td>\n",
       "      <td>0</td>\n",
       "      <td>0</td>\n",
       "      <td>0</td>\n",
       "      <td>0</td>\n",
       "      <td>1</td>\n",
       "      <td>0</td>\n",
       "      <td>0</td>\n",
       "      <td>0</td>\n",
       "      <td>0</td>\n",
       "      <td>0</td>\n",
       "      <td>0</td>\n",
       "      <td>0</td>\n",
       "      <td>1</td>\n",
       "      <td>0</td>\n",
       "      <td>0</td>\n",
       "      <td>0</td>\n",
       "      <td>0</td>\n",
       "      <td>0</td>\n",
       "      <td>...</td>\n",
       "      <td>1</td>\n",
       "      <td>0</td>\n",
       "      <td>1</td>\n",
       "      <td>0</td>\n",
       "      <td>0</td>\n",
       "      <td>0</td>\n",
       "      <td>0</td>\n",
       "      <td>0</td>\n",
       "      <td>0</td>\n",
       "      <td>1</td>\n",
       "      <td>0</td>\n",
       "      <td>0</td>\n",
       "      <td>0</td>\n",
       "      <td>0</td>\n",
       "      <td>0</td>\n",
       "      <td>0</td>\n",
       "      <td>0</td>\n",
       "      <td>0</td>\n",
       "      <td>0</td>\n",
       "      <td>0</td>\n",
       "      <td>1</td>\n",
       "      <td>0</td>\n",
       "      <td>0</td>\n",
       "      <td>0</td>\n",
       "      <td>0</td>\n",
       "    </tr>\n",
       "    <tr>\n",
       "      <th>2</th>\n",
       "      <td>0</td>\n",
       "      <td>1</td>\n",
       "      <td>2.0</td>\n",
       "      <td>1532</td>\n",
       "      <td>2.0</td>\n",
       "      <td>1</td>\n",
       "      <td>1</td>\n",
       "      <td>0</td>\n",
       "      <td>0</td>\n",
       "      <td>0</td>\n",
       "      <td>0</td>\n",
       "      <td>0</td>\n",
       "      <td>0</td>\n",
       "      <td>0</td>\n",
       "      <td>0</td>\n",
       "      <td>0</td>\n",
       "      <td>0</td>\n",
       "      <td>0</td>\n",
       "      <td>0</td>\n",
       "      <td>1</td>\n",
       "      <td>0</td>\n",
       "      <td>0</td>\n",
       "      <td>0</td>\n",
       "      <td>0</td>\n",
       "      <td>0</td>\n",
       "      <td>...</td>\n",
       "      <td>0</td>\n",
       "      <td>0</td>\n",
       "      <td>0</td>\n",
       "      <td>0</td>\n",
       "      <td>0</td>\n",
       "      <td>0</td>\n",
       "      <td>0</td>\n",
       "      <td>0</td>\n",
       "      <td>0</td>\n",
       "      <td>1</td>\n",
       "      <td>0</td>\n",
       "      <td>0</td>\n",
       "      <td>0</td>\n",
       "      <td>0</td>\n",
       "      <td>0</td>\n",
       "      <td>0</td>\n",
       "      <td>0</td>\n",
       "      <td>0</td>\n",
       "      <td>0</td>\n",
       "      <td>0</td>\n",
       "      <td>0</td>\n",
       "      <td>0</td>\n",
       "      <td>0</td>\n",
       "      <td>0</td>\n",
       "      <td>1</td>\n",
       "    </tr>\n",
       "    <tr>\n",
       "      <th>3</th>\n",
       "      <td>0</td>\n",
       "      <td>0</td>\n",
       "      <td>1.0</td>\n",
       "      <td>305</td>\n",
       "      <td>1.0</td>\n",
       "      <td>0</td>\n",
       "      <td>1</td>\n",
       "      <td>0</td>\n",
       "      <td>0</td>\n",
       "      <td>0</td>\n",
       "      <td>0</td>\n",
       "      <td>0</td>\n",
       "      <td>0</td>\n",
       "      <td>0</td>\n",
       "      <td>0</td>\n",
       "      <td>0</td>\n",
       "      <td>0</td>\n",
       "      <td>0</td>\n",
       "      <td>0</td>\n",
       "      <td>0</td>\n",
       "      <td>0</td>\n",
       "      <td>0</td>\n",
       "      <td>0</td>\n",
       "      <td>0</td>\n",
       "      <td>0</td>\n",
       "      <td>...</td>\n",
       "      <td>1</td>\n",
       "      <td>0</td>\n",
       "      <td>0</td>\n",
       "      <td>0</td>\n",
       "      <td>0</td>\n",
       "      <td>0</td>\n",
       "      <td>0</td>\n",
       "      <td>0</td>\n",
       "      <td>0</td>\n",
       "      <td>0</td>\n",
       "      <td>0</td>\n",
       "      <td>1</td>\n",
       "      <td>0</td>\n",
       "      <td>0</td>\n",
       "      <td>0</td>\n",
       "      <td>0</td>\n",
       "      <td>0</td>\n",
       "      <td>0</td>\n",
       "      <td>0</td>\n",
       "      <td>0</td>\n",
       "      <td>1</td>\n",
       "      <td>0</td>\n",
       "      <td>0</td>\n",
       "      <td>0</td>\n",
       "      <td>0</td>\n",
       "    </tr>\n",
       "    <tr>\n",
       "      <th>4</th>\n",
       "      <td>0</td>\n",
       "      <td>1</td>\n",
       "      <td>2.0</td>\n",
       "      <td>1428</td>\n",
       "      <td>1.0</td>\n",
       "      <td>0</td>\n",
       "      <td>1</td>\n",
       "      <td>0</td>\n",
       "      <td>0</td>\n",
       "      <td>1</td>\n",
       "      <td>0</td>\n",
       "      <td>0</td>\n",
       "      <td>0</td>\n",
       "      <td>0</td>\n",
       "      <td>0</td>\n",
       "      <td>1</td>\n",
       "      <td>0</td>\n",
       "      <td>0</td>\n",
       "      <td>0</td>\n",
       "      <td>0</td>\n",
       "      <td>0</td>\n",
       "      <td>0</td>\n",
       "      <td>0</td>\n",
       "      <td>0</td>\n",
       "      <td>0</td>\n",
       "      <td>...</td>\n",
       "      <td>1</td>\n",
       "      <td>0</td>\n",
       "      <td>0</td>\n",
       "      <td>0</td>\n",
       "      <td>0</td>\n",
       "      <td>0</td>\n",
       "      <td>0</td>\n",
       "      <td>0</td>\n",
       "      <td>0</td>\n",
       "      <td>0</td>\n",
       "      <td>0</td>\n",
       "      <td>1</td>\n",
       "      <td>0</td>\n",
       "      <td>0</td>\n",
       "      <td>0</td>\n",
       "      <td>0</td>\n",
       "      <td>0</td>\n",
       "      <td>0</td>\n",
       "      <td>0</td>\n",
       "      <td>0</td>\n",
       "      <td>0</td>\n",
       "      <td>0</td>\n",
       "      <td>0</td>\n",
       "      <td>0</td>\n",
       "      <td>1</td>\n",
       "    </tr>\n",
       "  </tbody>\n",
       "</table>\n",
       "<p>5 rows × 78 columns</p>\n",
       "</div>"
      ],
      "text/plain": [
       "   Do Not Email  Converted  TotalVisits  Total Time Spent on Website  \\\n",
       "0             0          0          0.0                            0   \n",
       "1             0          0          5.0                          674   \n",
       "2             0          1          2.0                         1532   \n",
       "3             0          0          1.0                          305   \n",
       "4             0          1          2.0                         1428   \n",
       "\n",
       "   Page Views Per Visit  A free copy of Mastering The Interview  \\\n",
       "0                   0.0                                       0   \n",
       "1                   2.5                                       0   \n",
       "2                   2.0                                       1   \n",
       "3                   1.0                                       0   \n",
       "4                   1.0                                       0   \n",
       "\n",
       "   Lead Origin_Landing Page Submission  Lead Origin_Lead Add Form  \\\n",
       "0                                    0                          0   \n",
       "1                                    0                          0   \n",
       "2                                    1                          0   \n",
       "3                                    1                          0   \n",
       "4                                    1                          0   \n",
       "\n",
       "   Lead Origin_Lead Import  Lead Source_Google  Lead Source_Olark Chat  \\\n",
       "0                        0                   0                       1   \n",
       "1                        0                   0                       0   \n",
       "2                        0                   0                       0   \n",
       "3                        0                   0                       0   \n",
       "4                        0                   1                       0   \n",
       "\n",
       "   Lead Source_Organic Search  Lead Source_Other  Lead Source_Reference  \\\n",
       "0                           0                  0                      0   \n",
       "1                           1                  0                      0   \n",
       "2                           0                  0                      0   \n",
       "3                           0                  0                      0   \n",
       "4                           0                  0                      0   \n",
       "\n",
       "   Lead Source_Welingak Website  Last Activity_Converted to Lead  \\\n",
       "0                             0                                0   \n",
       "1                             0                                0   \n",
       "2                             0                                0   \n",
       "3                             0                                0   \n",
       "4                             0                                1   \n",
       "\n",
       "   Last Activity_Email Bounced  Last Activity_Email Link Clicked  \\\n",
       "0                            0                                 0   \n",
       "1                            0                                 0   \n",
       "2                            0                                 0   \n",
       "3                            0                                 0   \n",
       "4                            0                                 0   \n",
       "\n",
       "   Last Activity_Email Marked Spam  Last Activity_Email Opened  \\\n",
       "0                                0                           0   \n",
       "1                                0                           1   \n",
       "2                                0                           1   \n",
       "3                                0                           0   \n",
       "4                                0                           0   \n",
       "\n",
       "   Last Activity_Email Received  Last Activity_Form Submitted on Website  \\\n",
       "0                             0                                        0   \n",
       "1                             0                                        0   \n",
       "2                             0                                        0   \n",
       "3                             0                                        0   \n",
       "4                             0                                        0   \n",
       "\n",
       "   Last Activity_Had a Phone Conversation  \\\n",
       "0                                       0   \n",
       "1                                       0   \n",
       "2                                       0   \n",
       "3                                       0   \n",
       "4                                       0   \n",
       "\n",
       "   Last Activity_Olark Chat Conversation  \\\n",
       "0                                      0   \n",
       "1                                      0   \n",
       "2                                      0   \n",
       "3                                      0   \n",
       "4                                      0   \n",
       "\n",
       "   Last Activity_Page Visited on Website  ...  \\\n",
       "0                                      1  ...   \n",
       "1                                      0  ...   \n",
       "2                                      0  ...   \n",
       "3                                      0  ...   \n",
       "4                                      0  ...   \n",
       "\n",
       "   What is your current occupation_Unemployed  \\\n",
       "0                                           1   \n",
       "1                                           1   \n",
       "2                                           0   \n",
       "3                                           1   \n",
       "4                                           1   \n",
       "\n",
       "   What is your current occupation_Working Professional  City_Not provided  \\\n",
       "0                                                  0                     1   \n",
       "1                                                  0                     1   \n",
       "2                                                  0                     0   \n",
       "3                                                  0                     0   \n",
       "4                                                  0                     0   \n",
       "\n",
       "   City_Other Cities  City_Other Cities of Maharashtra  \\\n",
       "0                  0                                 0   \n",
       "1                  0                                 0   \n",
       "2                  0                                 0   \n",
       "3                  0                                 0   \n",
       "4                  0                                 0   \n",
       "\n",
       "   City_Other Metro Cities  City_Thane & Outskirts  City_Tier II Cities  \\\n",
       "0                        0                       0                    0   \n",
       "1                        0                       0                    0   \n",
       "2                        0                       0                    0   \n",
       "3                        0                       0                    0   \n",
       "4                        0                       0                    0   \n",
       "\n",
       "   Last Notable Activity_Email Link Clicked  \\\n",
       "0                                         0   \n",
       "1                                         0   \n",
       "2                                         0   \n",
       "3                                         0   \n",
       "4                                         0   \n",
       "\n",
       "   Last Notable Activity_Email Opened  \\\n",
       "0                                   0   \n",
       "1                                   1   \n",
       "2                                   1   \n",
       "3                                   0   \n",
       "4                                   0   \n",
       "\n",
       "   Last Notable Activity_Had a Phone Conversation  \\\n",
       "0                                               0   \n",
       "1                                               0   \n",
       "2                                               0   \n",
       "3                                               0   \n",
       "4                                               0   \n",
       "\n",
       "   Last Notable Activity_Modified  \\\n",
       "0                               1   \n",
       "1                               0   \n",
       "2                               0   \n",
       "3                               1   \n",
       "4                               1   \n",
       "\n",
       "   Last Notable Activity_Olark Chat Conversation  Last Notable Activity_Other  \\\n",
       "0                                              0                            0   \n",
       "1                                              0                            0   \n",
       "2                                              0                            0   \n",
       "3                                              0                            0   \n",
       "4                                              0                            0   \n",
       "\n",
       "   Last Notable Activity_Page Visited on Website  \\\n",
       "0                                              0   \n",
       "1                                              0   \n",
       "2                                              0   \n",
       "3                                              0   \n",
       "4                                              0   \n",
       "\n",
       "   Last Notable Activity_SMS Sent  Last Notable Activity_Unreachable  \\\n",
       "0                               0                                  0   \n",
       "1                               0                                  0   \n",
       "2                               0                                  0   \n",
       "3                               0                                  0   \n",
       "4                               0                                  0   \n",
       "\n",
       "   Last Notable Activity_Unsubscribed  Grouped Tags_EINS / Others  \\\n",
       "0                                   0                           0   \n",
       "1                                   0                           0   \n",
       "2                                   0                           0   \n",
       "3                                   0                           0   \n",
       "4                                   0                           0   \n",
       "\n",
       "   Grouped Tags_Interested in other courses  Grouped Tags_Not Reachable  \\\n",
       "0                                         1                           0   \n",
       "1                                         0                           1   \n",
       "2                                         0                           0   \n",
       "3                                         0                           1   \n",
       "4                                         0                           0   \n",
       "\n",
       "   Grouped Tags_Not interested / eligible  Grouped Tags_Not provided  \\\n",
       "0                                       0                          0   \n",
       "1                                       0                          0   \n",
       "2                                       0                          0   \n",
       "3                                       0                          0   \n",
       "4                                       0                          0   \n",
       "\n",
       "   Grouped Tags_Others  Grouped Tags_Will revert later  \n",
       "0                    0                               0  \n",
       "1                    0                               0  \n",
       "2                    0                               1  \n",
       "3                    0                               0  \n",
       "4                    0                               1  \n",
       "\n",
       "[5 rows x 78 columns]"
      ]
     },
     "execution_count": 76,
     "metadata": {},
     "output_type": "execute_result"
    }
   ],
   "source": [
    "# create dummy\n",
    "cat_cols = ['Lead Origin', 'Lead Source', 'Last Activity', 'Specialization', \n",
    "            'What is your current occupation', \n",
    "            'City', 'Last Notable Activity', 'Grouped Tags']\n",
    "\n",
    "# create dummy variables for each categorical column\n",
    "for col in cat_cols:\n",
    "    dummy = pd.get_dummies(lead_scoring[col], prefix=col, prefix_sep='_', drop_first=True)\n",
    "    lead_scoring = pd.concat([lead_scoring, dummy], axis=1)\n",
    "    \n",
    "# drop the original categorical columns\n",
    "lead_scoring.drop(cat_cols, axis=1, inplace=True)\n",
    "lead_scoring.head()"
   ]
  },
  {
   "cell_type": "markdown",
   "id": "20856e1c",
   "metadata": {},
   "source": [
    "### <span style=\"color:blue\">Step 7: Train-Test split</span>"
   ]
  },
  {
   "cell_type": "code",
   "execution_count": 77,
   "id": "429f1b34",
   "metadata": {},
   "outputs": [],
   "source": [
    "X_train, X_test, y_train, y_test = train_test_split(lead_scoring.drop('Converted', axis=1), \n",
    "                                                    lead_scoring['Converted'], \n",
    "                                                    test_size=0.3, \n",
    "                                                    random_state=42)"
   ]
  },
  {
   "cell_type": "code",
   "execution_count": 78,
   "id": "dc9d381d",
   "metadata": {},
   "outputs": [
    {
     "data": {
      "text/plain": [
       "Index(['Do Not Email', 'Converted', 'TotalVisits',\n",
       "       'Total Time Spent on Website', 'Page Views Per Visit',\n",
       "       'A free copy of Mastering The Interview',\n",
       "       'Lead Origin_Landing Page Submission', 'Lead Origin_Lead Add Form',\n",
       "       'Lead Origin_Lead Import', 'Lead Source_Google',\n",
       "       'Lead Source_Olark Chat', 'Lead Source_Organic Search',\n",
       "       'Lead Source_Other', 'Lead Source_Reference',\n",
       "       'Lead Source_Welingak Website', 'Last Activity_Converted to Lead',\n",
       "       'Last Activity_Email Bounced', 'Last Activity_Email Link Clicked',\n",
       "       'Last Activity_Email Marked Spam', 'Last Activity_Email Opened',\n",
       "       'Last Activity_Email Received',\n",
       "       'Last Activity_Form Submitted on Website',\n",
       "       'Last Activity_Had a Phone Conversation',\n",
       "       'Last Activity_Olark Chat Conversation',\n",
       "       'Last Activity_Page Visited on Website',\n",
       "       'Last Activity_Resubscribed to emails', 'Last Activity_SMS Sent',\n",
       "       'Last Activity_Unreachable', 'Last Activity_Unsubscribed',\n",
       "       'Last Activity_View in browser link Clicked',\n",
       "       'Last Activity_Visited Booth in Tradeshow',\n",
       "       'Specialization_Business Administration', 'Specialization_E-Business',\n",
       "       'Specialization_E-COMMERCE', 'Specialization_Finance Management',\n",
       "       'Specialization_Healthcare Management',\n",
       "       'Specialization_Hospitality Management',\n",
       "       'Specialization_Human Resource Management',\n",
       "       'Specialization_IT Projects Management',\n",
       "       'Specialization_International Business',\n",
       "       'Specialization_Marketing Management',\n",
       "       'Specialization_Media and Advertising', 'Specialization_Not Provided',\n",
       "       'Specialization_Operations Management',\n",
       "       'Specialization_Retail Management',\n",
       "       'Specialization_Rural and Agribusiness',\n",
       "       'Specialization_Services Excellence',\n",
       "       'Specialization_Supply Chain Management',\n",
       "       'Specialization_Travel and Tourism',\n",
       "       'What is your current occupation_Housewife',\n",
       "       'What is your current occupation_Not provided',\n",
       "       'What is your current occupation_Other',\n",
       "       'What is your current occupation_Student',\n",
       "       'What is your current occupation_Unemployed',\n",
       "       'What is your current occupation_Working Professional',\n",
       "       'City_Not provided', 'City_Other Cities',\n",
       "       'City_Other Cities of Maharashtra', 'City_Other Metro Cities',\n",
       "       'City_Thane & Outskirts', 'City_Tier II Cities',\n",
       "       'Last Notable Activity_Email Link Clicked',\n",
       "       'Last Notable Activity_Email Opened',\n",
       "       'Last Notable Activity_Had a Phone Conversation',\n",
       "       'Last Notable Activity_Modified',\n",
       "       'Last Notable Activity_Olark Chat Conversation',\n",
       "       'Last Notable Activity_Other',\n",
       "       'Last Notable Activity_Page Visited on Website',\n",
       "       'Last Notable Activity_SMS Sent', 'Last Notable Activity_Unreachable',\n",
       "       'Last Notable Activity_Unsubscribed', 'Grouped Tags_EINS / Others',\n",
       "       'Grouped Tags_Interested in other courses',\n",
       "       'Grouped Tags_Not Reachable', 'Grouped Tags_Not interested / eligible',\n",
       "       'Grouped Tags_Not provided', 'Grouped Tags_Others',\n",
       "       'Grouped Tags_Will revert later'],\n",
       "      dtype='object')"
      ]
     },
     "execution_count": 78,
     "metadata": {},
     "output_type": "execute_result"
    }
   ],
   "source": [
    "lead_scoring.columns"
   ]
  },
  {
   "cell_type": "markdown",
   "id": "2cfdcffd",
   "metadata": {},
   "source": [
    "### <span style=\"color:blue\">Step 8: Feature Scaling</span>"
   ]
  },
  {
   "cell_type": "code",
   "execution_count": 79,
   "id": "3bf43ea8",
   "metadata": {},
   "outputs": [],
   "source": [
    "# create a list of eligible columns\n",
    "eligible_cols = ['TotalVisits', 'Total Time Spent on Website', 'Page Views Per Visit']\n",
    "\n",
    "# instantiate the StandardScaler\n",
    "scaler = StandardScaler()\n",
    "\n",
    "# fit and transform the eligible columns\n",
    "lead_scoring[eligible_cols] = scaler.fit_transform(lead_scoring[eligible_cols])"
   ]
  },
  {
   "cell_type": "code",
   "execution_count": 80,
   "id": "8e2a97b8",
   "metadata": {},
   "outputs": [
    {
     "data": {
      "text/html": [
       "<div>\n",
       "<style scoped>\n",
       "    .dataframe tbody tr th:only-of-type {\n",
       "        vertical-align: middle;\n",
       "    }\n",
       "\n",
       "    .dataframe tbody tr th {\n",
       "        vertical-align: top;\n",
       "    }\n",
       "\n",
       "    .dataframe thead th {\n",
       "        text-align: right;\n",
       "    }\n",
       "</style>\n",
       "<table border=\"1\" class=\"dataframe\">\n",
       "  <thead>\n",
       "    <tr style=\"text-align: right;\">\n",
       "      <th></th>\n",
       "      <th>Do Not Email</th>\n",
       "      <th>Converted</th>\n",
       "      <th>TotalVisits</th>\n",
       "      <th>Total Time Spent on Website</th>\n",
       "      <th>Page Views Per Visit</th>\n",
       "      <th>A free copy of Mastering The Interview</th>\n",
       "      <th>Lead Origin_Landing Page Submission</th>\n",
       "      <th>Lead Origin_Lead Add Form</th>\n",
       "      <th>Lead Origin_Lead Import</th>\n",
       "      <th>Lead Source_Google</th>\n",
       "      <th>Lead Source_Olark Chat</th>\n",
       "      <th>Lead Source_Organic Search</th>\n",
       "      <th>Lead Source_Other</th>\n",
       "      <th>Lead Source_Reference</th>\n",
       "      <th>Lead Source_Welingak Website</th>\n",
       "      <th>Last Activity_Converted to Lead</th>\n",
       "      <th>Last Activity_Email Bounced</th>\n",
       "      <th>Last Activity_Email Link Clicked</th>\n",
       "      <th>Last Activity_Email Marked Spam</th>\n",
       "      <th>Last Activity_Email Opened</th>\n",
       "      <th>Last Activity_Email Received</th>\n",
       "      <th>Last Activity_Form Submitted on Website</th>\n",
       "      <th>Last Activity_Had a Phone Conversation</th>\n",
       "      <th>Last Activity_Olark Chat Conversation</th>\n",
       "      <th>Last Activity_Page Visited on Website</th>\n",
       "      <th>...</th>\n",
       "      <th>What is your current occupation_Unemployed</th>\n",
       "      <th>What is your current occupation_Working Professional</th>\n",
       "      <th>City_Not provided</th>\n",
       "      <th>City_Other Cities</th>\n",
       "      <th>City_Other Cities of Maharashtra</th>\n",
       "      <th>City_Other Metro Cities</th>\n",
       "      <th>City_Thane &amp; Outskirts</th>\n",
       "      <th>City_Tier II Cities</th>\n",
       "      <th>Last Notable Activity_Email Link Clicked</th>\n",
       "      <th>Last Notable Activity_Email Opened</th>\n",
       "      <th>Last Notable Activity_Had a Phone Conversation</th>\n",
       "      <th>Last Notable Activity_Modified</th>\n",
       "      <th>Last Notable Activity_Olark Chat Conversation</th>\n",
       "      <th>Last Notable Activity_Other</th>\n",
       "      <th>Last Notable Activity_Page Visited on Website</th>\n",
       "      <th>Last Notable Activity_SMS Sent</th>\n",
       "      <th>Last Notable Activity_Unreachable</th>\n",
       "      <th>Last Notable Activity_Unsubscribed</th>\n",
       "      <th>Grouped Tags_EINS / Others</th>\n",
       "      <th>Grouped Tags_Interested in other courses</th>\n",
       "      <th>Grouped Tags_Not Reachable</th>\n",
       "      <th>Grouped Tags_Not interested / eligible</th>\n",
       "      <th>Grouped Tags_Not provided</th>\n",
       "      <th>Grouped Tags_Others</th>\n",
       "      <th>Grouped Tags_Will revert later</th>\n",
       "    </tr>\n",
       "  </thead>\n",
       "  <tbody>\n",
       "    <tr>\n",
       "      <th>0</th>\n",
       "      <td>0</td>\n",
       "      <td>0</td>\n",
       "      <td>-1.087739</td>\n",
       "      <td>-0.881705</td>\n",
       "      <td>-1.202121</td>\n",
       "      <td>0</td>\n",
       "      <td>0</td>\n",
       "      <td>0</td>\n",
       "      <td>0</td>\n",
       "      <td>0</td>\n",
       "      <td>1</td>\n",
       "      <td>0</td>\n",
       "      <td>0</td>\n",
       "      <td>0</td>\n",
       "      <td>0</td>\n",
       "      <td>0</td>\n",
       "      <td>0</td>\n",
       "      <td>0</td>\n",
       "      <td>0</td>\n",
       "      <td>0</td>\n",
       "      <td>0</td>\n",
       "      <td>0</td>\n",
       "      <td>0</td>\n",
       "      <td>0</td>\n",
       "      <td>1</td>\n",
       "      <td>...</td>\n",
       "      <td>1</td>\n",
       "      <td>0</td>\n",
       "      <td>1</td>\n",
       "      <td>0</td>\n",
       "      <td>0</td>\n",
       "      <td>0</td>\n",
       "      <td>0</td>\n",
       "      <td>0</td>\n",
       "      <td>0</td>\n",
       "      <td>0</td>\n",
       "      <td>0</td>\n",
       "      <td>1</td>\n",
       "      <td>0</td>\n",
       "      <td>0</td>\n",
       "      <td>0</td>\n",
       "      <td>0</td>\n",
       "      <td>0</td>\n",
       "      <td>0</td>\n",
       "      <td>0</td>\n",
       "      <td>1</td>\n",
       "      <td>0</td>\n",
       "      <td>0</td>\n",
       "      <td>0</td>\n",
       "      <td>0</td>\n",
       "      <td>0</td>\n",
       "    </tr>\n",
       "    <tr>\n",
       "      <th>1</th>\n",
       "      <td>0</td>\n",
       "      <td>0</td>\n",
       "      <td>0.637421</td>\n",
       "      <td>0.355838</td>\n",
       "      <td>0.119988</td>\n",
       "      <td>0</td>\n",
       "      <td>0</td>\n",
       "      <td>0</td>\n",
       "      <td>0</td>\n",
       "      <td>0</td>\n",
       "      <td>0</td>\n",
       "      <td>1</td>\n",
       "      <td>0</td>\n",
       "      <td>0</td>\n",
       "      <td>0</td>\n",
       "      <td>0</td>\n",
       "      <td>0</td>\n",
       "      <td>0</td>\n",
       "      <td>0</td>\n",
       "      <td>1</td>\n",
       "      <td>0</td>\n",
       "      <td>0</td>\n",
       "      <td>0</td>\n",
       "      <td>0</td>\n",
       "      <td>0</td>\n",
       "      <td>...</td>\n",
       "      <td>1</td>\n",
       "      <td>0</td>\n",
       "      <td>1</td>\n",
       "      <td>0</td>\n",
       "      <td>0</td>\n",
       "      <td>0</td>\n",
       "      <td>0</td>\n",
       "      <td>0</td>\n",
       "      <td>0</td>\n",
       "      <td>1</td>\n",
       "      <td>0</td>\n",
       "      <td>0</td>\n",
       "      <td>0</td>\n",
       "      <td>0</td>\n",
       "      <td>0</td>\n",
       "      <td>0</td>\n",
       "      <td>0</td>\n",
       "      <td>0</td>\n",
       "      <td>0</td>\n",
       "      <td>0</td>\n",
       "      <td>1</td>\n",
       "      <td>0</td>\n",
       "      <td>0</td>\n",
       "      <td>0</td>\n",
       "      <td>0</td>\n",
       "    </tr>\n",
       "    <tr>\n",
       "      <th>2</th>\n",
       "      <td>0</td>\n",
       "      <td>1</td>\n",
       "      <td>-0.397675</td>\n",
       "      <td>1.931227</td>\n",
       "      <td>-0.144434</td>\n",
       "      <td>1</td>\n",
       "      <td>1</td>\n",
       "      <td>0</td>\n",
       "      <td>0</td>\n",
       "      <td>0</td>\n",
       "      <td>0</td>\n",
       "      <td>0</td>\n",
       "      <td>0</td>\n",
       "      <td>0</td>\n",
       "      <td>0</td>\n",
       "      <td>0</td>\n",
       "      <td>0</td>\n",
       "      <td>0</td>\n",
       "      <td>0</td>\n",
       "      <td>1</td>\n",
       "      <td>0</td>\n",
       "      <td>0</td>\n",
       "      <td>0</td>\n",
       "      <td>0</td>\n",
       "      <td>0</td>\n",
       "      <td>...</td>\n",
       "      <td>0</td>\n",
       "      <td>0</td>\n",
       "      <td>0</td>\n",
       "      <td>0</td>\n",
       "      <td>0</td>\n",
       "      <td>0</td>\n",
       "      <td>0</td>\n",
       "      <td>0</td>\n",
       "      <td>0</td>\n",
       "      <td>1</td>\n",
       "      <td>0</td>\n",
       "      <td>0</td>\n",
       "      <td>0</td>\n",
       "      <td>0</td>\n",
       "      <td>0</td>\n",
       "      <td>0</td>\n",
       "      <td>0</td>\n",
       "      <td>0</td>\n",
       "      <td>0</td>\n",
       "      <td>0</td>\n",
       "      <td>0</td>\n",
       "      <td>0</td>\n",
       "      <td>0</td>\n",
       "      <td>0</td>\n",
       "      <td>1</td>\n",
       "    </tr>\n",
       "    <tr>\n",
       "      <th>3</th>\n",
       "      <td>0</td>\n",
       "      <td>0</td>\n",
       "      <td>-0.742707</td>\n",
       "      <td>-0.321689</td>\n",
       "      <td>-0.673278</td>\n",
       "      <td>0</td>\n",
       "      <td>1</td>\n",
       "      <td>0</td>\n",
       "      <td>0</td>\n",
       "      <td>0</td>\n",
       "      <td>0</td>\n",
       "      <td>0</td>\n",
       "      <td>0</td>\n",
       "      <td>0</td>\n",
       "      <td>0</td>\n",
       "      <td>0</td>\n",
       "      <td>0</td>\n",
       "      <td>0</td>\n",
       "      <td>0</td>\n",
       "      <td>0</td>\n",
       "      <td>0</td>\n",
       "      <td>0</td>\n",
       "      <td>0</td>\n",
       "      <td>0</td>\n",
       "      <td>0</td>\n",
       "      <td>...</td>\n",
       "      <td>1</td>\n",
       "      <td>0</td>\n",
       "      <td>0</td>\n",
       "      <td>0</td>\n",
       "      <td>0</td>\n",
       "      <td>0</td>\n",
       "      <td>0</td>\n",
       "      <td>0</td>\n",
       "      <td>0</td>\n",
       "      <td>0</td>\n",
       "      <td>0</td>\n",
       "      <td>1</td>\n",
       "      <td>0</td>\n",
       "      <td>0</td>\n",
       "      <td>0</td>\n",
       "      <td>0</td>\n",
       "      <td>0</td>\n",
       "      <td>0</td>\n",
       "      <td>0</td>\n",
       "      <td>0</td>\n",
       "      <td>1</td>\n",
       "      <td>0</td>\n",
       "      <td>0</td>\n",
       "      <td>0</td>\n",
       "      <td>0</td>\n",
       "    </tr>\n",
       "    <tr>\n",
       "      <th>4</th>\n",
       "      <td>0</td>\n",
       "      <td>1</td>\n",
       "      <td>-0.397675</td>\n",
       "      <td>1.740270</td>\n",
       "      <td>-0.673278</td>\n",
       "      <td>0</td>\n",
       "      <td>1</td>\n",
       "      <td>0</td>\n",
       "      <td>0</td>\n",
       "      <td>1</td>\n",
       "      <td>0</td>\n",
       "      <td>0</td>\n",
       "      <td>0</td>\n",
       "      <td>0</td>\n",
       "      <td>0</td>\n",
       "      <td>1</td>\n",
       "      <td>0</td>\n",
       "      <td>0</td>\n",
       "      <td>0</td>\n",
       "      <td>0</td>\n",
       "      <td>0</td>\n",
       "      <td>0</td>\n",
       "      <td>0</td>\n",
       "      <td>0</td>\n",
       "      <td>0</td>\n",
       "      <td>...</td>\n",
       "      <td>1</td>\n",
       "      <td>0</td>\n",
       "      <td>0</td>\n",
       "      <td>0</td>\n",
       "      <td>0</td>\n",
       "      <td>0</td>\n",
       "      <td>0</td>\n",
       "      <td>0</td>\n",
       "      <td>0</td>\n",
       "      <td>0</td>\n",
       "      <td>0</td>\n",
       "      <td>1</td>\n",
       "      <td>0</td>\n",
       "      <td>0</td>\n",
       "      <td>0</td>\n",
       "      <td>0</td>\n",
       "      <td>0</td>\n",
       "      <td>0</td>\n",
       "      <td>0</td>\n",
       "      <td>0</td>\n",
       "      <td>0</td>\n",
       "      <td>0</td>\n",
       "      <td>0</td>\n",
       "      <td>0</td>\n",
       "      <td>1</td>\n",
       "    </tr>\n",
       "  </tbody>\n",
       "</table>\n",
       "<p>5 rows × 78 columns</p>\n",
       "</div>"
      ],
      "text/plain": [
       "   Do Not Email  Converted  TotalVisits  Total Time Spent on Website  \\\n",
       "0             0          0    -1.087739                    -0.881705   \n",
       "1             0          0     0.637421                     0.355838   \n",
       "2             0          1    -0.397675                     1.931227   \n",
       "3             0          0    -0.742707                    -0.321689   \n",
       "4             0          1    -0.397675                     1.740270   \n",
       "\n",
       "   Page Views Per Visit  A free copy of Mastering The Interview  \\\n",
       "0             -1.202121                                       0   \n",
       "1              0.119988                                       0   \n",
       "2             -0.144434                                       1   \n",
       "3             -0.673278                                       0   \n",
       "4             -0.673278                                       0   \n",
       "\n",
       "   Lead Origin_Landing Page Submission  Lead Origin_Lead Add Form  \\\n",
       "0                                    0                          0   \n",
       "1                                    0                          0   \n",
       "2                                    1                          0   \n",
       "3                                    1                          0   \n",
       "4                                    1                          0   \n",
       "\n",
       "   Lead Origin_Lead Import  Lead Source_Google  Lead Source_Olark Chat  \\\n",
       "0                        0                   0                       1   \n",
       "1                        0                   0                       0   \n",
       "2                        0                   0                       0   \n",
       "3                        0                   0                       0   \n",
       "4                        0                   1                       0   \n",
       "\n",
       "   Lead Source_Organic Search  Lead Source_Other  Lead Source_Reference  \\\n",
       "0                           0                  0                      0   \n",
       "1                           1                  0                      0   \n",
       "2                           0                  0                      0   \n",
       "3                           0                  0                      0   \n",
       "4                           0                  0                      0   \n",
       "\n",
       "   Lead Source_Welingak Website  Last Activity_Converted to Lead  \\\n",
       "0                             0                                0   \n",
       "1                             0                                0   \n",
       "2                             0                                0   \n",
       "3                             0                                0   \n",
       "4                             0                                1   \n",
       "\n",
       "   Last Activity_Email Bounced  Last Activity_Email Link Clicked  \\\n",
       "0                            0                                 0   \n",
       "1                            0                                 0   \n",
       "2                            0                                 0   \n",
       "3                            0                                 0   \n",
       "4                            0                                 0   \n",
       "\n",
       "   Last Activity_Email Marked Spam  Last Activity_Email Opened  \\\n",
       "0                                0                           0   \n",
       "1                                0                           1   \n",
       "2                                0                           1   \n",
       "3                                0                           0   \n",
       "4                                0                           0   \n",
       "\n",
       "   Last Activity_Email Received  Last Activity_Form Submitted on Website  \\\n",
       "0                             0                                        0   \n",
       "1                             0                                        0   \n",
       "2                             0                                        0   \n",
       "3                             0                                        0   \n",
       "4                             0                                        0   \n",
       "\n",
       "   Last Activity_Had a Phone Conversation  \\\n",
       "0                                       0   \n",
       "1                                       0   \n",
       "2                                       0   \n",
       "3                                       0   \n",
       "4                                       0   \n",
       "\n",
       "   Last Activity_Olark Chat Conversation  \\\n",
       "0                                      0   \n",
       "1                                      0   \n",
       "2                                      0   \n",
       "3                                      0   \n",
       "4                                      0   \n",
       "\n",
       "   Last Activity_Page Visited on Website  ...  \\\n",
       "0                                      1  ...   \n",
       "1                                      0  ...   \n",
       "2                                      0  ...   \n",
       "3                                      0  ...   \n",
       "4                                      0  ...   \n",
       "\n",
       "   What is your current occupation_Unemployed  \\\n",
       "0                                           1   \n",
       "1                                           1   \n",
       "2                                           0   \n",
       "3                                           1   \n",
       "4                                           1   \n",
       "\n",
       "   What is your current occupation_Working Professional  City_Not provided  \\\n",
       "0                                                  0                     1   \n",
       "1                                                  0                     1   \n",
       "2                                                  0                     0   \n",
       "3                                                  0                     0   \n",
       "4                                                  0                     0   \n",
       "\n",
       "   City_Other Cities  City_Other Cities of Maharashtra  \\\n",
       "0                  0                                 0   \n",
       "1                  0                                 0   \n",
       "2                  0                                 0   \n",
       "3                  0                                 0   \n",
       "4                  0                                 0   \n",
       "\n",
       "   City_Other Metro Cities  City_Thane & Outskirts  City_Tier II Cities  \\\n",
       "0                        0                       0                    0   \n",
       "1                        0                       0                    0   \n",
       "2                        0                       0                    0   \n",
       "3                        0                       0                    0   \n",
       "4                        0                       0                    0   \n",
       "\n",
       "   Last Notable Activity_Email Link Clicked  \\\n",
       "0                                         0   \n",
       "1                                         0   \n",
       "2                                         0   \n",
       "3                                         0   \n",
       "4                                         0   \n",
       "\n",
       "   Last Notable Activity_Email Opened  \\\n",
       "0                                   0   \n",
       "1                                   1   \n",
       "2                                   1   \n",
       "3                                   0   \n",
       "4                                   0   \n",
       "\n",
       "   Last Notable Activity_Had a Phone Conversation  \\\n",
       "0                                               0   \n",
       "1                                               0   \n",
       "2                                               0   \n",
       "3                                               0   \n",
       "4                                               0   \n",
       "\n",
       "   Last Notable Activity_Modified  \\\n",
       "0                               1   \n",
       "1                               0   \n",
       "2                               0   \n",
       "3                               1   \n",
       "4                               1   \n",
       "\n",
       "   Last Notable Activity_Olark Chat Conversation  Last Notable Activity_Other  \\\n",
       "0                                              0                            0   \n",
       "1                                              0                            0   \n",
       "2                                              0                            0   \n",
       "3                                              0                            0   \n",
       "4                                              0                            0   \n",
       "\n",
       "   Last Notable Activity_Page Visited on Website  \\\n",
       "0                                              0   \n",
       "1                                              0   \n",
       "2                                              0   \n",
       "3                                              0   \n",
       "4                                              0   \n",
       "\n",
       "   Last Notable Activity_SMS Sent  Last Notable Activity_Unreachable  \\\n",
       "0                               0                                  0   \n",
       "1                               0                                  0   \n",
       "2                               0                                  0   \n",
       "3                               0                                  0   \n",
       "4                               0                                  0   \n",
       "\n",
       "   Last Notable Activity_Unsubscribed  Grouped Tags_EINS / Others  \\\n",
       "0                                   0                           0   \n",
       "1                                   0                           0   \n",
       "2                                   0                           0   \n",
       "3                                   0                           0   \n",
       "4                                   0                           0   \n",
       "\n",
       "   Grouped Tags_Interested in other courses  Grouped Tags_Not Reachable  \\\n",
       "0                                         1                           0   \n",
       "1                                         0                           1   \n",
       "2                                         0                           0   \n",
       "3                                         0                           1   \n",
       "4                                         0                           0   \n",
       "\n",
       "   Grouped Tags_Not interested / eligible  Grouped Tags_Not provided  \\\n",
       "0                                       0                          0   \n",
       "1                                       0                          0   \n",
       "2                                       0                          0   \n",
       "3                                       0                          0   \n",
       "4                                       0                          0   \n",
       "\n",
       "   Grouped Tags_Others  Grouped Tags_Will revert later  \n",
       "0                    0                               0  \n",
       "1                    0                               0  \n",
       "2                    0                               1  \n",
       "3                    0                               0  \n",
       "4                    0                               1  \n",
       "\n",
       "[5 rows x 78 columns]"
      ]
     },
     "execution_count": 80,
     "metadata": {},
     "output_type": "execute_result"
    }
   ],
   "source": [
    "lead_scoring.head()"
   ]
  },
  {
   "cell_type": "markdown",
   "id": "f38f8aba",
   "metadata": {},
   "source": [
    "### <span style=\"color:blue\">Step 9: Model Building using RFE and statsmodel</span>"
   ]
  },
  {
   "cell_type": "code",
   "execution_count": 81,
   "id": "b29e48fd",
   "metadata": {},
   "outputs": [],
   "source": [
    "# Initializing logistic regression model object\n",
    "logreg = LogisticRegression()"
   ]
  },
  {
   "cell_type": "code",
   "execution_count": 82,
   "id": "9b700a63",
   "metadata": {},
   "outputs": [],
   "source": [
    "rfe = RFE(logreg, n_features_to_select=15)             # running RFE with 15 variables as output\n",
    "rfe = rfe.fit(X_train, y_train)"
   ]
  },
  {
   "cell_type": "code",
   "execution_count": 83,
   "id": "e23b0b7a",
   "metadata": {},
   "outputs": [
    {
     "data": {
      "text/plain": [
       "[('Do Not Email', True, 1),\n",
       " ('TotalVisits', False, 42),\n",
       " ('Total Time Spent on Website', False, 60),\n",
       " ('Page Views Per Visit', False, 41),\n",
       " ('A free copy of Mastering The Interview', False, 46),\n",
       " ('Lead Origin_Landing Page Submission', False, 5),\n",
       " ('Lead Origin_Lead Add Form', False, 16),\n",
       " ('Lead Origin_Lead Import', True, 1),\n",
       " ('Lead Source_Google', False, 17),\n",
       " ('Lead Source_Olark Chat', False, 45),\n",
       " ('Lead Source_Organic Search', False, 18),\n",
       " ('Lead Source_Other', False, 44),\n",
       " ('Lead Source_Reference', False, 22),\n",
       " ('Lead Source_Welingak Website', True, 1),\n",
       " ('Last Activity_Converted to Lead', True, 1),\n",
       " ('Last Activity_Email Bounced', False, 50),\n",
       " ('Last Activity_Email Link Clicked', False, 30),\n",
       " ('Last Activity_Email Marked Spam', False, 49),\n",
       " ('Last Activity_Email Opened', False, 29),\n",
       " ('Last Activity_Email Received', False, 54),\n",
       " ('Last Activity_Form Submitted on Website', False, 28),\n",
       " ('Last Activity_Had a Phone Conversation', True, 1),\n",
       " ('Last Activity_Olark Chat Conversation', True, 1),\n",
       " ('Last Activity_Page Visited on Website', False, 25),\n",
       " ('Last Activity_Resubscribed to emails', False, 47),\n",
       " ('Last Activity_SMS Sent', False, 3),\n",
       " ('Last Activity_Unreachable', False, 31),\n",
       " ('Last Activity_Unsubscribed', False, 14),\n",
       " ('Last Activity_View in browser link Clicked', False, 10),\n",
       " ('Last Activity_Visited Booth in Tradeshow', False, 62),\n",
       " ('Specialization_Business Administration', False, 32),\n",
       " ('Specialization_E-Business', False, 63),\n",
       " ('Specialization_E-COMMERCE', False, 36),\n",
       " ('Specialization_Finance Management', False, 21),\n",
       " ('Specialization_Healthcare Management', False, 61),\n",
       " ('Specialization_Hospitality Management', False, 24),\n",
       " ('Specialization_Human Resource Management', False, 35),\n",
       " ('Specialization_IT Projects Management', False, 51),\n",
       " ('Specialization_International Business', False, 59),\n",
       " ('Specialization_Marketing Management', False, 34),\n",
       " ('Specialization_Media and Advertising', False, 37),\n",
       " ('Specialization_Not Provided', False, 6),\n",
       " ('Specialization_Operations Management', False, 33),\n",
       " ('Specialization_Retail Management', False, 58),\n",
       " ('Specialization_Rural and Agribusiness', False, 7),\n",
       " ('Specialization_Services Excellence', False, 19),\n",
       " ('Specialization_Supply Chain Management', False, 20),\n",
       " ('Specialization_Travel and Tourism', False, 23),\n",
       " ('What is your current occupation_Housewife', False, 13),\n",
       " ('What is your current occupation_Not provided', True, 1),\n",
       " ('What is your current occupation_Other', False, 38),\n",
       " ('What is your current occupation_Student', False, 56),\n",
       " ('What is your current occupation_Unemployed', False, 26),\n",
       " ('What is your current occupation_Working Professional', False, 2),\n",
       " ('City_Not provided', False, 57),\n",
       " ('City_Other Cities', False, 52),\n",
       " ('City_Other Cities of Maharashtra', False, 48),\n",
       " ('City_Other Metro Cities', False, 11),\n",
       " ('City_Thane & Outskirts', False, 55),\n",
       " ('City_Tier II Cities', False, 53),\n",
       " ('Last Notable Activity_Email Link Clicked', False, 8),\n",
       " ('Last Notable Activity_Email Opened', False, 27),\n",
       " ('Last Notable Activity_Had a Phone Conversation', False, 9),\n",
       " ('Last Notable Activity_Modified', False, 4),\n",
       " ('Last Notable Activity_Olark Chat Conversation', False, 15),\n",
       " ('Last Notable Activity_Other', False, 43),\n",
       " ('Last Notable Activity_Page Visited on Website', False, 40),\n",
       " ('Last Notable Activity_SMS Sent', True, 1),\n",
       " ('Last Notable Activity_Unreachable', False, 39),\n",
       " ('Last Notable Activity_Unsubscribed', True, 1),\n",
       " ('Grouped Tags_EINS / Others', True, 1),\n",
       " ('Grouped Tags_Interested in other courses', True, 1),\n",
       " ('Grouped Tags_Not Reachable', True, 1),\n",
       " ('Grouped Tags_Not interested / eligible', True, 1),\n",
       " ('Grouped Tags_Not provided', True, 1),\n",
       " ('Grouped Tags_Others', True, 1),\n",
       " ('Grouped Tags_Will revert later', False, 12)]"
      ]
     },
     "execution_count": 83,
     "metadata": {},
     "output_type": "execute_result"
    }
   ],
   "source": [
    "# check the column that was selected by RFE, and the ranking of the column according to RFE\n",
    "list(zip(X_train.columns, rfe.support_, rfe.ranking_))"
   ]
  },
  {
   "cell_type": "code",
   "execution_count": 84,
   "id": "116a9e1e",
   "metadata": {},
   "outputs": [
    {
     "name": "stdout",
     "output_type": "stream",
     "text": [
      "Index(['Do Not Email', 'Lead Origin_Lead Import',\n",
      "       'Lead Source_Welingak Website', 'Last Activity_Converted to Lead',\n",
      "       'Last Activity_Had a Phone Conversation',\n",
      "       'Last Activity_Olark Chat Conversation',\n",
      "       'What is your current occupation_Not provided',\n",
      "       'Last Notable Activity_SMS Sent', 'Last Notable Activity_Unsubscribed',\n",
      "       'Grouped Tags_EINS / Others',\n",
      "       'Grouped Tags_Interested in other courses',\n",
      "       'Grouped Tags_Not Reachable', 'Grouped Tags_Not interested / eligible',\n",
      "       'Grouped Tags_Not provided', 'Grouped Tags_Others'],\n",
      "      dtype='object')\n"
     ]
    }
   ],
   "source": [
    "# To check the columns selected\n",
    "print(X_train.columns[rfe.support_])"
   ]
  },
  {
   "cell_type": "code",
   "execution_count": 85,
   "id": "1c5a42a9",
   "metadata": {},
   "outputs": [
    {
     "name": "stdout",
     "output_type": "stream",
     "text": [
      "Index(['TotalVisits', 'Total Time Spent on Website', 'Page Views Per Visit',\n",
      "       'A free copy of Mastering The Interview',\n",
      "       'Lead Origin_Landing Page Submission', 'Lead Origin_Lead Add Form',\n",
      "       'Lead Source_Google', 'Lead Source_Olark Chat',\n",
      "       'Lead Source_Organic Search', 'Lead Source_Other',\n",
      "       'Lead Source_Reference', 'Last Activity_Email Bounced',\n",
      "       'Last Activity_Email Link Clicked', 'Last Activity_Email Marked Spam',\n",
      "       'Last Activity_Email Opened', 'Last Activity_Email Received',\n",
      "       'Last Activity_Form Submitted on Website',\n",
      "       'Last Activity_Page Visited on Website',\n",
      "       'Last Activity_Resubscribed to emails', 'Last Activity_SMS Sent',\n",
      "       'Last Activity_Unreachable', 'Last Activity_Unsubscribed',\n",
      "       'Last Activity_View in browser link Clicked',\n",
      "       'Last Activity_Visited Booth in Tradeshow',\n",
      "       'Specialization_Business Administration', 'Specialization_E-Business',\n",
      "       'Specialization_E-COMMERCE', 'Specialization_Finance Management',\n",
      "       'Specialization_Healthcare Management',\n",
      "       'Specialization_Hospitality Management',\n",
      "       'Specialization_Human Resource Management',\n",
      "       'Specialization_IT Projects Management',\n",
      "       'Specialization_International Business',\n",
      "       'Specialization_Marketing Management',\n",
      "       'Specialization_Media and Advertising', 'Specialization_Not Provided',\n",
      "       'Specialization_Operations Management',\n",
      "       'Specialization_Retail Management',\n",
      "       'Specialization_Rural and Agribusiness',\n",
      "       'Specialization_Services Excellence',\n",
      "       'Specialization_Supply Chain Management',\n",
      "       'Specialization_Travel and Tourism',\n",
      "       'What is your current occupation_Housewife',\n",
      "       'What is your current occupation_Other',\n",
      "       'What is your current occupation_Student',\n",
      "       'What is your current occupation_Unemployed',\n",
      "       'What is your current occupation_Working Professional',\n",
      "       'City_Not provided', 'City_Other Cities',\n",
      "       'City_Other Cities of Maharashtra', 'City_Other Metro Cities',\n",
      "       'City_Thane & Outskirts', 'City_Tier II Cities',\n",
      "       'Last Notable Activity_Email Link Clicked',\n",
      "       'Last Notable Activity_Email Opened',\n",
      "       'Last Notable Activity_Had a Phone Conversation',\n",
      "       'Last Notable Activity_Modified',\n",
      "       'Last Notable Activity_Olark Chat Conversation',\n",
      "       'Last Notable Activity_Other',\n",
      "       'Last Notable Activity_Page Visited on Website',\n",
      "       'Last Notable Activity_Unreachable', 'Grouped Tags_Will revert later'],\n",
      "      dtype='object')\n"
     ]
    }
   ],
   "source": [
    "# To check the columns dropped\n",
    "print(X_train.columns[~rfe.support_])"
   ]
  },
  {
   "cell_type": "code",
   "execution_count": 86,
   "id": "fdb6ec76",
   "metadata": {},
   "outputs": [
    {
     "name": "stdout",
     "output_type": "stream",
     "text": [
      "                 Generalized Linear Model Regression Results                  \n",
      "==============================================================================\n",
      "Dep. Variable:              Converted   No. Observations:                 6267\n",
      "Model:                            GLM   Df Residuals:                     6251\n",
      "Model Family:                Binomial   Df Model:                           15\n",
      "Link Function:                  Logit   Scale:                          1.0000\n",
      "Method:                          IRLS   Log-Likelihood:                -1340.8\n",
      "Date:                Mon, 17 Apr 2023   Deviance:                       2681.6\n",
      "Time:                        23:55:01   Pearson chi2:                 8.32e+03\n",
      "No. Iterations:                     7   Pseudo R-squ. (CS):             0.5919\n",
      "Covariance Type:            nonrobust                                         \n",
      "================================================================================================================\n",
      "                                                   coef    std err          z      P>|z|      [0.025      0.975]\n",
      "----------------------------------------------------------------------------------------------------------------\n",
      "const                                            3.2377      0.158     20.509      0.000       2.928       3.547\n",
      "Do Not Email                                    -1.7989      0.251     -7.165      0.000      -2.291      -1.307\n",
      "Lead Origin_Lead Import                         -1.7976      1.029     -1.747      0.081      -3.814       0.219\n",
      "Lead Source_Welingak Website                     3.4123      1.035      3.296      0.001       1.383       5.441\n",
      "Last Activity_Converted to Lead                 -1.7959      0.347     -5.182      0.000      -2.475      -1.117\n",
      "Last Activity_Had a Phone Conversation          -1.7809      0.655     -2.721      0.007      -3.064      -0.498\n",
      "Last Activity_Olark Chat Conversation           -1.4167      0.223     -6.347      0.000      -1.854      -0.979\n",
      "What is your current occupation_Not provided    -2.6469      0.145    -18.271      0.000      -2.931      -2.363\n",
      "Last Notable Activity_SMS Sent                   2.3732      0.133     17.788      0.000       2.112       2.635\n",
      "Last Notable Activity_Unsubscribed               1.6953      0.735      2.306      0.021       0.255       3.136\n",
      "Grouped Tags_EINS / Others                       2.9381      0.771      3.809      0.000       1.426       4.450\n",
      "Grouped Tags_Interested in other courses        -6.8243      0.419    -16.296      0.000      -7.645      -6.003\n",
      "Grouped Tags_Not Reachable                      -6.9092      0.212    -32.523      0.000      -7.326      -6.493\n",
      "Grouped Tags_Not interested / eligible          -6.8788      0.343    -20.042      0.000      -7.552      -6.206\n",
      "Grouped Tags_Not provided                       -2.7945      0.192    -14.565      0.000      -3.171      -2.418\n",
      "Grouped Tags_Others                             -3.8711      0.470     -8.229      0.000      -4.793      -2.949\n",
      "================================================================================================================\n"
     ]
    }
   ],
   "source": [
    "# using statsmodel\n",
    "col = X_train.columns[rfe.support_]\n",
    "X_train_sm = sm.add_constant(X_train[col])     # adds a constant term to the training set to compute the intercept\n",
    "logm1 = sm.GLM(y_train,X_train_sm, family = sm.families.Binomial())     # fits the generalized linear model (GLM) with binomial family \n",
    "res = logm1.fit()     # fits the logistic regression model using the training set\n",
    "print(res.summary())"
   ]
  },
  {
   "cell_type": "code",
   "execution_count": 87,
   "id": "8874c62f",
   "metadata": {},
   "outputs": [],
   "source": [
    "# p-value of Lead Source_Welingak Website is high thus, dropping it\n",
    "col = col.drop('Lead Source_Welingak Website', 1)"
   ]
  },
  {
   "cell_type": "code",
   "execution_count": 88,
   "id": "00e487a8",
   "metadata": {},
   "outputs": [
    {
     "name": "stdout",
     "output_type": "stream",
     "text": [
      "                 Generalized Linear Model Regression Results                  \n",
      "==============================================================================\n",
      "Dep. Variable:              Converted   No. Observations:                 6267\n",
      "Model:                            GLM   Df Residuals:                     6252\n",
      "Model Family:                Binomial   Df Model:                           14\n",
      "Link Function:                  Logit   Scale:                          1.0000\n",
      "Method:                          IRLS   Log-Likelihood:                -1356.1\n",
      "Date:                Mon, 17 Apr 2023   Deviance:                       2712.2\n",
      "Time:                        23:55:01   Pearson chi2:                 8.54e+03\n",
      "No. Iterations:                     7   Pseudo R-squ. (CS):             0.5899\n",
      "Covariance Type:            nonrobust                                         \n",
      "================================================================================================================\n",
      "                                                   coef    std err          z      P>|z|      [0.025      0.975]\n",
      "----------------------------------------------------------------------------------------------------------------\n",
      "const                                            3.2551      0.158     20.620      0.000       2.946       3.565\n",
      "Do Not Email                                    -1.6962      0.237     -7.151      0.000      -2.161      -1.231\n",
      "Lead Origin_Lead Import                         -1.8653      1.016     -1.835      0.066      -3.858       0.127\n",
      "Last Activity_Converted to Lead                 -1.8494      0.344     -5.375      0.000      -2.524      -1.175\n",
      "Last Activity_Had a Phone Conversation          -1.7982      0.655     -2.747      0.006      -3.081      -0.515\n",
      "Last Activity_Olark Chat Conversation           -1.4811      0.224     -6.625      0.000      -1.919      -1.043\n",
      "What is your current occupation_Not provided    -2.8189      0.142    -19.902      0.000      -3.096      -2.541\n",
      "Last Notable Activity_SMS Sent                   2.3822      0.133     17.944      0.000       2.122       2.642\n",
      "Last Notable Activity_Unsubscribed               1.5720      0.736      2.136      0.033       0.129       3.015\n",
      "Grouped Tags_EINS / Others                       3.0754      0.772      3.984      0.000       1.563       4.588\n",
      "Grouped Tags_Interested in other courses        -6.8370      0.419    -16.318      0.000      -7.658      -6.016\n",
      "Grouped Tags_Not Reachable                      -6.9370      0.213    -32.639      0.000      -7.354      -6.520\n",
      "Grouped Tags_Not interested / eligible          -6.8950      0.343    -20.083      0.000      -7.568      -6.222\n",
      "Grouped Tags_Not provided                       -2.6411      0.189    -13.944      0.000      -3.012      -2.270\n",
      "Grouped Tags_Others                             -3.8903      0.471     -8.252      0.000      -4.814      -2.966\n",
      "================================================================================================================\n"
     ]
    }
   ],
   "source": [
    "# re-building the model\n",
    "X_train_sm = sm.add_constant(X_train[col])\n",
    "logm2 = sm.GLM(y_train,X_train_sm, family = sm.families.Binomial())\n",
    "res = logm2.fit()\n",
    "print(res.summary())"
   ]
  },
  {
   "cell_type": "code",
   "execution_count": 89,
   "id": "fb10af60",
   "metadata": {},
   "outputs": [],
   "source": [
    "# p-value of Lead Origin_Lead Import is high thus, dropping it\n",
    "col = col.drop('Lead Origin_Lead Import', 1)"
   ]
  },
  {
   "cell_type": "code",
   "execution_count": 90,
   "id": "e735f136",
   "metadata": {},
   "outputs": [
    {
     "name": "stdout",
     "output_type": "stream",
     "text": [
      "                 Generalized Linear Model Regression Results                  \n",
      "==============================================================================\n",
      "Dep. Variable:              Converted   No. Observations:                 6267\n",
      "Model:                            GLM   Df Residuals:                     6253\n",
      "Model Family:                Binomial   Df Model:                           13\n",
      "Link Function:                  Logit   Scale:                          1.0000\n",
      "Method:                          IRLS   Log-Likelihood:                -1357.9\n",
      "Date:                Mon, 17 Apr 2023   Deviance:                       2715.8\n",
      "Time:                        23:55:01   Pearson chi2:                 8.53e+03\n",
      "No. Iterations:                     7   Pseudo R-squ. (CS):             0.5896\n",
      "Covariance Type:            nonrobust                                         \n",
      "================================================================================================================\n",
      "                                                   coef    std err          z      P>|z|      [0.025      0.975]\n",
      "----------------------------------------------------------------------------------------------------------------\n",
      "const                                            3.2410      0.157     20.613      0.000       2.933       3.549\n",
      "Do Not Email                                    -1.6887      0.237     -7.126      0.000      -2.153      -1.224\n",
      "Last Activity_Converted to Lead                 -1.8376      0.344     -5.347      0.000      -2.511      -1.164\n",
      "Last Activity_Had a Phone Conversation          -1.7841      0.654     -2.726      0.006      -3.067      -0.501\n",
      "Last Activity_Olark Chat Conversation           -1.4705      0.223     -6.585      0.000      -1.908      -1.033\n",
      "What is your current occupation_Not provided    -2.8127      0.141    -19.896      0.000      -3.090      -2.536\n",
      "Last Notable Activity_SMS Sent                   2.3907      0.133     18.022      0.000       2.131       2.651\n",
      "Last Notable Activity_Unsubscribed               1.5733      0.735      2.139      0.032       0.132       3.015\n",
      "Grouped Tags_EINS / Others                       3.0784      0.771      3.990      0.000       1.566       4.590\n",
      "Grouped Tags_Interested in other courses        -6.8252      0.419    -16.296      0.000      -7.646      -6.004\n",
      "Grouped Tags_Not Reachable                      -6.9320      0.212    -32.674      0.000      -7.348      -6.516\n",
      "Grouped Tags_Not interested / eligible          -6.8845      0.343    -20.067      0.000      -7.557      -6.212\n",
      "Grouped Tags_Not provided                       -2.6407      0.189    -13.968      0.000      -3.011      -2.270\n",
      "Grouped Tags_Others                             -3.8790      0.471     -8.229      0.000      -4.803      -2.955\n",
      "================================================================================================================\n"
     ]
    }
   ],
   "source": [
    "# re-building the model\n",
    "X_train_sm = sm.add_constant(X_train[col])\n",
    "logm3 = sm.GLM(y_train,X_train_sm, family = sm.families.Binomial())\n",
    "res = logm3.fit()\n",
    "print(res.summary())"
   ]
  },
  {
   "cell_type": "markdown",
   "id": "5bc98d61",
   "metadata": {},
   "source": [
    "### <span style=\"color:blue\">Step 10: Model Evaluation</span>"
   ]
  },
  {
   "cell_type": "code",
   "execution_count": 91,
   "id": "be03685f",
   "metadata": {},
   "outputs": [
    {
     "data": {
      "text/html": [
       "<div>\n",
       "<style scoped>\n",
       "    .dataframe tbody tr th:only-of-type {\n",
       "        vertical-align: middle;\n",
       "    }\n",
       "\n",
       "    .dataframe tbody tr th {\n",
       "        vertical-align: top;\n",
       "    }\n",
       "\n",
       "    .dataframe thead th {\n",
       "        text-align: right;\n",
       "    }\n",
       "</style>\n",
       "<table border=\"1\" class=\"dataframe\">\n",
       "  <thead>\n",
       "    <tr style=\"text-align: right;\">\n",
       "      <th></th>\n",
       "      <th>Features</th>\n",
       "      <th>VIF</th>\n",
       "    </tr>\n",
       "  </thead>\n",
       "  <tbody>\n",
       "    <tr>\n",
       "      <th>11</th>\n",
       "      <td>Grouped Tags_Not provided</td>\n",
       "      <td>4.48</td>\n",
       "    </tr>\n",
       "    <tr>\n",
       "      <th>4</th>\n",
       "      <td>What is your current occupation_Not provided</td>\n",
       "      <td>4.31</td>\n",
       "    </tr>\n",
       "    <tr>\n",
       "      <th>3</th>\n",
       "      <td>Last Activity_Olark Chat Conversation</td>\n",
       "      <td>1.25</td>\n",
       "    </tr>\n",
       "    <tr>\n",
       "      <th>5</th>\n",
       "      <td>Last Notable Activity_SMS Sent</td>\n",
       "      <td>1.22</td>\n",
       "    </tr>\n",
       "    <tr>\n",
       "      <th>0</th>\n",
       "      <td>Do Not Email</td>\n",
       "      <td>1.20</td>\n",
       "    </tr>\n",
       "    <tr>\n",
       "      <th>9</th>\n",
       "      <td>Grouped Tags_Not Reachable</td>\n",
       "      <td>1.18</td>\n",
       "    </tr>\n",
       "    <tr>\n",
       "      <th>1</th>\n",
       "      <td>Last Activity_Converted to Lead</td>\n",
       "      <td>1.10</td>\n",
       "    </tr>\n",
       "    <tr>\n",
       "      <th>10</th>\n",
       "      <td>Grouped Tags_Not interested / eligible</td>\n",
       "      <td>1.10</td>\n",
       "    </tr>\n",
       "    <tr>\n",
       "      <th>6</th>\n",
       "      <td>Last Notable Activity_Unsubscribed</td>\n",
       "      <td>1.08</td>\n",
       "    </tr>\n",
       "    <tr>\n",
       "      <th>8</th>\n",
       "      <td>Grouped Tags_Interested in other courses</td>\n",
       "      <td>1.08</td>\n",
       "    </tr>\n",
       "    <tr>\n",
       "      <th>7</th>\n",
       "      <td>Grouped Tags_EINS / Others</td>\n",
       "      <td>1.02</td>\n",
       "    </tr>\n",
       "    <tr>\n",
       "      <th>2</th>\n",
       "      <td>Last Activity_Had a Phone Conversation</td>\n",
       "      <td>1.00</td>\n",
       "    </tr>\n",
       "    <tr>\n",
       "      <th>12</th>\n",
       "      <td>Grouped Tags_Others</td>\n",
       "      <td>1.00</td>\n",
       "    </tr>\n",
       "  </tbody>\n",
       "</table>\n",
       "</div>"
      ],
      "text/plain": [
       "                                        Features   VIF\n",
       "11                     Grouped Tags_Not provided  4.48\n",
       "4   What is your current occupation_Not provided  4.31\n",
       "3          Last Activity_Olark Chat Conversation  1.25\n",
       "5                 Last Notable Activity_SMS Sent  1.22\n",
       "0                                   Do Not Email  1.20\n",
       "9                     Grouped Tags_Not Reachable  1.18\n",
       "1                Last Activity_Converted to Lead  1.10\n",
       "10        Grouped Tags_Not interested / eligible  1.10\n",
       "6             Last Notable Activity_Unsubscribed  1.08\n",
       "8       Grouped Tags_Interested in other courses  1.08\n",
       "7                     Grouped Tags_EINS / Others  1.02\n",
       "2         Last Activity_Had a Phone Conversation  1.00\n",
       "12                           Grouped Tags_Others  1.00"
      ]
     },
     "execution_count": 91,
     "metadata": {},
     "output_type": "execute_result"
    }
   ],
   "source": [
    "# Check for the VIF values of the feature variables. \n",
    "# Create a dataframe that will contain the names of all the feature variables and their respective VIFs\n",
    "vif = pd.DataFrame()\n",
    "vif['Features'] = X_train[col].columns\n",
    "vif['VIF'] = [variance_inflation_factor(X_train[col].values, i) for i in range(X_train[col].shape[1])]\n",
    "vif['VIF'] = round(vif['VIF'], 2)\n",
    "vif = vif.sort_values(by = \"VIF\", ascending = False)\n",
    "vif"
   ]
  },
  {
   "cell_type": "markdown",
   "id": "baa6628a",
   "metadata": {},
   "source": [
    "#### <span style=\"color:green\">Finding:</span>\n",
    "- VIF for all variables is under 5 so no issues here"
   ]
  },
  {
   "cell_type": "code",
   "execution_count": 92,
   "id": "bacb07d5",
   "metadata": {},
   "outputs": [
    {
     "data": {
      "text/plain": [
       "array([0.02549223, 0.02453228, 0.02453228, 0.64571877, 0.09864398,\n",
       "       0.02453228, 0.02174531, 0.02549223, 0.09864398, 0.34567845])"
      ]
     },
     "execution_count": 92,
     "metadata": {},
     "output_type": "execute_result"
    }
   ],
   "source": [
    "# predict on test data\n",
    "y_pred = res.predict(X_train_sm)\n",
    "y_pred = y_pred.values.reshape(-1)\n",
    "y_pred[:10]"
   ]
  },
  {
   "cell_type": "code",
   "execution_count": 93,
   "id": "52669881",
   "metadata": {},
   "outputs": [
    {
     "data": {
      "text/html": [
       "<div>\n",
       "<style scoped>\n",
       "    .dataframe tbody tr th:only-of-type {\n",
       "        vertical-align: middle;\n",
       "    }\n",
       "\n",
       "    .dataframe tbody tr th {\n",
       "        vertical-align: top;\n",
       "    }\n",
       "\n",
       "    .dataframe thead th {\n",
       "        text-align: right;\n",
       "    }\n",
       "</style>\n",
       "<table border=\"1\" class=\"dataframe\">\n",
       "  <thead>\n",
       "    <tr style=\"text-align: right;\">\n",
       "      <th></th>\n",
       "      <th>Converted</th>\n",
       "      <th>Conversion_prob</th>\n",
       "      <th>ID</th>\n",
       "    </tr>\n",
       "  </thead>\n",
       "  <tbody>\n",
       "    <tr>\n",
       "      <th>0</th>\n",
       "      <td>0</td>\n",
       "      <td>0.025492</td>\n",
       "      <td>3378</td>\n",
       "    </tr>\n",
       "    <tr>\n",
       "      <th>1</th>\n",
       "      <td>0</td>\n",
       "      <td>0.024532</td>\n",
       "      <td>2263</td>\n",
       "    </tr>\n",
       "    <tr>\n",
       "      <th>2</th>\n",
       "      <td>0</td>\n",
       "      <td>0.024532</td>\n",
       "      <td>4228</td>\n",
       "    </tr>\n",
       "    <tr>\n",
       "      <th>3</th>\n",
       "      <td>0</td>\n",
       "      <td>0.645719</td>\n",
       "      <td>940</td>\n",
       "    </tr>\n",
       "    <tr>\n",
       "      <th>4</th>\n",
       "      <td>0</td>\n",
       "      <td>0.098644</td>\n",
       "      <td>8688</td>\n",
       "    </tr>\n",
       "  </tbody>\n",
       "</table>\n",
       "</div>"
      ],
      "text/plain": [
       "   Converted  Conversion_prob    ID\n",
       "0          0         0.025492  3378\n",
       "1          0         0.024532  2263\n",
       "2          0         0.024532  4228\n",
       "3          0         0.645719   940\n",
       "4          0         0.098644  8688"
      ]
     },
     "execution_count": 93,
     "metadata": {},
     "output_type": "execute_result"
    }
   ],
   "source": [
    "y_train_pred_final = pd.DataFrame({'Converted':y_train.values, 'Conversion_prob':y_pred})\n",
    "y_train_pred_final['ID'] = y_train.index\n",
    "y_train_pred_final.head()"
   ]
  },
  {
   "cell_type": "code",
   "execution_count": 94,
   "id": "77021eaf",
   "metadata": {},
   "outputs": [
    {
     "data": {
      "text/html": [
       "<div>\n",
       "<style scoped>\n",
       "    .dataframe tbody tr th:only-of-type {\n",
       "        vertical-align: middle;\n",
       "    }\n",
       "\n",
       "    .dataframe tbody tr th {\n",
       "        vertical-align: top;\n",
       "    }\n",
       "\n",
       "    .dataframe thead th {\n",
       "        text-align: right;\n",
       "    }\n",
       "</style>\n",
       "<table border=\"1\" class=\"dataframe\">\n",
       "  <thead>\n",
       "    <tr style=\"text-align: right;\">\n",
       "      <th></th>\n",
       "      <th>Converted</th>\n",
       "      <th>Conversion_prob</th>\n",
       "      <th>ID</th>\n",
       "      <th>Predicted</th>\n",
       "    </tr>\n",
       "  </thead>\n",
       "  <tbody>\n",
       "    <tr>\n",
       "      <th>0</th>\n",
       "      <td>0</td>\n",
       "      <td>0.025492</td>\n",
       "      <td>3378</td>\n",
       "      <td>0</td>\n",
       "    </tr>\n",
       "    <tr>\n",
       "      <th>1</th>\n",
       "      <td>0</td>\n",
       "      <td>0.024532</td>\n",
       "      <td>2263</td>\n",
       "      <td>0</td>\n",
       "    </tr>\n",
       "    <tr>\n",
       "      <th>2</th>\n",
       "      <td>0</td>\n",
       "      <td>0.024532</td>\n",
       "      <td>4228</td>\n",
       "      <td>0</td>\n",
       "    </tr>\n",
       "    <tr>\n",
       "      <th>3</th>\n",
       "      <td>0</td>\n",
       "      <td>0.645719</td>\n",
       "      <td>940</td>\n",
       "      <td>1</td>\n",
       "    </tr>\n",
       "    <tr>\n",
       "      <th>4</th>\n",
       "      <td>0</td>\n",
       "      <td>0.098644</td>\n",
       "      <td>8688</td>\n",
       "      <td>0</td>\n",
       "    </tr>\n",
       "  </tbody>\n",
       "</table>\n",
       "</div>"
      ],
      "text/plain": [
       "   Converted  Conversion_prob    ID  Predicted\n",
       "0          0         0.025492  3378          0\n",
       "1          0         0.024532  2263          0\n",
       "2          0         0.024532  4228          0\n",
       "3          0         0.645719   940          1\n",
       "4          0         0.098644  8688          0"
      ]
     },
     "execution_count": 94,
     "metadata": {},
     "output_type": "execute_result"
    }
   ],
   "source": [
    "# Creating new column 'predicted' with 1 if Churn_Prob > 0.5 else 0\n",
    "y_train_pred_final['Predicted'] = y_train_pred_final.Conversion_prob.map(lambda x: 1 if x > 0.5 else 0)\n",
    "y_train_pred_final.head()"
   ]
  },
  {
   "cell_type": "code",
   "execution_count": 95,
   "id": "8eb66bfc",
   "metadata": {},
   "outputs": [
    {
     "name": "stdout",
     "output_type": "stream",
     "text": [
      "0.9283548747407053\n"
     ]
    }
   ],
   "source": [
    "# Let's check the overall accuracy.\n",
    "print(metrics.accuracy_score(y_train_pred_final.Converted, y_train_pred_final.Predicted))"
   ]
  },
  {
   "cell_type": "code",
   "execution_count": 96,
   "id": "0307c8fc",
   "metadata": {},
   "outputs": [
    {
     "name": "stdout",
     "output_type": "stream",
     "text": [
      "[[3705  206]\n",
      " [ 243 2113]]\n"
     ]
    }
   ],
   "source": [
    "# Confusion matrix \n",
    "confusion = metrics.confusion_matrix(y_train_pred_final.Converted, y_train_pred_final.Predicted)\n",
    "print(confusion)"
   ]
  },
  {
   "cell_type": "markdown",
   "id": "455580c3",
   "metadata": {},
   "source": [
    "<table style=\"width:50%; float:left\">\n",
    "  <tr>\n",
    "    <th></th>\n",
    "    <th>Actual Positive</th> \n",
    "    <th>Actual Negative</th>\n",
    "  </tr>\n",
    "  <tr>\n",
    "    <td>Predicted Positive</td>\n",
    "    <td>3705</td> \n",
    "    <td>206</td>\n",
    "  </tr>\n",
    "  <tr>\n",
    "    <td>Predicted Negative\t</td>\n",
    "    <td>243</td> \n",
    "    <td>2113</td>\n",
    "  </tr>\n",
    "</table>\n"
   ]
  },
  {
   "cell_type": "code",
   "execution_count": 97,
   "id": "34de9dfe",
   "metadata": {},
   "outputs": [],
   "source": [
    "TP = confusion[1,1] # true positive \n",
    "TN = confusion[0,0] # true negatives\n",
    "FP = confusion[0,1] # false positives\n",
    "FN = confusion[1,0] # false negatives"
   ]
  },
  {
   "cell_type": "code",
   "execution_count": 98,
   "id": "a4b2dcb0",
   "metadata": {},
   "outputs": [
    {
     "data": {
      "text/plain": [
       "0.8968590831918506"
      ]
     },
     "execution_count": 98,
     "metadata": {},
     "output_type": "execute_result"
    }
   ],
   "source": [
    "# Let's see the sensitivity of our logistic regression model\n",
    "TP / float(TP+FN)"
   ]
  },
  {
   "cell_type": "code",
   "execution_count": 99,
   "id": "cc21e71a",
   "metadata": {},
   "outputs": [
    {
     "data": {
      "text/plain": [
       "0.9473280490923037"
      ]
     },
     "execution_count": 99,
     "metadata": {},
     "output_type": "execute_result"
    }
   ],
   "source": [
    "# Let us calculate specificity\n",
    "TN / float(TN+FP)"
   ]
  },
  {
   "cell_type": "code",
   "execution_count": 100,
   "id": "78d98557",
   "metadata": {},
   "outputs": [
    {
     "name": "stdout",
     "output_type": "stream",
     "text": [
      "0.05267195090769624\n"
     ]
    }
   ],
   "source": [
    "# Calculate false postive rate - predicting churn when customer does not have churned\n",
    "print(FP/ float(TN+FP))"
   ]
  },
  {
   "cell_type": "code",
   "execution_count": 101,
   "id": "4cdf12a8",
   "metadata": {},
   "outputs": [
    {
     "name": "stdout",
     "output_type": "stream",
     "text": [
      "0.9111686071582579\n"
     ]
    }
   ],
   "source": [
    "# positive predictive value \n",
    "print (TP / float(TP+FP))"
   ]
  },
  {
   "cell_type": "code",
   "execution_count": 102,
   "id": "ca7faa78",
   "metadata": {},
   "outputs": [
    {
     "name": "stdout",
     "output_type": "stream",
     "text": [
      "0.9384498480243161\n"
     ]
    }
   ],
   "source": [
    "# Negative predictive value\n",
    "print (TN / float(TN+ FN))"
   ]
  },
  {
   "cell_type": "markdown",
   "id": "f5070b12",
   "metadata": {},
   "source": [
    "### <span style=\"color:blue\">Step 11: Plotting the ROC Curve</span>"
   ]
  },
  {
   "cell_type": "code",
   "execution_count": 103,
   "id": "451e3714",
   "metadata": {},
   "outputs": [],
   "source": [
    "def draw_roc( actual, probs ):\n",
    "    fpr, tpr, thresholds = metrics.roc_curve( actual, probs,\n",
    "                                              drop_intermediate = False )\n",
    "    auc_score = metrics.roc_auc_score( actual, probs )\n",
    "    plt.figure(figsize=(5, 5))\n",
    "    plt.plot( fpr, tpr, label='ROC curve (area = %0.2f)' % auc_score )\n",
    "    plt.plot([0, 1], [0, 1], 'k--')\n",
    "    plt.xlim([0.0, 1.0])\n",
    "    plt.ylim([0.0, 1.05])\n",
    "    plt.xlabel('False Positive Rate or [1 - True Negative Rate]')\n",
    "    plt.ylabel('True Positive Rate')\n",
    "    plt.title('Receiver operating characteristic example')\n",
    "    plt.legend(loc=\"lower right\")\n",
    "    plt.show()\n",
    "\n",
    "    return None"
   ]
  },
  {
   "cell_type": "code",
   "execution_count": 104,
   "id": "48799520",
   "metadata": {},
   "outputs": [],
   "source": [
    "fpr, tpr, thresholds = metrics.roc_curve( y_train_pred_final.Converted, y_train_pred_final.Conversion_prob, drop_intermediate = False )"
   ]
  },
  {
   "cell_type": "code",
   "execution_count": 105,
   "id": "631f72ed",
   "metadata": {},
   "outputs": [
    {
     "data": {
      "image/png": "[encoded data removed]",
      "text/plain": [
       "<Figure size 360x360 with 1 Axes>"
      ]
     },
     "metadata": {},
     "output_type": "display_data"
    }
   ],
   "source": [
    "draw_roc(y_train_pred_final.Converted, y_train_pred_final.Conversion_prob)"
   ]
  },
  {
   "cell_type": "markdown",
   "id": "c0b35889",
   "metadata": {},
   "source": [
    "#### <span style=\"color:green\">Finding:</span>\n",
    "- ROC value of 0.96 indicates that the model has a high true positive rate and a low false positive rate, which is generally considered a good performance"
   ]
  },
  {
   "cell_type": "markdown",
   "id": "77fc40ef",
   "metadata": {},
   "source": [
    "### <span style=\"color:blue\">Step 12: Finding Optimal Cutoff Point</span>"
   ]
  },
  {
   "cell_type": "code",
   "execution_count": 106,
   "id": "c6327b0e",
   "metadata": {},
   "outputs": [
    {
     "data": {
      "text/html": [
       "<div>\n",
       "<style scoped>\n",
       "    .dataframe tbody tr th:only-of-type {\n",
       "        vertical-align: middle;\n",
       "    }\n",
       "\n",
       "    .dataframe tbody tr th {\n",
       "        vertical-align: top;\n",
       "    }\n",
       "\n",
       "    .dataframe thead th {\n",
       "        text-align: right;\n",
       "    }\n",
       "</style>\n",
       "<table border=\"1\" class=\"dataframe\">\n",
       "  <thead>\n",
       "    <tr style=\"text-align: right;\">\n",
       "      <th></th>\n",
       "      <th>Converted</th>\n",
       "      <th>Conversion_prob</th>\n",
       "      <th>ID</th>\n",
       "      <th>Predicted</th>\n",
       "      <th>0.0</th>\n",
       "      <th>0.1</th>\n",
       "      <th>0.2</th>\n",
       "      <th>0.3</th>\n",
       "      <th>0.4</th>\n",
       "      <th>0.5</th>\n",
       "      <th>0.6</th>\n",
       "      <th>0.7</th>\n",
       "      <th>0.8</th>\n",
       "      <th>0.9</th>\n",
       "    </tr>\n",
       "  </thead>\n",
       "  <tbody>\n",
       "    <tr>\n",
       "      <th>0</th>\n",
       "      <td>0</td>\n",
       "      <td>0.025492</td>\n",
       "      <td>3378</td>\n",
       "      <td>0</td>\n",
       "      <td>1</td>\n",
       "      <td>0</td>\n",
       "      <td>0</td>\n",
       "      <td>0</td>\n",
       "      <td>0</td>\n",
       "      <td>0</td>\n",
       "      <td>0</td>\n",
       "      <td>0</td>\n",
       "      <td>0</td>\n",
       "      <td>0</td>\n",
       "    </tr>\n",
       "    <tr>\n",
       "      <th>1</th>\n",
       "      <td>0</td>\n",
       "      <td>0.024532</td>\n",
       "      <td>2263</td>\n",
       "      <td>0</td>\n",
       "      <td>1</td>\n",
       "      <td>0</td>\n",
       "      <td>0</td>\n",
       "      <td>0</td>\n",
       "      <td>0</td>\n",
       "      <td>0</td>\n",
       "      <td>0</td>\n",
       "      <td>0</td>\n",
       "      <td>0</td>\n",
       "      <td>0</td>\n",
       "    </tr>\n",
       "    <tr>\n",
       "      <th>2</th>\n",
       "      <td>0</td>\n",
       "      <td>0.024532</td>\n",
       "      <td>4228</td>\n",
       "      <td>0</td>\n",
       "      <td>1</td>\n",
       "      <td>0</td>\n",
       "      <td>0</td>\n",
       "      <td>0</td>\n",
       "      <td>0</td>\n",
       "      <td>0</td>\n",
       "      <td>0</td>\n",
       "      <td>0</td>\n",
       "      <td>0</td>\n",
       "      <td>0</td>\n",
       "    </tr>\n",
       "    <tr>\n",
       "      <th>3</th>\n",
       "      <td>0</td>\n",
       "      <td>0.645719</td>\n",
       "      <td>940</td>\n",
       "      <td>1</td>\n",
       "      <td>1</td>\n",
       "      <td>1</td>\n",
       "      <td>1</td>\n",
       "      <td>1</td>\n",
       "      <td>1</td>\n",
       "      <td>1</td>\n",
       "      <td>1</td>\n",
       "      <td>0</td>\n",
       "      <td>0</td>\n",
       "      <td>0</td>\n",
       "    </tr>\n",
       "    <tr>\n",
       "      <th>4</th>\n",
       "      <td>0</td>\n",
       "      <td>0.098644</td>\n",
       "      <td>8688</td>\n",
       "      <td>0</td>\n",
       "      <td>1</td>\n",
       "      <td>0</td>\n",
       "      <td>0</td>\n",
       "      <td>0</td>\n",
       "      <td>0</td>\n",
       "      <td>0</td>\n",
       "      <td>0</td>\n",
       "      <td>0</td>\n",
       "      <td>0</td>\n",
       "      <td>0</td>\n",
       "    </tr>\n",
       "  </tbody>\n",
       "</table>\n",
       "</div>"
      ],
      "text/plain": [
       "   Converted  Conversion_prob    ID  Predicted  0.0  0.1  0.2  0.3  0.4  0.5  \\\n",
       "0          0         0.025492  3378          0    1    0    0    0    0    0   \n",
       "1          0         0.024532  2263          0    1    0    0    0    0    0   \n",
       "2          0         0.024532  4228          0    1    0    0    0    0    0   \n",
       "3          0         0.645719   940          1    1    1    1    1    1    1   \n",
       "4          0         0.098644  8688          0    1    0    0    0    0    0   \n",
       "\n",
       "   0.6  0.7  0.8  0.9  \n",
       "0    0    0    0    0  \n",
       "1    0    0    0    0  \n",
       "2    0    0    0    0  \n",
       "3    1    0    0    0  \n",
       "4    0    0    0    0  "
      ]
     },
     "execution_count": 106,
     "metadata": {},
     "output_type": "execute_result"
    }
   ],
   "source": [
    "# Let's create columns with different probability cutoffs \n",
    "numbers = [float(x)/10 for x in range(10)]\n",
    "for i in numbers:\n",
    "    y_train_pred_final[i]= y_train_pred_final.Conversion_prob.map(lambda x: 1 if x > i else 0)\n",
    "y_train_pred_final.head()"
   ]
  },
  {
   "cell_type": "code",
   "execution_count": 107,
   "id": "7160680b",
   "metadata": {},
   "outputs": [
    {
     "name": "stdout",
     "output_type": "stream",
     "text": [
      "     prob  accuracy     sensi     speci\n",
      "0.0   0.0  0.375937  1.000000  0.000000\n",
      "0.1   0.1  0.874900  0.935484  0.838405\n",
      "0.2   0.2  0.876017  0.933786  0.841217\n",
      "0.3   0.3  0.926919  0.898557  0.944004\n",
      "0.4   0.4  0.928355  0.896859  0.947328\n",
      "0.5   0.5  0.928355  0.896859  0.947328\n",
      "0.6   0.6  0.920377  0.848472  0.963692\n",
      "0.7   0.7  0.909047  0.782683  0.985170\n",
      "0.8   0.8  0.907292  0.778014  0.985170\n",
      "0.9   0.9  0.895644  0.741511  0.988494\n"
     ]
    }
   ],
   "source": [
    "# Now let's calculate accuracy sensitivity and specificity for various probability cutoffs.\n",
    "cutoff_df = pd.DataFrame( columns = ['prob','accuracy','sensi','speci'])\n",
    "\n",
    "num = [0.0,0.1,0.2,0.3,0.4,0.5,0.6,0.7,0.8,0.9]\n",
    "for i in num:\n",
    "    cm1 = metrics.confusion_matrix(y_train_pred_final.Converted, y_train_pred_final[i] )\n",
    "    total1=sum(sum(cm1))\n",
    "    accuracy = (cm1[0,0]+cm1[1,1])/total1\n",
    "    \n",
    "    speci = cm1[0,0]/(cm1[0,0]+cm1[0,1])\n",
    "    sensi = cm1[1,1]/(cm1[1,0]+cm1[1,1])\n",
    "    cutoff_df.loc[i] =[ i ,accuracy,sensi,speci]\n",
    "print(cutoff_df)"
   ]
  },
  {
   "cell_type": "code",
   "execution_count": 108,
   "id": "f9cae4a5",
   "metadata": {},
   "outputs": [
    {
     "data": {
      "image/png": "[encoded data removed]",
      "text/plain": [
       "<Figure size 432x288 with 1 Axes>"
      ]
     },
     "metadata": {},
     "output_type": "display_data"
    }
   ],
   "source": [
    "# Let's plot accuracy sensitivity and specificity for various probabilities.\n",
    "cutoff_df.plot.line(x='prob', y=['accuracy','sensi','speci'])\n",
    "plt.show()"
   ]
  },
  {
   "cell_type": "markdown",
   "id": "0d8d971f",
   "metadata": {},
   "source": [
    "#### <span style=\"color:green\">Finding:</span>\n",
    "- From the curve above, 0.28 is the optimum point to take it as a cutoff probability."
   ]
  },
  {
   "cell_type": "code",
   "execution_count": 109,
   "id": "60f658c1",
   "metadata": {},
   "outputs": [
    {
     "data": {
      "text/html": [
       "<div>\n",
       "<style scoped>\n",
       "    .dataframe tbody tr th:only-of-type {\n",
       "        vertical-align: middle;\n",
       "    }\n",
       "\n",
       "    .dataframe tbody tr th {\n",
       "        vertical-align: top;\n",
       "    }\n",
       "\n",
       "    .dataframe thead th {\n",
       "        text-align: right;\n",
       "    }\n",
       "</style>\n",
       "<table border=\"1\" class=\"dataframe\">\n",
       "  <thead>\n",
       "    <tr style=\"text-align: right;\">\n",
       "      <th></th>\n",
       "      <th>Converted</th>\n",
       "      <th>Conversion_prob</th>\n",
       "      <th>ID</th>\n",
       "      <th>Predicted</th>\n",
       "      <th>0.0</th>\n",
       "      <th>0.1</th>\n",
       "      <th>0.2</th>\n",
       "      <th>0.3</th>\n",
       "      <th>0.4</th>\n",
       "      <th>0.5</th>\n",
       "      <th>0.6</th>\n",
       "      <th>0.7</th>\n",
       "      <th>0.8</th>\n",
       "      <th>0.9</th>\n",
       "      <th>final_predicted</th>\n",
       "    </tr>\n",
       "  </thead>\n",
       "  <tbody>\n",
       "    <tr>\n",
       "      <th>0</th>\n",
       "      <td>0</td>\n",
       "      <td>0.025492</td>\n",
       "      <td>3378</td>\n",
       "      <td>0</td>\n",
       "      <td>1</td>\n",
       "      <td>0</td>\n",
       "      <td>0</td>\n",
       "      <td>0</td>\n",
       "      <td>0</td>\n",
       "      <td>0</td>\n",
       "      <td>0</td>\n",
       "      <td>0</td>\n",
       "      <td>0</td>\n",
       "      <td>0</td>\n",
       "      <td>0</td>\n",
       "    </tr>\n",
       "    <tr>\n",
       "      <th>1</th>\n",
       "      <td>0</td>\n",
       "      <td>0.024532</td>\n",
       "      <td>2263</td>\n",
       "      <td>0</td>\n",
       "      <td>1</td>\n",
       "      <td>0</td>\n",
       "      <td>0</td>\n",
       "      <td>0</td>\n",
       "      <td>0</td>\n",
       "      <td>0</td>\n",
       "      <td>0</td>\n",
       "      <td>0</td>\n",
       "      <td>0</td>\n",
       "      <td>0</td>\n",
       "      <td>0</td>\n",
       "    </tr>\n",
       "    <tr>\n",
       "      <th>2</th>\n",
       "      <td>0</td>\n",
       "      <td>0.024532</td>\n",
       "      <td>4228</td>\n",
       "      <td>0</td>\n",
       "      <td>1</td>\n",
       "      <td>0</td>\n",
       "      <td>0</td>\n",
       "      <td>0</td>\n",
       "      <td>0</td>\n",
       "      <td>0</td>\n",
       "      <td>0</td>\n",
       "      <td>0</td>\n",
       "      <td>0</td>\n",
       "      <td>0</td>\n",
       "      <td>0</td>\n",
       "    </tr>\n",
       "    <tr>\n",
       "      <th>3</th>\n",
       "      <td>0</td>\n",
       "      <td>0.645719</td>\n",
       "      <td>940</td>\n",
       "      <td>1</td>\n",
       "      <td>1</td>\n",
       "      <td>1</td>\n",
       "      <td>1</td>\n",
       "      <td>1</td>\n",
       "      <td>1</td>\n",
       "      <td>1</td>\n",
       "      <td>1</td>\n",
       "      <td>0</td>\n",
       "      <td>0</td>\n",
       "      <td>0</td>\n",
       "      <td>1</td>\n",
       "    </tr>\n",
       "    <tr>\n",
       "      <th>4</th>\n",
       "      <td>0</td>\n",
       "      <td>0.098644</td>\n",
       "      <td>8688</td>\n",
       "      <td>0</td>\n",
       "      <td>1</td>\n",
       "      <td>0</td>\n",
       "      <td>0</td>\n",
       "      <td>0</td>\n",
       "      <td>0</td>\n",
       "      <td>0</td>\n",
       "      <td>0</td>\n",
       "      <td>0</td>\n",
       "      <td>0</td>\n",
       "      <td>0</td>\n",
       "      <td>0</td>\n",
       "    </tr>\n",
       "  </tbody>\n",
       "</table>\n",
       "</div>"
      ],
      "text/plain": [
       "   Converted  Conversion_prob    ID  Predicted  0.0  0.1  0.2  0.3  0.4  0.5  \\\n",
       "0          0         0.025492  3378          0    1    0    0    0    0    0   \n",
       "1          0         0.024532  2263          0    1    0    0    0    0    0   \n",
       "2          0         0.024532  4228          0    1    0    0    0    0    0   \n",
       "3          0         0.645719   940          1    1    1    1    1    1    1   \n",
       "4          0         0.098644  8688          0    1    0    0    0    0    0   \n",
       "\n",
       "   0.6  0.7  0.8  0.9  final_predicted  \n",
       "0    0    0    0    0                0  \n",
       "1    0    0    0    0                0  \n",
       "2    0    0    0    0                0  \n",
       "3    1    0    0    0                1  \n",
       "4    0    0    0    0                0  "
      ]
     },
     "execution_count": 109,
     "metadata": {},
     "output_type": "execute_result"
    }
   ],
   "source": [
    "# If the probability of conversion is greater than 0.28, then the value will be 1, otherwise 0\n",
    "y_train_pred_final['final_predicted'] = y_train_pred_final.Conversion_prob.map( lambda x: 1 if x > 0.28 else 0)\n",
    "y_train_pred_final.head()"
   ]
  },
  {
   "cell_type": "code",
   "execution_count": 110,
   "id": "231c1f1b",
   "metadata": {},
   "outputs": [
    {
     "data": {
      "text/plain": [
       "0.9253231211105792"
      ]
     },
     "execution_count": 110,
     "metadata": {},
     "output_type": "execute_result"
    }
   ],
   "source": [
    "# Let's check the overall accuracy.\n",
    "metrics.accuracy_score(y_train_pred_final.Converted, y_train_pred_final.final_predicted)"
   ]
  },
  {
   "cell_type": "code",
   "execution_count": 111,
   "id": "289361af",
   "metadata": {},
   "outputs": [
    {
     "data": {
      "text/plain": [
       "array([[3668,  243],\n",
       "       [ 225, 2131]])"
      ]
     },
     "execution_count": 111,
     "metadata": {},
     "output_type": "execute_result"
    }
   ],
   "source": [
    "# creating confusion matrix using actual and predicted values\n",
    "confusion2 = metrics.confusion_matrix(y_train_pred_final.Converted, y_train_pred_final.final_predicted )\n",
    "confusion2"
   ]
  },
  {
   "cell_type": "code",
   "execution_count": 112,
   "id": "599b49a9",
   "metadata": {},
   "outputs": [],
   "source": [
    "TP = confusion2[1,1] # true positive \n",
    "TN = confusion2[0,0] # true negatives\n",
    "FP = confusion2[0,1] # false positives\n",
    "FN = confusion2[1,0] # false negatives"
   ]
  },
  {
   "cell_type": "code",
   "execution_count": 113,
   "id": "1e41e76f",
   "metadata": {},
   "outputs": [
    {
     "data": {
      "text/plain": [
       "0.9044991511035654"
      ]
     },
     "execution_count": 113,
     "metadata": {},
     "output_type": "execute_result"
    }
   ],
   "source": [
    "# Let's see the sensitivity of our logistic regression model\n",
    "TP / float(TP+FN)"
   ]
  },
  {
   "cell_type": "code",
   "execution_count": 114,
   "id": "a2239406",
   "metadata": {},
   "outputs": [
    {
     "data": {
      "text/plain": [
       "0.9378675530554845"
      ]
     },
     "execution_count": 114,
     "metadata": {},
     "output_type": "execute_result"
    }
   ],
   "source": [
    "# Let us calculate specificity\n",
    "TN / float(TN+FP)"
   ]
  },
  {
   "cell_type": "code",
   "execution_count": 115,
   "id": "a23267ff",
   "metadata": {},
   "outputs": [
    {
     "name": "stdout",
     "output_type": "stream",
     "text": [
      "0.06213244694451547\n"
     ]
    }
   ],
   "source": [
    "# Calculate false postive rate - predicting churn when customer does not have churned\n",
    "print(FP/ float(TN+FP))"
   ]
  },
  {
   "cell_type": "code",
   "execution_count": 116,
   "id": "3d74b31a",
   "metadata": {},
   "outputs": [
    {
     "name": "stdout",
     "output_type": "stream",
     "text": [
      "0.8976411120471778\n"
     ]
    }
   ],
   "source": [
    "# Positive predictive value \n",
    "print (TP / float(TP+FP))"
   ]
  },
  {
   "cell_type": "code",
   "execution_count": 117,
   "id": "e0350c82",
   "metadata": {},
   "outputs": [
    {
     "name": "stdout",
     "output_type": "stream",
     "text": [
      "0.9422039558181351\n"
     ]
    }
   ],
   "source": [
    "# Negative predictive value\n",
    "print (TN / float(TN+ FN))"
   ]
  },
  {
   "cell_type": "markdown",
   "id": "79fb1ecc",
   "metadata": {},
   "source": [
    "### <span style=\"color:blue\">Step 13: Precision and Recall</span>"
   ]
  },
  {
   "cell_type": "code",
   "execution_count": 118,
   "id": "60e7f098",
   "metadata": {},
   "outputs": [
    {
     "data": {
      "text/plain": [
       "array([[3705,  206],\n",
       "       [ 243, 2113]])"
      ]
     },
     "execution_count": 118,
     "metadata": {},
     "output_type": "execute_result"
    }
   ],
   "source": [
    "confusion = metrics.confusion_matrix(y_train_pred_final.Converted, y_train_pred_final.Predicted )\n",
    "confusion"
   ]
  },
  {
   "cell_type": "code",
   "execution_count": 119,
   "id": "ad21a34f",
   "metadata": {},
   "outputs": [
    {
     "data": {
      "text/plain": [
       "0.9111686071582579"
      ]
     },
     "execution_count": 119,
     "metadata": {},
     "output_type": "execute_result"
    }
   ],
   "source": [
    "# Precision\n",
    "precision_score(y_train_pred_final.Converted, y_train_pred_final.Predicted)"
   ]
  },
  {
   "cell_type": "code",
   "execution_count": 120,
   "id": "7fcbd44b",
   "metadata": {},
   "outputs": [
    {
     "data": {
      "text/plain": [
       "0.8968590831918506"
      ]
     },
     "execution_count": 120,
     "metadata": {},
     "output_type": "execute_result"
    }
   ],
   "source": [
    "# Recall\n",
    "recall_score(y_train_pred_final.Converted, y_train_pred_final.Predicted)"
   ]
  },
  {
   "cell_type": "code",
   "execution_count": 121,
   "id": "13d217df",
   "metadata": {},
   "outputs": [],
   "source": [
    "# Precision and recall tradeoff\n",
    "p, r, thresholds = precision_recall_curve(y_train_pred_final.Converted, y_train_pred_final.Conversion_prob)"
   ]
  },
  {
   "cell_type": "code",
   "execution_count": 122,
   "id": "a6e5f8d5",
   "metadata": {},
   "outputs": [
    {
     "data": {
      "image/png": "[encoded data removed]",
      "text/plain": [
       "<Figure size 432x288 with 1 Axes>"
      ]
     },
     "metadata": {},
     "output_type": "display_data"
    }
   ],
   "source": [
    "plt.plot(thresholds, p[:-1], \"g-\")\n",
    "plt.plot(thresholds, r[:-1], \"r-\")\n",
    "plt.show()"
   ]
  },
  {
   "cell_type": "markdown",
   "id": "03a48922",
   "metadata": {},
   "source": [
    "### <span style=\"color:blue\">Step 14: Making predictions on the test set</span>"
   ]
  },
  {
   "cell_type": "code",
   "execution_count": 123,
   "id": "01e2f556",
   "metadata": {},
   "outputs": [
    {
     "data": {
      "text/html": [
       "<div>\n",
       "<style scoped>\n",
       "    .dataframe tbody tr th:only-of-type {\n",
       "        vertical-align: middle;\n",
       "    }\n",
       "\n",
       "    .dataframe tbody tr th {\n",
       "        vertical-align: top;\n",
       "    }\n",
       "\n",
       "    .dataframe thead th {\n",
       "        text-align: right;\n",
       "    }\n",
       "</style>\n",
       "<table border=\"1\" class=\"dataframe\">\n",
       "  <thead>\n",
       "    <tr style=\"text-align: right;\">\n",
       "      <th></th>\n",
       "      <th>Do Not Email</th>\n",
       "      <th>Last Activity_Converted to Lead</th>\n",
       "      <th>Last Activity_Had a Phone Conversation</th>\n",
       "      <th>Last Activity_Olark Chat Conversation</th>\n",
       "      <th>What is your current occupation_Not provided</th>\n",
       "      <th>Last Notable Activity_SMS Sent</th>\n",
       "      <th>Last Notable Activity_Unsubscribed</th>\n",
       "      <th>Grouped Tags_EINS / Others</th>\n",
       "      <th>Grouped Tags_Interested in other courses</th>\n",
       "      <th>Grouped Tags_Not Reachable</th>\n",
       "      <th>Grouped Tags_Not interested / eligible</th>\n",
       "      <th>Grouped Tags_Not provided</th>\n",
       "      <th>Grouped Tags_Others</th>\n",
       "    </tr>\n",
       "  </thead>\n",
       "  <tbody>\n",
       "    <tr>\n",
       "      <th>5098</th>\n",
       "      <td>0</td>\n",
       "      <td>0</td>\n",
       "      <td>0</td>\n",
       "      <td>1</td>\n",
       "      <td>1</td>\n",
       "      <td>0</td>\n",
       "      <td>0</td>\n",
       "      <td>0</td>\n",
       "      <td>0</td>\n",
       "      <td>0</td>\n",
       "      <td>0</td>\n",
       "      <td>1</td>\n",
       "      <td>0</td>\n",
       "    </tr>\n",
       "    <tr>\n",
       "      <th>4531</th>\n",
       "      <td>0</td>\n",
       "      <td>0</td>\n",
       "      <td>0</td>\n",
       "      <td>0</td>\n",
       "      <td>0</td>\n",
       "      <td>1</td>\n",
       "      <td>0</td>\n",
       "      <td>0</td>\n",
       "      <td>0</td>\n",
       "      <td>0</td>\n",
       "      <td>0</td>\n",
       "      <td>0</td>\n",
       "      <td>0</td>\n",
       "    </tr>\n",
       "    <tr>\n",
       "      <th>3181</th>\n",
       "      <td>0</td>\n",
       "      <td>0</td>\n",
       "      <td>0</td>\n",
       "      <td>0</td>\n",
       "      <td>1</td>\n",
       "      <td>1</td>\n",
       "      <td>0</td>\n",
       "      <td>0</td>\n",
       "      <td>0</td>\n",
       "      <td>0</td>\n",
       "      <td>0</td>\n",
       "      <td>1</td>\n",
       "      <td>0</td>\n",
       "    </tr>\n",
       "    <tr>\n",
       "      <th>7457</th>\n",
       "      <td>0</td>\n",
       "      <td>0</td>\n",
       "      <td>0</td>\n",
       "      <td>0</td>\n",
       "      <td>0</td>\n",
       "      <td>0</td>\n",
       "      <td>0</td>\n",
       "      <td>0</td>\n",
       "      <td>0</td>\n",
       "      <td>1</td>\n",
       "      <td>0</td>\n",
       "      <td>0</td>\n",
       "      <td>0</td>\n",
       "    </tr>\n",
       "    <tr>\n",
       "      <th>6974</th>\n",
       "      <td>0</td>\n",
       "      <td>0</td>\n",
       "      <td>0</td>\n",
       "      <td>0</td>\n",
       "      <td>0</td>\n",
       "      <td>1</td>\n",
       "      <td>0</td>\n",
       "      <td>0</td>\n",
       "      <td>0</td>\n",
       "      <td>0</td>\n",
       "      <td>0</td>\n",
       "      <td>0</td>\n",
       "      <td>0</td>\n",
       "    </tr>\n",
       "  </tbody>\n",
       "</table>\n",
       "</div>"
      ],
      "text/plain": [
       "      Do Not Email  Last Activity_Converted to Lead  \\\n",
       "5098             0                                0   \n",
       "4531             0                                0   \n",
       "3181             0                                0   \n",
       "7457             0                                0   \n",
       "6974             0                                0   \n",
       "\n",
       "      Last Activity_Had a Phone Conversation  \\\n",
       "5098                                       0   \n",
       "4531                                       0   \n",
       "3181                                       0   \n",
       "7457                                       0   \n",
       "6974                                       0   \n",
       "\n",
       "      Last Activity_Olark Chat Conversation  \\\n",
       "5098                                      1   \n",
       "4531                                      0   \n",
       "3181                                      0   \n",
       "7457                                      0   \n",
       "6974                                      0   \n",
       "\n",
       "      What is your current occupation_Not provided  \\\n",
       "5098                                             1   \n",
       "4531                                             0   \n",
       "3181                                             1   \n",
       "7457                                             0   \n",
       "6974                                             0   \n",
       "\n",
       "      Last Notable Activity_SMS Sent  Last Notable Activity_Unsubscribed  \\\n",
       "5098                               0                                   0   \n",
       "4531                               1                                   0   \n",
       "3181                               1                                   0   \n",
       "7457                               0                                   0   \n",
       "6974                               1                                   0   \n",
       "\n",
       "      Grouped Tags_EINS / Others  Grouped Tags_Interested in other courses  \\\n",
       "5098                           0                                         0   \n",
       "4531                           0                                         0   \n",
       "3181                           0                                         0   \n",
       "7457                           0                                         0   \n",
       "6974                           0                                         0   \n",
       "\n",
       "      Grouped Tags_Not Reachable  Grouped Tags_Not interested / eligible  \\\n",
       "5098                           0                                       0   \n",
       "4531                           0                                       0   \n",
       "3181                           0                                       0   \n",
       "7457                           1                                       0   \n",
       "6974                           0                                       0   \n",
       "\n",
       "      Grouped Tags_Not provided  Grouped Tags_Others  \n",
       "5098                          1                    0  \n",
       "4531                          0                    0  \n",
       "3181                          1                    0  \n",
       "7457                          0                    0  \n",
       "6974                          0                    0  "
      ]
     },
     "execution_count": 123,
     "metadata": {},
     "output_type": "execute_result"
    }
   ],
   "source": [
    "X_test = X_test[col]\n",
    "X_test.head()"
   ]
  },
  {
   "cell_type": "code",
   "execution_count": 124,
   "id": "39c42ddb",
   "metadata": {},
   "outputs": [],
   "source": [
    "X_test_sm = sm.add_constant(X_test)"
   ]
  },
  {
   "cell_type": "code",
   "execution_count": 125,
   "id": "d2122d67",
   "metadata": {},
   "outputs": [
    {
     "data": {
      "text/plain": [
       "5098    0.024532\n",
       "4531    0.996430\n",
       "3181    0.544466\n",
       "7457    0.024340\n",
       "6974    0.996430\n",
       "8327    0.854509\n",
       "5761    0.024340\n",
       "7150    0.962347\n",
       "5992    0.962347\n",
       "1138    0.645719\n",
       "dtype: float64"
      ]
     },
     "execution_count": 125,
     "metadata": {},
     "output_type": "execute_result"
    }
   ],
   "source": [
    "# Making predictions on the test set\n",
    "y_test_pred = res.predict(X_test_sm)\n",
    "y_test_pred[:10]"
   ]
  },
  {
   "cell_type": "code",
   "execution_count": 126,
   "id": "2b0f4485",
   "metadata": {},
   "outputs": [],
   "source": [
    "# Converting y_pred to a dataframe which is an array\n",
    "y_pred_1 = pd.DataFrame(y_test_pred)"
   ]
  },
  {
   "cell_type": "code",
   "execution_count": 127,
   "id": "98b7ef7d",
   "metadata": {},
   "outputs": [
    {
     "data": {
      "text/html": [
       "<div>\n",
       "<style scoped>\n",
       "    .dataframe tbody tr th:only-of-type {\n",
       "        vertical-align: middle;\n",
       "    }\n",
       "\n",
       "    .dataframe tbody tr th {\n",
       "        vertical-align: top;\n",
       "    }\n",
       "\n",
       "    .dataframe thead th {\n",
       "        text-align: right;\n",
       "    }\n",
       "</style>\n",
       "<table border=\"1\" class=\"dataframe\">\n",
       "  <thead>\n",
       "    <tr style=\"text-align: right;\">\n",
       "      <th></th>\n",
       "      <th>0</th>\n",
       "    </tr>\n",
       "  </thead>\n",
       "  <tbody>\n",
       "    <tr>\n",
       "      <th>5098</th>\n",
       "      <td>0.024532</td>\n",
       "    </tr>\n",
       "    <tr>\n",
       "      <th>4531</th>\n",
       "      <td>0.996430</td>\n",
       "    </tr>\n",
       "    <tr>\n",
       "      <th>3181</th>\n",
       "      <td>0.544466</td>\n",
       "    </tr>\n",
       "    <tr>\n",
       "      <th>7457</th>\n",
       "      <td>0.024340</td>\n",
       "    </tr>\n",
       "    <tr>\n",
       "      <th>6974</th>\n",
       "      <td>0.996430</td>\n",
       "    </tr>\n",
       "  </tbody>\n",
       "</table>\n",
       "</div>"
      ],
      "text/plain": [
       "             0\n",
       "5098  0.024532\n",
       "4531  0.996430\n",
       "3181  0.544466\n",
       "7457  0.024340\n",
       "6974  0.996430"
      ]
     },
     "execution_count": 127,
     "metadata": {},
     "output_type": "execute_result"
    }
   ],
   "source": [
    "# Let's see the head\n",
    "y_pred_1.head()"
   ]
  },
  {
   "cell_type": "code",
   "execution_count": 128,
   "id": "58e3d911",
   "metadata": {},
   "outputs": [],
   "source": [
    "# Converting y_test to dataframe\n",
    "y_test_df = pd.DataFrame(y_test)"
   ]
  },
  {
   "cell_type": "code",
   "execution_count": 129,
   "id": "21927380",
   "metadata": {},
   "outputs": [],
   "source": [
    "# Putting ID to index\n",
    "y_test_df['ID'] = y_test_df.index"
   ]
  },
  {
   "cell_type": "code",
   "execution_count": 130,
   "id": "61fcfad9",
   "metadata": {},
   "outputs": [],
   "source": [
    "# Removing index for both dataframes to append them side by side \n",
    "y_pred_1.reset_index(drop=True, inplace=True)\n",
    "y_test_df.reset_index(drop=True, inplace=True)"
   ]
  },
  {
   "cell_type": "code",
   "execution_count": 131,
   "id": "dcf42447",
   "metadata": {},
   "outputs": [],
   "source": [
    "# Appending y_test_df and y_pred_1\n",
    "y_pred_final = pd.concat([y_test_df, y_pred_1],axis=1)"
   ]
  },
  {
   "cell_type": "code",
   "execution_count": 132,
   "id": "5db312f0",
   "metadata": {},
   "outputs": [
    {
     "data": {
      "text/html": [
       "<div>\n",
       "<style scoped>\n",
       "    .dataframe tbody tr th:only-of-type {\n",
       "        vertical-align: middle;\n",
       "    }\n",
       "\n",
       "    .dataframe tbody tr th {\n",
       "        vertical-align: top;\n",
       "    }\n",
       "\n",
       "    .dataframe thead th {\n",
       "        text-align: right;\n",
       "    }\n",
       "</style>\n",
       "<table border=\"1\" class=\"dataframe\">\n",
       "  <thead>\n",
       "    <tr style=\"text-align: right;\">\n",
       "      <th></th>\n",
       "      <th>Converted</th>\n",
       "      <th>ID</th>\n",
       "      <th>0</th>\n",
       "    </tr>\n",
       "  </thead>\n",
       "  <tbody>\n",
       "    <tr>\n",
       "      <th>0</th>\n",
       "      <td>0</td>\n",
       "      <td>5098</td>\n",
       "      <td>0.024532</td>\n",
       "    </tr>\n",
       "    <tr>\n",
       "      <th>1</th>\n",
       "      <td>1</td>\n",
       "      <td>4531</td>\n",
       "      <td>0.996430</td>\n",
       "    </tr>\n",
       "    <tr>\n",
       "      <th>2</th>\n",
       "      <td>0</td>\n",
       "      <td>3181</td>\n",
       "      <td>0.544466</td>\n",
       "    </tr>\n",
       "    <tr>\n",
       "      <th>3</th>\n",
       "      <td>0</td>\n",
       "      <td>7457</td>\n",
       "      <td>0.024340</td>\n",
       "    </tr>\n",
       "    <tr>\n",
       "      <th>4</th>\n",
       "      <td>1</td>\n",
       "      <td>6974</td>\n",
       "      <td>0.996430</td>\n",
       "    </tr>\n",
       "  </tbody>\n",
       "</table>\n",
       "</div>"
      ],
      "text/plain": [
       "   Converted    ID         0\n",
       "0          0  5098  0.024532\n",
       "1          1  4531  0.996430\n",
       "2          0  3181  0.544466\n",
       "3          0  7457  0.024340\n",
       "4          1  6974  0.996430"
      ]
     },
     "execution_count": 132,
     "metadata": {},
     "output_type": "execute_result"
    }
   ],
   "source": [
    "y_pred_final.head()"
   ]
  },
  {
   "cell_type": "code",
   "execution_count": 133,
   "id": "436b3f7c",
   "metadata": {},
   "outputs": [],
   "source": [
    "# Renaming the column \n",
    "y_pred_final= y_pred_final.rename(columns={ 0 : 'Conversion_Prob'})"
   ]
  },
  {
   "cell_type": "code",
   "execution_count": 134,
   "id": "21660d9c",
   "metadata": {},
   "outputs": [],
   "source": [
    "# Rearranging the columns\n",
    "y_pred_final = y_pred_final.reindex(['ID','Converted','Conversion_Prob'], axis=1)"
   ]
  },
  {
   "cell_type": "code",
   "execution_count": 135,
   "id": "8a3d736a",
   "metadata": {},
   "outputs": [
    {
     "data": {
      "text/html": [
       "<div>\n",
       "<style scoped>\n",
       "    .dataframe tbody tr th:only-of-type {\n",
       "        vertical-align: middle;\n",
       "    }\n",
       "\n",
       "    .dataframe tbody tr th {\n",
       "        vertical-align: top;\n",
       "    }\n",
       "\n",
       "    .dataframe thead th {\n",
       "        text-align: right;\n",
       "    }\n",
       "</style>\n",
       "<table border=\"1\" class=\"dataframe\">\n",
       "  <thead>\n",
       "    <tr style=\"text-align: right;\">\n",
       "      <th></th>\n",
       "      <th>ID</th>\n",
       "      <th>Converted</th>\n",
       "      <th>Conversion_Prob</th>\n",
       "    </tr>\n",
       "  </thead>\n",
       "  <tbody>\n",
       "    <tr>\n",
       "      <th>0</th>\n",
       "      <td>5098</td>\n",
       "      <td>0</td>\n",
       "      <td>0.024532</td>\n",
       "    </tr>\n",
       "    <tr>\n",
       "      <th>1</th>\n",
       "      <td>4531</td>\n",
       "      <td>1</td>\n",
       "      <td>0.996430</td>\n",
       "    </tr>\n",
       "    <tr>\n",
       "      <th>2</th>\n",
       "      <td>3181</td>\n",
       "      <td>0</td>\n",
       "      <td>0.544466</td>\n",
       "    </tr>\n",
       "    <tr>\n",
       "      <th>3</th>\n",
       "      <td>7457</td>\n",
       "      <td>0</td>\n",
       "      <td>0.024340</td>\n",
       "    </tr>\n",
       "    <tr>\n",
       "      <th>4</th>\n",
       "      <td>6974</td>\n",
       "      <td>1</td>\n",
       "      <td>0.996430</td>\n",
       "    </tr>\n",
       "  </tbody>\n",
       "</table>\n",
       "</div>"
      ],
      "text/plain": [
       "     ID  Converted  Conversion_Prob\n",
       "0  5098          0         0.024532\n",
       "1  4531          1         0.996430\n",
       "2  3181          0         0.544466\n",
       "3  7457          0         0.024340\n",
       "4  6974          1         0.996430"
      ]
     },
     "execution_count": 135,
     "metadata": {},
     "output_type": "execute_result"
    }
   ],
   "source": [
    "# Let's see the head of y_pred_final\n",
    "y_pred_final.head()"
   ]
  },
  {
   "cell_type": "code",
   "execution_count": 136,
   "id": "4c9206bc",
   "metadata": {},
   "outputs": [
    {
     "data": {
      "text/html": [
       "<div>\n",
       "<style scoped>\n",
       "    .dataframe tbody tr th:only-of-type {\n",
       "        vertical-align: middle;\n",
       "    }\n",
       "\n",
       "    .dataframe tbody tr th {\n",
       "        vertical-align: top;\n",
       "    }\n",
       "\n",
       "    .dataframe thead th {\n",
       "        text-align: right;\n",
       "    }\n",
       "</style>\n",
       "<table border=\"1\" class=\"dataframe\">\n",
       "  <thead>\n",
       "    <tr style=\"text-align: right;\">\n",
       "      <th></th>\n",
       "      <th>ID</th>\n",
       "      <th>Converted</th>\n",
       "      <th>Conversion_Prob</th>\n",
       "      <th>final_predicted</th>\n",
       "    </tr>\n",
       "  </thead>\n",
       "  <tbody>\n",
       "    <tr>\n",
       "      <th>0</th>\n",
       "      <td>5098</td>\n",
       "      <td>0</td>\n",
       "      <td>0.024532</td>\n",
       "      <td>0</td>\n",
       "    </tr>\n",
       "    <tr>\n",
       "      <th>1</th>\n",
       "      <td>4531</td>\n",
       "      <td>1</td>\n",
       "      <td>0.996430</td>\n",
       "      <td>1</td>\n",
       "    </tr>\n",
       "    <tr>\n",
       "      <th>2</th>\n",
       "      <td>3181</td>\n",
       "      <td>0</td>\n",
       "      <td>0.544466</td>\n",
       "      <td>1</td>\n",
       "    </tr>\n",
       "    <tr>\n",
       "      <th>3</th>\n",
       "      <td>7457</td>\n",
       "      <td>0</td>\n",
       "      <td>0.024340</td>\n",
       "      <td>0</td>\n",
       "    </tr>\n",
       "    <tr>\n",
       "      <th>4</th>\n",
       "      <td>6974</td>\n",
       "      <td>1</td>\n",
       "      <td>0.996430</td>\n",
       "      <td>1</td>\n",
       "    </tr>\n",
       "  </tbody>\n",
       "</table>\n",
       "</div>"
      ],
      "text/plain": [
       "     ID  Converted  Conversion_Prob  final_predicted\n",
       "0  5098          0         0.024532                0\n",
       "1  4531          1         0.996430                1\n",
       "2  3181          0         0.544466                1\n",
       "3  7457          0         0.024340                0\n",
       "4  6974          1         0.996430                1"
      ]
     },
     "execution_count": 136,
     "metadata": {},
     "output_type": "execute_result"
    }
   ],
   "source": [
    "y_pred_final['final_predicted'] = y_pred_final.Conversion_Prob.map(lambda x: 1 if x > 0.3 else 0)\n",
    "y_pred_final.head()"
   ]
  },
  {
   "cell_type": "code",
   "execution_count": 137,
   "id": "ebd0a823",
   "metadata": {},
   "outputs": [
    {
     "data": {
      "text/plain": [
       "0.9300074460163812"
      ]
     },
     "execution_count": 137,
     "metadata": {},
     "output_type": "execute_result"
    }
   ],
   "source": [
    "# Let's check the overall accuracy.\n",
    "metrics.accuracy_score(y_pred_final.Converted, y_pred_final.final_predicted)"
   ]
  },
  {
   "cell_type": "code",
   "execution_count": 138,
   "id": "6adb9abf",
   "metadata": {},
   "outputs": [
    {
     "data": {
      "text/plain": [
       "array([[1567,   89],\n",
       "       [  99,  931]])"
      ]
     },
     "execution_count": 138,
     "metadata": {},
     "output_type": "execute_result"
    }
   ],
   "source": [
    "confusion2 = metrics.confusion_matrix(y_pred_final.Converted, y_pred_final.final_predicted )\n",
    "confusion2"
   ]
  },
  {
   "cell_type": "code",
   "execution_count": 139,
   "id": "182eaed7",
   "metadata": {},
   "outputs": [],
   "source": [
    "TP = confusion2[1,1] # true positive \n",
    "TN = confusion2[0,0] # true negatives\n",
    "FP = confusion2[0,1] # false positives\n",
    "FN = confusion2[1,0] # false negatives"
   ]
  },
  {
   "cell_type": "code",
   "execution_count": 140,
   "id": "075dfea6",
   "metadata": {},
   "outputs": [
    {
     "data": {
      "text/plain": [
       "0.903883495145631"
      ]
     },
     "execution_count": 140,
     "metadata": {},
     "output_type": "execute_result"
    }
   ],
   "source": [
    "# Let's see the sensitivity of our logistic regression model\n",
    "TP / float(TP+FN)"
   ]
  },
  {
   "cell_type": "code",
   "execution_count": 141,
   "id": "441ef6f8",
   "metadata": {},
   "outputs": [
    {
     "data": {
      "text/plain": [
       "0.946256038647343"
      ]
     },
     "execution_count": 141,
     "metadata": {},
     "output_type": "execute_result"
    }
   ],
   "source": [
    "# Let us calculate specificity\n",
    "TN / float(TN+FP)"
   ]
  },
  {
   "cell_type": "markdown",
   "id": "a9d9697a",
   "metadata": {},
   "source": [
    "## <span style=\"color:green\">Finding:</span>\n",
    "\n",
    "Based on the given figures, it can be observed that the model has performed consistently well on both the train and test data with high accuracy, sensitivity, and specificity scores. The accuracy score of 0.93 indicates that 93% of the time, the model is correctly predicting whether a lead will be converted or not. The sensitivity score of 0.90 indicates that the model is able to correctly identify 90% of the leads that actually get converted. The specificity score of 0.94 on the train data and 0.95 on the test data indicates that the model is able to correctly identify 94% and 95% of the leads that do not get converted respectively. These scores indicate that the model is reliable and can be used for lead conversion prediction with a high degree of accuracy.\n",
    "\n",
    "<br>\n",
    "<div style=\"float:left; margin-right: 20px;\">\n",
    "    <table>\n",
    "        <tr>\n",
    "            <th></th>\n",
    "            <th>Train Data</th>\n",
    "            <th>Test Data</th>\n",
    "        </tr>\n",
    "        <tr>\n",
    "            <td>Accuracy</td>\n",
    "            <td>0.93</td>\n",
    "            <td>0.93</td>\n",
    "        </tr>\n",
    "        <tr>\n",
    "            <td>Sensitivity</td>\n",
    "            <td>0.90</td>\n",
    "            <td>0.90</td>\n",
    "        </tr>\n",
    "        <tr>\n",
    "            <td>Specificity</td>\n",
    "            <td>0.94</td>\n",
    "            <td>0.95</td>\n",
    "        </tr>\n",
    "    </table>\n",
    "</div>"
   ]
  },
  {
   "attachments": {},
   "cell_type": "markdown",
   "id": "540fee40",
   "metadata": {},
   "source": [
    "## <span style=\"color:purple\">Questions</span>\n",
    "1. Which are the top three variables in your model which contribute most towards the probability of a lead getting converted?"
   ]
  },
  {
   "cell_type": "code",
   "execution_count": 142,
   "id": "8247505e",
   "metadata": {},
   "outputs": [
    {
     "data": {
      "text/plain": [
       "Do Not Email                                   -1.69\n",
       "Last Activity_Converted to Lead                -1.84\n",
       "Last Activity_Had a Phone Conversation         -1.78\n",
       "Last Activity_Olark Chat Conversation          -1.47\n",
       "What is your current occupation_Not provided   -2.81\n",
       "Last Notable Activity_SMS Sent                  2.39\n",
       "Last Notable Activity_Unsubscribed              1.57\n",
       "Grouped Tags_EINS / Others                      3.08\n",
       "Grouped Tags_Interested in other courses       -6.83\n",
       "Grouped Tags_Not Reachable                     -6.93\n",
       "Grouped Tags_Not interested / eligible         -6.88\n",
       "Grouped Tags_Not provided                      -2.64\n",
       "Grouped Tags_Others                            -3.88\n",
       "dtype: float64"
      ]
     },
     "execution_count": 142,
     "metadata": {},
     "output_type": "execute_result"
    }
   ],
   "source": [
    "# Set the display format of the floating point numbers to two decimal places\n",
    "pd.options.display.float_format = '{:.2f}'.format\n",
    "\n",
    "# Extract the parameter estimates from the fitted model results starting from the second element \n",
    "# as the first element is the intercept\n",
    "new_params = res.params[1:]\n",
    "\n",
    "new_params"
   ]
  },
  {
   "cell_type": "code",
   "execution_count": 143,
   "id": "ac1d4ff6",
   "metadata": {},
   "outputs": [
    {
     "data": {
      "text/plain": [
       "Grouped Tags_EINS / Others                      100.00\n",
       "Last Notable Activity_SMS Sent                   77.66\n",
       "Last Notable Activity_Unsubscribed               51.11\n",
       "Last Activity_Olark Chat Conversation           -47.77\n",
       "Do Not Email                                    -54.86\n",
       "Last Activity_Had a Phone Conversation          -57.96\n",
       "Last Activity_Converted to Lead                 -59.70\n",
       "Grouped Tags_Not provided                       -85.78\n",
       "What is your current occupation_Not provided    -91.37\n",
       "Grouped Tags_Others                            -126.01\n",
       "Grouped Tags_Interested in other courses       -221.71\n",
       "Grouped Tags_Not interested / eligible         -223.64\n",
       "Grouped Tags_Not Reachable                     -225.18\n",
       "dtype: float64"
      ]
     },
     "execution_count": 143,
     "metadata": {},
     "output_type": "execute_result"
    }
   ],
   "source": [
    "# Normalize the coefficients to compare their importance\n",
    "imp_feat = new_params\n",
    "\n",
    "# Scale the coefficients by the maximum coefficient value and multiply by 100\n",
    "imp_feat = 100.0 * (imp_feat / imp_feat.max())\n",
    "imp_feat.sort_values(ascending = False)"
   ]
  },
  {
   "cell_type": "code",
   "execution_count": 144,
   "id": "ff8f9144",
   "metadata": {},
   "outputs": [
    {
     "data": {
      "image/png": "[encoded data removed]",
      "text/plain": [
       "<Figure size 576x432 with 1 Axes>"
      ]
     },
     "metadata": {},
     "output_type": "display_data"
    }
   ],
   "source": [
    "# create a horizontal bar chart\n",
    "imp_feat_sorted = imp_feat.sort_values()\n",
    "fig, ax = plt.subplots(figsize=(8,6))\n",
    "ax.barh(imp_feat_sorted.index, imp_feat_sorted.values, color='skyblue')\n",
    "\n",
    "# set x-axis limits\n",
    "ax.set_xlim([-250, 125])\n",
    "\n",
    "# add labels to x and y axes, and a title\n",
    "ax.set_xlabel('Contribution (%)', fontsize=12)\n",
    "ax.set_ylabel('Features', fontsize=12)\n",
    "ax.set_title('Feature Contribution', fontsize=14)\n",
    "\n",
    "# remove top and right borders\n",
    "ax.spines['top'].set_visible(False)\n",
    "ax.spines['right'].set_visible(False)\n",
    "\n",
    "# add annotations to the bars\n",
    "for i, v in enumerate(imp_feat_sorted.values):\n",
    "    ax.text(v + 10, i, str(round(v,2)), fontsize=12)\n",
    "\n",
    "# show the chart\n",
    "plt.show()"
   ]
  },
  {
   "cell_type": "code",
   "execution_count": 145,
   "id": "643d7dc8",
   "metadata": {},
   "outputs": [
    {
     "data": {
      "text/html": [
       "<div>\n",
       "<style scoped>\n",
       "    .dataframe tbody tr th:only-of-type {\n",
       "        vertical-align: middle;\n",
       "    }\n",
       "\n",
       "    .dataframe tbody tr th {\n",
       "        vertical-align: top;\n",
       "    }\n",
       "\n",
       "    .dataframe thead th {\n",
       "        text-align: right;\n",
       "    }\n",
       "</style>\n",
       "<table border=\"1\" class=\"dataframe\">\n",
       "  <thead>\n",
       "    <tr style=\"text-align: right;\">\n",
       "      <th></th>\n",
       "      <th>index</th>\n",
       "      <th>0</th>\n",
       "    </tr>\n",
       "  </thead>\n",
       "  <tbody>\n",
       "    <tr>\n",
       "      <th>7</th>\n",
       "      <td>Grouped Tags_EINS / Others</td>\n",
       "      <td>100.00</td>\n",
       "    </tr>\n",
       "    <tr>\n",
       "      <th>5</th>\n",
       "      <td>Last Notable Activity_SMS Sent</td>\n",
       "      <td>77.66</td>\n",
       "    </tr>\n",
       "    <tr>\n",
       "      <th>6</th>\n",
       "      <td>Last Notable Activity_Unsubscribed</td>\n",
       "      <td>51.11</td>\n",
       "    </tr>\n",
       "  </tbody>\n",
       "</table>\n",
       "</div>"
      ],
      "text/plain": [
       "                                index      0\n",
       "7          Grouped Tags_EINS / Others 100.00\n",
       "5      Last Notable Activity_SMS Sent  77.66\n",
       "6  Last Notable Activity_Unsubscribed  51.11"
      ]
     },
     "execution_count": 145,
     "metadata": {},
     "output_type": "execute_result"
    }
   ],
   "source": [
    "pd.DataFrame(imp_feat).reset_index().sort_values(by=0,ascending=False).head(3)"
   ]
  }
 ],
 "metadata": {
  "kernelspec": {
   "display_name": "Python 3 (ipykernel)",
   "language": "python",
   "name": "python3"
  },
  "language_info": {
   "codemirror_mode": {
    "name": "ipython",
    "version": 3
   },
   "file_extension": ".py",
   "mimetype": "text/x-python",
   "name": "python",
   "nbconvert_exporter": "python",
   "pygments_lexer": "ipython3",
   "version": "3.9.12"
  }
 },
 "nbformat": 4,
 "nbformat_minor": 5
}
